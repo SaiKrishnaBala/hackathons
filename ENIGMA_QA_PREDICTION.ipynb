{
 "cells": [
  {
   "cell_type": "code",
   "execution_count": 93,
   "metadata": {},
   "outputs": [],
   "source": [
    "import pandas as pd\n",
    "import numpy as np\n",
    "import lightgbm as lgb\n",
    "from sklearn.model_selection import train_test_split\n",
    "from sklearn.metrics import mean_squared_error\n",
    "from sklearn.model_selection import GridSearchCV\n",
    "from matplotlib import pyplot"
   ]
  },
  {
   "cell_type": "code",
   "execution_count": 94,
   "metadata": {},
   "outputs": [],
   "source": [
    "qa_train_df = pd.read_csv('train_NIR5Yl1.csv')\n",
    "qa_test_df = pd.read_csv('test_8i3B3FC.csv')"
   ]
  },
  {
   "cell_type": "code",
   "execution_count": 95,
   "metadata": {},
   "outputs": [
    {
     "name": "stdout",
     "output_type": "stream",
     "text": [
      "(330045, 7)\n",
      "Index(['ID', 'Tag', 'Reputation', 'Answers', 'Username', 'Views', 'Upvotes'], dtype='object')\n",
      "ID 330045 Tag 10 Reputation 16527 Answers 63 Username 141802 Views 82137 Upvotes 7239 \n",
      "(141448, 6)\n",
      "Index(['ID', 'Tag', 'Reputation', 'Answers', 'Username', 'Views'], dtype='object')\n",
      "ID 141448 Tag 10 Reputation 14098 Answers 58 Username 79351 Views 52807 \n"
     ]
    }
   ],
   "source": [
    "dfs = [qa_train_df, qa_test_df]\n",
    "for df in dfs:\n",
    "    print(df.shape)\n",
    "    print(df.columns)\n",
    "    for col in df.columns:\n",
    "        print(col, df[col].nunique(), end=' ')\n",
    "    print(end='\\n')"
   ]
  },
  {
   "cell_type": "code",
   "execution_count": 96,
   "metadata": {},
   "outputs": [],
   "source": [
    "# ID is a primary key column\n",
    "final_columns = list(set(qa_train_df.columns) - set({'ID'}))\n",
    "train_df = qa_train_df[final_columns]\n",
    "final_columns = list(set(qa_test_df.columns) - set({'ID'}))\n",
    "test_df = qa_test_df[final_columns]"
   ]
  },
  {
   "cell_type": "code",
   "execution_count": 97,
   "metadata": {},
   "outputs": [
    {
     "data": {
      "text/plain": [
       "{'boxes': [<matplotlib.lines.Line2D at 0x130fb4d68>],\n",
       " 'caps': [<matplotlib.lines.Line2D at 0x130fda7b8>,\n",
       "  <matplotlib.lines.Line2D at 0x130fdabe0>],\n",
       " 'fliers': [<matplotlib.lines.Line2D at 0x130fe1470>],\n",
       " 'means': [],\n",
       " 'medians': [<matplotlib.lines.Line2D at 0x130fe1048>],\n",
       " 'whiskers': [<matplotlib.lines.Line2D at 0x130fb4eb8>,\n",
       "  <matplotlib.lines.Line2D at 0x130fda390>]}"
      ]
     },
     "execution_count": 97,
     "metadata": {},
     "output_type": "execute_result"
    },
    {
     "data": {
      "image/png": "[encoded data removed]",
      "text/plain": [
       "<matplotlib.figure.Figure at 0x13a220400>"
      ]
     },
     "metadata": {},
     "output_type": "display_data"
    }
   ],
   "source": [
    "pyplot.boxplot(train_df.Reputation)"
   ]
  },
  {
   "cell_type": "code",
   "execution_count": 98,
   "metadata": {},
   "outputs": [
    {
     "data": {
      "text/html": [
       "<div>\n",
       "<style scoped>\n",
       "    .dataframe tbody tr th:only-of-type {\n",
       "        vertical-align: middle;\n",
       "    }\n",
       "\n",
       "    .dataframe tbody tr th {\n",
       "        vertical-align: top;\n",
       "    }\n",
       "\n",
       "    .dataframe thead th {\n",
       "        text-align: right;\n",
       "    }\n",
       "</style>\n",
       "<table border=\"1\" class=\"dataframe\">\n",
       "  <thead>\n",
       "    <tr style=\"text-align: right;\">\n",
       "      <th></th>\n",
       "      <th>Upvotes</th>\n",
       "      <th>Tag</th>\n",
       "      <th>Reputation</th>\n",
       "      <th>Views</th>\n",
       "      <th>Username</th>\n",
       "      <th>Answers</th>\n",
       "    </tr>\n",
       "  </thead>\n",
       "  <tbody>\n",
       "    <tr>\n",
       "      <th>64572</th>\n",
       "      <td>5384.0</td>\n",
       "      <td>j</td>\n",
       "      <td>813314.0</td>\n",
       "      <td>15905.0</td>\n",
       "      <td>11382</td>\n",
       "      <td>4.0</td>\n",
       "    </tr>\n",
       "    <tr>\n",
       "      <th>70073</th>\n",
       "      <td>5316.0</td>\n",
       "      <td>j</td>\n",
       "      <td>813364.0</td>\n",
       "      <td>3899.0</td>\n",
       "      <td>11382</td>\n",
       "      <td>5.0</td>\n",
       "    </tr>\n",
       "    <tr>\n",
       "      <th>74699</th>\n",
       "      <td>2152.0</td>\n",
       "      <td>s</td>\n",
       "      <td>813374.0</td>\n",
       "      <td>1666.0</td>\n",
       "      <td>11382</td>\n",
       "      <td>1.0</td>\n",
       "    </tr>\n",
       "    <tr>\n",
       "      <th>111929</th>\n",
       "      <td>18862.0</td>\n",
       "      <td>c</td>\n",
       "      <td>809973.0</td>\n",
       "      <td>25908.0</td>\n",
       "      <td>22724</td>\n",
       "      <td>6.0</td>\n",
       "    </tr>\n",
       "    <tr>\n",
       "      <th>134390</th>\n",
       "      <td>1961.0</td>\n",
       "      <td>j</td>\n",
       "      <td>813314.0</td>\n",
       "      <td>2260.0</td>\n",
       "      <td>11382</td>\n",
       "      <td>1.0</td>\n",
       "    </tr>\n",
       "    <tr>\n",
       "      <th>160728</th>\n",
       "      <td>11844.0</td>\n",
       "      <td>c</td>\n",
       "      <td>1042428.0</td>\n",
       "      <td>14307.0</td>\n",
       "      <td>46604</td>\n",
       "      <td>4.0</td>\n",
       "    </tr>\n",
       "    <tr>\n",
       "      <th>163006</th>\n",
       "      <td>4414.0</td>\n",
       "      <td>c</td>\n",
       "      <td>1042428.0</td>\n",
       "      <td>5987.0</td>\n",
       "      <td>46604</td>\n",
       "      <td>4.0</td>\n",
       "    </tr>\n",
       "    <tr>\n",
       "      <th>206130</th>\n",
       "      <td>21675.0</td>\n",
       "      <td>c</td>\n",
       "      <td>1042428.0</td>\n",
       "      <td>22088.0</td>\n",
       "      <td>46604</td>\n",
       "      <td>5.0</td>\n",
       "    </tr>\n",
       "    <tr>\n",
       "      <th>236399</th>\n",
       "      <td>15453.0</td>\n",
       "      <td>c</td>\n",
       "      <td>1042428.0</td>\n",
       "      <td>17510.0</td>\n",
       "      <td>46604</td>\n",
       "      <td>11.0</td>\n",
       "    </tr>\n",
       "    <tr>\n",
       "      <th>263169</th>\n",
       "      <td>24119.0</td>\n",
       "      <td>c</td>\n",
       "      <td>1042428.0</td>\n",
       "      <td>26083.0</td>\n",
       "      <td>46604</td>\n",
       "      <td>10.0</td>\n",
       "    </tr>\n",
       "    <tr>\n",
       "      <th>323830</th>\n",
       "      <td>29012.0</td>\n",
       "      <td>c</td>\n",
       "      <td>1042428.0</td>\n",
       "      <td>21245.0</td>\n",
       "      <td>46604</td>\n",
       "      <td>5.0</td>\n",
       "    </tr>\n",
       "  </tbody>\n",
       "</table>\n",
       "</div>"
      ],
      "text/plain": [
       "        Upvotes Tag  Reputation    Views  Username  Answers\n",
       "64572    5384.0   j    813314.0  15905.0     11382      4.0\n",
       "70073    5316.0   j    813364.0   3899.0     11382      5.0\n",
       "74699    2152.0   s    813374.0   1666.0     11382      1.0\n",
       "111929  18862.0   c    809973.0  25908.0     22724      6.0\n",
       "134390   1961.0   j    813314.0   2260.0     11382      1.0\n",
       "160728  11844.0   c   1042428.0  14307.0     46604      4.0\n",
       "163006   4414.0   c   1042428.0   5987.0     46604      4.0\n",
       "206130  21675.0   c   1042428.0  22088.0     46604      5.0\n",
       "236399  15453.0   c   1042428.0  17510.0     46604     11.0\n",
       "263169  24119.0   c   1042428.0  26083.0     46604     10.0\n",
       "323830  29012.0   c   1042428.0  21245.0     46604      5.0"
      ]
     },
     "execution_count": 98,
     "metadata": {},
     "output_type": "execute_result"
    }
   ],
   "source": [
    "train_df[train_df.Reputation > 800000]"
   ]
  },
  {
   "cell_type": "code",
   "execution_count": 99,
   "metadata": {},
   "outputs": [
    {
     "data": {
      "text/plain": [
       "{'boxes': [<matplotlib.lines.Line2D at 0x127a2e978>],\n",
       " 'caps': [<matplotlib.lines.Line2D at 0x124c363c8>,\n",
       "  <matplotlib.lines.Line2D at 0x124c367f0>],\n",
       " 'fliers': [<matplotlib.lines.Line2D at 0x124c3d080>],\n",
       " 'means': [],\n",
       " 'medians': [<matplotlib.lines.Line2D at 0x124c36c18>],\n",
       " 'whiskers': [<matplotlib.lines.Line2D at 0x127a2eac8>,\n",
       "  <matplotlib.lines.Line2D at 0x127a2ef60>]}"
      ]
     },
     "execution_count": 99,
     "metadata": {},
     "output_type": "execute_result"
    },
    {
     "data": {
      "image/png": "[encoded data removed]",
      "text/plain": [
       "<matplotlib.figure.Figure at 0x13a86c5f8>"
      ]
     },
     "metadata": {},
     "output_type": "display_data"
    }
   ],
   "source": [
    "pyplot.boxplot(train_df.Answers)"
   ]
  },
  {
   "cell_type": "code",
   "execution_count": 100,
   "metadata": {},
   "outputs": [
    {
     "data": {
      "text/plain": [
       "(15434, 6)"
      ]
     },
     "execution_count": 100,
     "metadata": {},
     "output_type": "execute_result"
    }
   ],
   "source": [
    "train_df[train_df.Answers > 10].shape"
   ]
  },
  {
   "cell_type": "code",
   "execution_count": 103,
   "metadata": {},
   "outputs": [
    {
     "data": {
      "text/plain": [
       "{'boxes': [<matplotlib.lines.Line2D at 0x1276e4748>],\n",
       " 'caps': [<matplotlib.lines.Line2D at 0x1276ea198>,\n",
       "  <matplotlib.lines.Line2D at 0x1276ea5c0>],\n",
       " 'fliers': [<matplotlib.lines.Line2D at 0x1276eae10>],\n",
       " 'means': [],\n",
       " 'medians': [<matplotlib.lines.Line2D at 0x1276ea9e8>],\n",
       " 'whiskers': [<matplotlib.lines.Line2D at 0x1276e4898>,\n",
       "  <matplotlib.lines.Line2D at 0x1276e4d30>]}"
      ]
     },
     "execution_count": 103,
     "metadata": {},
     "output_type": "execute_result"
    },
    {
     "data": {
      "image/png": "[encoded data removed]",
      "text/plain": [
       "<matplotlib.figure.Figure at 0x124d705f8>"
      ]
     },
     "metadata": {},
     "output_type": "display_data"
    }
   ],
   "source": [
    "pyplot.boxplot(train_df.Answers)"
   ]
  },
  {
   "cell_type": "code",
   "execution_count": 104,
   "metadata": {},
   "outputs": [
    {
     "data": {
      "text/plain": [
       "(array([31695., 72458., 20564., 32400., 72232., 14546., 43407., 12442.,\n",
       "        23323.,  6978.]),\n",
       " array([0. , 0.9, 1.8, 2.7, 3.6, 4.5, 5.4, 6.3, 7.2, 8.1, 9. ]),\n",
       " <a list of 10 Patch objects>)"
      ]
     },
     "execution_count": 104,
     "metadata": {},
     "output_type": "execute_result"
    },
    {
     "data": {
      "image/png": "[encoded data removed]",
      "text/plain": [
       "<matplotlib.figure.Figure at 0x1276c25c0>"
      ]
     },
     "metadata": {},
     "output_type": "display_data"
    }
   ],
   "source": [
    "pyplot.hist(train_df.Tag)"
   ]
  },
  {
   "cell_type": "code",
   "execution_count": 105,
   "metadata": {},
   "outputs": [
    {
     "data": {
      "text/plain": [
       "{'boxes': [<matplotlib.lines.Line2D at 0x131a83e48>],\n",
       " 'caps': [<matplotlib.lines.Line2D at 0x131a9e898>,\n",
       "  <matplotlib.lines.Line2D at 0x131a9ecc0>],\n",
       " 'fliers': [<matplotlib.lines.Line2D at 0x131aa5550>],\n",
       " 'means': [],\n",
       " 'medians': [<matplotlib.lines.Line2D at 0x131aa5128>],\n",
       " 'whiskers': [<matplotlib.lines.Line2D at 0x131a83f98>,\n",
       "  <matplotlib.lines.Line2D at 0x131a9e470>]}"
      ]
     },
     "execution_count": 105,
     "metadata": {},
     "output_type": "execute_result"
    },
    {
     "data": {
      "image/png": "[encoded data removed]",
      "text/plain": [
       "<matplotlib.figure.Figure at 0x12fa67748>"
      ]
     },
     "metadata": {},
     "output_type": "display_data"
    }
   ],
   "source": [
    "pyplot.boxplot(train_df.Views)"
   ]
  },
  {
   "cell_type": "code",
   "execution_count": 106,
   "metadata": {},
   "outputs": [
    {
     "data": {
      "text/plain": [
       "(1379, 6)"
      ]
     },
     "execution_count": 106,
     "metadata": {},
     "output_type": "execute_result"
    }
   ],
   "source": [
    "train_df[train_df.Views > 500000].shape"
   ]
  },
  {
   "cell_type": "code",
   "execution_count": 107,
   "metadata": {},
   "outputs": [
    {
     "data": {
      "text/plain": [
       "{'boxes': [<matplotlib.lines.Line2D at 0x1335f7be0>],\n",
       " 'caps': [<matplotlib.lines.Line2D at 0x133602630>,\n",
       "  <matplotlib.lines.Line2D at 0x133602a58>],\n",
       " 'fliers': [<matplotlib.lines.Line2D at 0x1336082e8>],\n",
       " 'means': [],\n",
       " 'medians': [<matplotlib.lines.Line2D at 0x133602e80>],\n",
       " 'whiskers': [<matplotlib.lines.Line2D at 0x1335f7d30>,\n",
       "  <matplotlib.lines.Line2D at 0x133602208>]}"
      ]
     },
     "execution_count": 107,
     "metadata": {},
     "output_type": "execute_result"
    },
    {
     "data": {
      "image/png": "[encoded data removed]",
      "text/plain": [
       "<matplotlib.figure.Figure at 0x131ab4748>"
      ]
     },
     "metadata": {},
     "output_type": "display_data"
    }
   ],
   "source": [
    "pyplot.boxplot(train_df.Upvotes)"
   ]
  },
  {
   "cell_type": "code",
   "execution_count": 108,
   "metadata": {},
   "outputs": [
    {
     "data": {
      "text/plain": [
       "(89, 6)"
      ]
     },
     "execution_count": 108,
     "metadata": {},
     "output_type": "execute_result"
    }
   ],
   "source": [
    "train_df[train_df.Upvotes > train_df.Views].shape"
   ]
  },
  {
   "cell_type": "markdown",
   "metadata": {},
   "source": [
    "### Removing outliers"
   ]
  },
  {
   "cell_type": "code",
   "execution_count": 109,
   "metadata": {},
   "outputs": [],
   "source": [
    "train_df = train_df[(train_df.Upvotes < train_df.Views) & (train_df.Views < 500000) &\n",
    "                    (train_df.Upvotes < 300000) & (train_df.Answers < 10) & (train_df.Reputation < 800000)\n",
    "                   ]"
   ]
  },
  {
   "cell_type": "code",
   "execution_count": 110,
   "metadata": {},
   "outputs": [
    {
     "name": "stderr",
     "output_type": "stream",
     "text": [
      "/anaconda3/lib/python3.6/site-packages/ipykernel_launcher.py:3: RuntimeWarning: divide by zero encountered in log\n",
      "  This is separate from the ipykernel package so we can avoid doing imports until\n",
      "/anaconda3/lib/python3.6/site-packages/ipykernel_launcher.py:4: RuntimeWarning: divide by zero encountered in log\n",
      "  after removing the cwd from sys.path.\n",
      "/anaconda3/lib/python3.6/site-packages/pandas/core/generic.py:3643: SettingWithCopyWarning: \n",
      "A value is trying to be set on a copy of a slice from a DataFrame.\n",
      "Try using .loc[row_indexer,col_indexer] = value instead\n",
      "\n",
      "See the caveats in the documentation: http://pandas.pydata.org/pandas-docs/stable/indexing.html#indexing-view-versus-copy\n",
      "  self[name] = value\n",
      "/anaconda3/lib/python3.6/site-packages/ipykernel_launcher.py:11: SettingWithCopyWarning: \n",
      "A value is trying to be set on a copy of a slice from a DataFrame.\n",
      "Try using .loc[row_indexer,col_indexer] = value instead\n",
      "\n",
      "See the caveats in the documentation: http://pandas.pydata.org/pandas-docs/stable/indexing.html#indexing-view-versus-copy\n",
      "  # This is added back by InteractiveShellApp.init_path()\n",
      "/anaconda3/lib/python3.6/site-packages/ipykernel_launcher.py:12: SettingWithCopyWarning: \n",
      "A value is trying to be set on a copy of a slice from a DataFrame.\n",
      "Try using .loc[row_indexer,col_indexer] = value instead\n",
      "\n",
      "See the caveats in the documentation: http://pandas.pydata.org/pandas-docs/stable/indexing.html#indexing-view-versus-copy\n",
      "  if sys.path[0] == '':\n"
     ]
    }
   ],
   "source": [
    "train_df.loc[train_df.Upvotes == 0, 'Upvotes'] = 0.01\n",
    "\n",
    "train_df.Reputation = np.log(train_df.Reputation)\n",
    "test_df.Reputation = np.log(test_df.Reputation)\n",
    "train_df.Views = np.log(train_df.Views)\n",
    "test_df.Views = np.log(test_df.Views)\n",
    "train_df.Upvotes = np.log(train_df.Upvotes)\n",
    "\n",
    "train_df['Tag'] = train_df['Tag'].astype('category')\n",
    "train_df['Username'] = train_df['Username'].astype('category')\n",
    "test_df['Tag'] = test_df['Tag'].astype('category')\n",
    "test_df['Username'] = test_df['Username'].astype('category')\n",
    "\n",
    "x = train_df[['Tag', 'Reputation', 'Answers', 'Username', 'Views']]\n",
    "y = train_df['Upvotes']\n",
    "\n",
    "x_train, x_test, y_train, y_test = train_test_split(x, y, test_size=0.4, random_state=44)\n",
    "train_data = lgb.Dataset(x_train, label=y_train, categorical_feature=[['Tag', 'Username']], free_raw_data=False)\n",
    "eval_data = lgb.Dataset(x_test, label=y_test, categorical_feature=[['Tag', 'Username']], free_raw_data=False)\n",
    "\n",
    "test_data = lgb.Dataset(test_df, categorical_feature=[['Tag', 'Username']], free_raw_data=False)"
   ]
  },
  {
   "cell_type": "code",
   "execution_count": 111,
   "metadata": {},
   "outputs": [],
   "source": [
    "model = lgb.LGBMRegressor(objective='regression',\n",
    "                      early_stopping = 10, num_iteration=100, num_leaves=31)"
   ]
  },
  {
   "cell_type": "code",
   "execution_count": 112,
   "metadata": {},
   "outputs": [
    {
     "name": "stderr",
     "output_type": "stream",
     "text": [
      "/anaconda3/lib/python3.6/site-packages/lightgbm/engine.py:102: UserWarning: Found `num_iteration` in params. Will use it instead of argument\n",
      "  warnings.warn(\"Found `{}` in params. Will use it instead of argument\".format(alias))\n",
      "/anaconda3/lib/python3.6/site-packages/lightgbm/engine.py:107: UserWarning: Found `early_stopping` in params. Will use it instead of argument\n",
      "  warnings.warn(\"Found `{}` in params. Will use it instead of argument\".format(alias))\n"
     ]
    },
    {
     "name": "stdout",
     "output_type": "stream",
     "text": [
      "[1]\tvalid_0's l2: 4.01441\n",
      "Training until validation scores don't improve for 10 rounds.\n",
      "[2]\tvalid_0's l2: 3.54503\n",
      "[3]\tvalid_0's l2: 3.15968\n",
      "[4]\tvalid_0's l2: 2.8442\n",
      "[5]\tvalid_0's l2: 2.58508\n",
      "[6]\tvalid_0's l2: 2.37168\n",
      "[7]\tvalid_0's l2: 2.19741\n",
      "[8]\tvalid_0's l2: 2.05301\n",
      "[9]\tvalid_0's l2: 1.93526\n",
      "[10]\tvalid_0's l2: 1.83826\n",
      "[11]\tvalid_0's l2: 1.75781\n",
      "[12]\tvalid_0's l2: 1.69029\n",
      "[13]\tvalid_0's l2: 1.63516\n",
      "[14]\tvalid_0's l2: 1.58945\n",
      "[15]\tvalid_0's l2: 1.5519\n",
      "[16]\tvalid_0's l2: 1.52041\n",
      "[17]\tvalid_0's l2: 1.49442\n",
      "[18]\tvalid_0's l2: 1.47245\n",
      "[19]\tvalid_0's l2: 1.45426\n",
      "[20]\tvalid_0's l2: 1.43927\n",
      "[21]\tvalid_0's l2: 1.42667\n",
      "[22]\tvalid_0's l2: 1.4163\n",
      "[23]\tvalid_0's l2: 1.40764\n",
      "[24]\tvalid_0's l2: 1.40021\n",
      "[25]\tvalid_0's l2: 1.39407\n",
      "[26]\tvalid_0's l2: 1.38888\n",
      "[27]\tvalid_0's l2: 1.38427\n",
      "[28]\tvalid_0's l2: 1.38053\n",
      "[29]\tvalid_0's l2: 1.37734\n",
      "[30]\tvalid_0's l2: 1.3747\n",
      "[31]\tvalid_0's l2: 1.37215\n",
      "[32]\tvalid_0's l2: 1.37022\n",
      "[33]\tvalid_0's l2: 1.36846\n",
      "[34]\tvalid_0's l2: 1.36716\n",
      "[35]\tvalid_0's l2: 1.3659\n",
      "[36]\tvalid_0's l2: 1.36515\n",
      "[37]\tvalid_0's l2: 1.36446\n",
      "[38]\tvalid_0's l2: 1.36377\n",
      "[39]\tvalid_0's l2: 1.36331\n",
      "[40]\tvalid_0's l2: 1.36297\n",
      "[41]\tvalid_0's l2: 1.36274\n",
      "[42]\tvalid_0's l2: 1.36251\n",
      "[43]\tvalid_0's l2: 1.36234\n",
      "[44]\tvalid_0's l2: 1.36215\n",
      "[45]\tvalid_0's l2: 1.36198\n",
      "[46]\tvalid_0's l2: 1.36172\n",
      "[47]\tvalid_0's l2: 1.36157\n",
      "[48]\tvalid_0's l2: 1.36159\n",
      "[49]\tvalid_0's l2: 1.36162\n",
      "[50]\tvalid_0's l2: 1.36155\n",
      "[51]\tvalid_0's l2: 1.36122\n",
      "[52]\tvalid_0's l2: 1.36134\n",
      "[53]\tvalid_0's l2: 1.36131\n",
      "[54]\tvalid_0's l2: 1.36148\n",
      "[55]\tvalid_0's l2: 1.36171\n",
      "[56]\tvalid_0's l2: 1.36159\n",
      "[57]\tvalid_0's l2: 1.36159\n",
      "[58]\tvalid_0's l2: 1.36154\n",
      "[59]\tvalid_0's l2: 1.36174\n",
      "[60]\tvalid_0's l2: 1.36169\n",
      "[61]\tvalid_0's l2: 1.36181\n",
      "Early stopping, best iteration is:\n",
      "[51]\tvalid_0's l2: 1.36122\n"
     ]
    },
    {
     "data": {
      "text/plain": [
       "LGBMRegressor(boosting_type='gbdt', class_weight=None, colsample_bytree=1.0,\n",
       "       early_stopping=10, learning_rate=0.1, max_depth=-1,\n",
       "       min_child_samples=20, min_child_weight=0.001, min_split_gain=0.0,\n",
       "       n_estimators=100, n_jobs=-1, num_iteration=100, num_leaves=31,\n",
       "       objective='regression', random_state=None, reg_alpha=0.0,\n",
       "       reg_lambda=0.0, silent=True, subsample=1.0,\n",
       "       subsample_for_bin=200000, subsample_freq=0)"
      ]
     },
     "execution_count": 112,
     "metadata": {},
     "output_type": "execute_result"
    }
   ],
   "source": [
    "model.fit(train_data.data, train_data.label, eval_set=[(eval_data.data, eval_data.label)],\n",
    "         early_stopping_rounds=10, eval_metric='mean_squared_error')"
   ]
  },
  {
   "cell_type": "code",
   "execution_count": 128,
   "metadata": {},
   "outputs": [],
   "source": [
    "param_grid = {\n",
    "    'learning_rate': [0.9, 0.95],\n",
    "    'bagging_fraction': [0.5, 0.75],\n",
    "    'min_data_in_leaf': [20, 30], \n",
    "    'max_depth': [20, 25, 30], #40\n",
    "    'num_leaves': [25, 30, 35], #35\n",
    "    'n_estimators': [30, 40] #40\n",
    "}\n",
    "\n",
    "model_gs = GridSearchCV(model, param_grid)"
   ]
  },
  {
   "cell_type": "code",
   "execution_count": null,
   "metadata": {},
   "outputs": [
    {
     "name": "stderr",
     "output_type": "stream",
     "text": [
      "/anaconda3/lib/python3.6/site-packages/lightgbm/engine.py:102: UserWarning: Found `num_iteration` in params. Will use it instead of argument\n",
      "  warnings.warn(\"Found `{}` in params. Will use it instead of argument\".format(alias))\n",
      "/anaconda3/lib/python3.6/site-packages/lightgbm/engine.py:107: UserWarning: Found `early_stopping` in params. Will use it instead of argument\n",
      "  warnings.warn(\"Found `{}` in params. Will use it instead of argument\".format(alias))\n"
     ]
    },
    {
     "name": "stdout",
     "output_type": "stream",
     "text": [
      "[1]\tvalid_0's l2: 4.42374\n",
      "Training until validation scores don't improve for 10 rounds.\n",
      "[2]\tvalid_0's l2: 4.14234\n",
      "[3]\tvalid_0's l2: 4.29621\n",
      "[4]\tvalid_0's l2: 4.34656\n",
      "[5]\tvalid_0's l2: 4.19382\n",
      "[6]\tvalid_0's l2: 4.18495\n",
      "[7]\tvalid_0's l2: 4.22549\n",
      "[8]\tvalid_0's l2: 4.19038\n",
      "[9]\tvalid_0's l2: 4.28305\n",
      "[10]\tvalid_0's l2: 4.28517\n",
      "[11]\tvalid_0's l2: 4.29234\n",
      "[12]\tvalid_0's l2: 4.29088\n",
      "Early stopping, best iteration is:\n",
      "[2]\tvalid_0's l2: 4.14234\n"
     ]
    },
    {
     "name": "stderr",
     "output_type": "stream",
     "text": [
      "/anaconda3/lib/python3.6/site-packages/lightgbm/engine.py:102: UserWarning: Found `num_iteration` in params. Will use it instead of argument\n",
      "  warnings.warn(\"Found `{}` in params. Will use it instead of argument\".format(alias))\n",
      "/anaconda3/lib/python3.6/site-packages/lightgbm/engine.py:107: UserWarning: Found `early_stopping` in params. Will use it instead of argument\n",
      "  warnings.warn(\"Found `{}` in params. Will use it instead of argument\".format(alias))\n"
     ]
    },
    {
     "name": "stdout",
     "output_type": "stream",
     "text": [
      "[1]\tvalid_0's l2: 4.5125\n",
      "Training until validation scores don't improve for 10 rounds.\n",
      "[2]\tvalid_0's l2: 4.53866\n",
      "[3]\tvalid_0's l2: 4.43287\n",
      "[4]\tvalid_0's l2: 4.65652\n",
      "[5]\tvalid_0's l2: 4.64833\n",
      "[6]\tvalid_0's l2: 4.58215\n",
      "[7]\tvalid_0's l2: 4.15519\n",
      "[8]\tvalid_0's l2: 4.23987\n",
      "[9]\tvalid_0's l2: 4.27072\n",
      "[10]\tvalid_0's l2: 4.59197\n",
      "[11]\tvalid_0's l2: 4.56954\n",
      "[12]\tvalid_0's l2: 4.57881\n",
      "[13]\tvalid_0's l2: 4.59565\n",
      "[14]\tvalid_0's l2: 4.68064\n",
      "[15]\tvalid_0's l2: 4.98702\n",
      "[16]\tvalid_0's l2: 4.98602\n",
      "[17]\tvalid_0's l2: 4.96543\n",
      "Early stopping, best iteration is:\n",
      "[7]\tvalid_0's l2: 4.15519\n"
     ]
    },
    {
     "name": "stderr",
     "output_type": "stream",
     "text": [
      "/anaconda3/lib/python3.6/site-packages/lightgbm/engine.py:102: UserWarning: Found `num_iteration` in params. Will use it instead of argument\n",
      "  warnings.warn(\"Found `{}` in params. Will use it instead of argument\".format(alias))\n",
      "/anaconda3/lib/python3.6/site-packages/lightgbm/engine.py:107: UserWarning: Found `early_stopping` in params. Will use it instead of argument\n",
      "  warnings.warn(\"Found `{}` in params. Will use it instead of argument\".format(alias))\n"
     ]
    },
    {
     "name": "stdout",
     "output_type": "stream",
     "text": [
      "[1]\tvalid_0's l2: 4.28374\n",
      "Training until validation scores don't improve for 10 rounds.\n",
      "[2]\tvalid_0's l2: 4.09295\n",
      "[3]\tvalid_0's l2: 4.13107\n",
      "[4]\tvalid_0's l2: 4.26069\n",
      "[5]\tvalid_0's l2: 4.25352\n",
      "[6]\tvalid_0's l2: 4.41912\n",
      "[7]\tvalid_0's l2: 4.46303\n",
      "[8]\tvalid_0's l2: 4.46259\n",
      "[9]\tvalid_0's l2: 4.52362\n",
      "[10]\tvalid_0's l2: 4.58428\n",
      "[11]\tvalid_0's l2: 4.62575\n",
      "[12]\tvalid_0's l2: 4.67141\n",
      "Early stopping, best iteration is:\n",
      "[2]\tvalid_0's l2: 4.09295\n"
     ]
    },
    {
     "name": "stderr",
     "output_type": "stream",
     "text": [
      "/anaconda3/lib/python3.6/site-packages/lightgbm/engine.py:102: UserWarning: Found `num_iteration` in params. Will use it instead of argument\n",
      "  warnings.warn(\"Found `{}` in params. Will use it instead of argument\".format(alias))\n",
      "/anaconda3/lib/python3.6/site-packages/lightgbm/engine.py:107: UserWarning: Found `early_stopping` in params. Will use it instead of argument\n",
      "  warnings.warn(\"Found `{}` in params. Will use it instead of argument\".format(alias))\n"
     ]
    },
    {
     "name": "stdout",
     "output_type": "stream",
     "text": [
      "[1]\tvalid_0's l2: 4.41045\n",
      "Training until validation scores don't improve for 10 rounds.\n",
      "[2]\tvalid_0's l2: 4.04704\n",
      "[3]\tvalid_0's l2: 4.18496\n",
      "[4]\tvalid_0's l2: 4.231\n",
      "[5]\tvalid_0's l2: 4.38873\n",
      "[6]\tvalid_0's l2: 4.40768\n",
      "[7]\tvalid_0's l2: 4.43323\n",
      "[8]\tvalid_0's l2: 4.73725\n",
      "[9]\tvalid_0's l2: 4.71374\n",
      "[10]\tvalid_0's l2: 4.69449\n",
      "[11]\tvalid_0's l2: 4.76032\n",
      "[12]\tvalid_0's l2: 4.77994\n",
      "Early stopping, best iteration is:\n",
      "[2]\tvalid_0's l2: 4.04704\n"
     ]
    },
    {
     "name": "stderr",
     "output_type": "stream",
     "text": [
      "/anaconda3/lib/python3.6/site-packages/lightgbm/engine.py:102: UserWarning: Found `num_iteration` in params. Will use it instead of argument\n",
      "  warnings.warn(\"Found `{}` in params. Will use it instead of argument\".format(alias))\n",
      "/anaconda3/lib/python3.6/site-packages/lightgbm/engine.py:107: UserWarning: Found `early_stopping` in params. Will use it instead of argument\n",
      "  warnings.warn(\"Found `{}` in params. Will use it instead of argument\".format(alias))\n"
     ]
    },
    {
     "name": "stdout",
     "output_type": "stream",
     "text": [
      "[1]\tvalid_0's l2: 4.49085\n",
      "Training until validation scores don't improve for 10 rounds.\n",
      "[2]\tvalid_0's l2: 4.50521\n",
      "[3]\tvalid_0's l2: 4.3747\n",
      "[4]\tvalid_0's l2: 4.49115\n",
      "[5]\tvalid_0's l2: 4.6405\n",
      "[6]\tvalid_0's l2: 4.64848\n",
      "[7]\tvalid_0's l2: 4.57868\n",
      "[8]\tvalid_0's l2: 4.60452\n",
      "[9]\tvalid_0's l2: 4.61919\n",
      "[10]\tvalid_0's l2: 4.60207\n",
      "[11]\tvalid_0's l2: 4.59855\n",
      "[12]\tvalid_0's l2: 4.62084\n",
      "[13]\tvalid_0's l2: 4.63741\n",
      "Early stopping, best iteration is:\n",
      "[3]\tvalid_0's l2: 4.3747\n"
     ]
    },
    {
     "name": "stderr",
     "output_type": "stream",
     "text": [
      "/anaconda3/lib/python3.6/site-packages/lightgbm/engine.py:102: UserWarning: Found `num_iteration` in params. Will use it instead of argument\n",
      "  warnings.warn(\"Found `{}` in params. Will use it instead of argument\".format(alias))\n",
      "/anaconda3/lib/python3.6/site-packages/lightgbm/engine.py:107: UserWarning: Found `early_stopping` in params. Will use it instead of argument\n",
      "  warnings.warn(\"Found `{}` in params. Will use it instead of argument\".format(alias))\n"
     ]
    },
    {
     "name": "stdout",
     "output_type": "stream",
     "text": [
      "[1]\tvalid_0's l2: 4.44461\n",
      "Training until validation scores don't improve for 10 rounds.\n",
      "[2]\tvalid_0's l2: 4.46334\n",
      "[3]\tvalid_0's l2: 4.44977\n",
      "[4]\tvalid_0's l2: 4.5429\n",
      "[5]\tvalid_0's l2: 4.53375\n",
      "[6]\tvalid_0's l2: 4.50998\n",
      "[7]\tvalid_0's l2: 4.53474\n",
      "[8]\tvalid_0's l2: 4.41224\n",
      "[9]\tvalid_0's l2: 4.41768\n",
      "[10]\tvalid_0's l2: 4.43835\n",
      "[11]\tvalid_0's l2: 4.42542\n",
      "[12]\tvalid_0's l2: 4.43027\n",
      "[13]\tvalid_0's l2: 4.43919\n",
      "[14]\tvalid_0's l2: 4.42361\n",
      "[15]\tvalid_0's l2: 4.41956\n",
      "[16]\tvalid_0's l2: 4.45613\n",
      "[17]\tvalid_0's l2: 4.45448\n",
      "[18]\tvalid_0's l2: 4.48171\n",
      "Early stopping, best iteration is:\n",
      "[8]\tvalid_0's l2: 4.41224\n"
     ]
    },
    {
     "name": "stderr",
     "output_type": "stream",
     "text": [
      "/anaconda3/lib/python3.6/site-packages/lightgbm/engine.py:102: UserWarning: Found `num_iteration` in params. Will use it instead of argument\n",
      "  warnings.warn(\"Found `{}` in params. Will use it instead of argument\".format(alias))\n",
      "/anaconda3/lib/python3.6/site-packages/lightgbm/engine.py:107: UserWarning: Found `early_stopping` in params. Will use it instead of argument\n",
      "  warnings.warn(\"Found `{}` in params. Will use it instead of argument\".format(alias))\n"
     ]
    },
    {
     "name": "stdout",
     "output_type": "stream",
     "text": [
      "[1]\tvalid_0's l2: 4.47986\n",
      "Training until validation scores don't improve for 10 rounds.\n",
      "[2]\tvalid_0's l2: 4.21474\n",
      "[3]\tvalid_0's l2: 4.24997\n",
      "[4]\tvalid_0's l2: 4.47354\n",
      "[5]\tvalid_0's l2: 4.45803\n",
      "[6]\tvalid_0's l2: 4.37992\n",
      "[7]\tvalid_0's l2: 4.38092\n",
      "[8]\tvalid_0's l2: 4.63681\n",
      "[9]\tvalid_0's l2: 4.67853\n",
      "[10]\tvalid_0's l2: 4.71361\n",
      "[11]\tvalid_0's l2: 4.73663\n",
      "[12]\tvalid_0's l2: 4.75391\n",
      "Early stopping, best iteration is:\n",
      "[2]\tvalid_0's l2: 4.21474\n"
     ]
    },
    {
     "name": "stderr",
     "output_type": "stream",
     "text": [
      "/anaconda3/lib/python3.6/site-packages/lightgbm/engine.py:102: UserWarning: Found `num_iteration` in params. Will use it instead of argument\n",
      "  warnings.warn(\"Found `{}` in params. Will use it instead of argument\".format(alias))\n",
      "/anaconda3/lib/python3.6/site-packages/lightgbm/engine.py:107: UserWarning: Found `early_stopping` in params. Will use it instead of argument\n",
      "  warnings.warn(\"Found `{}` in params. Will use it instead of argument\".format(alias))\n"
     ]
    },
    {
     "name": "stdout",
     "output_type": "stream",
     "text": [
      "[1]\tvalid_0's l2: 4.48705\n",
      "Training until validation scores don't improve for 10 rounds.\n",
      "[2]\tvalid_0's l2: 4.23873\n",
      "[3]\tvalid_0's l2: 4.56727\n",
      "[4]\tvalid_0's l2: 4.62751\n",
      "[5]\tvalid_0's l2: 4.65949\n",
      "[6]\tvalid_0's l2: 4.62444\n",
      "[7]\tvalid_0's l2: 4.56656\n",
      "[8]\tvalid_0's l2: 4.75687\n",
      "[9]\tvalid_0's l2: 4.73429\n",
      "[10]\tvalid_0's l2: 4.7365\n",
      "[11]\tvalid_0's l2: 4.75674\n",
      "[12]\tvalid_0's l2: 4.77309\n",
      "Early stopping, best iteration is:\n",
      "[2]\tvalid_0's l2: 4.23873\n"
     ]
    },
    {
     "name": "stderr",
     "output_type": "stream",
     "text": [
      "/anaconda3/lib/python3.6/site-packages/lightgbm/engine.py:102: UserWarning: Found `num_iteration` in params. Will use it instead of argument\n",
      "  warnings.warn(\"Found `{}` in params. Will use it instead of argument\".format(alias))\n",
      "/anaconda3/lib/python3.6/site-packages/lightgbm/engine.py:107: UserWarning: Found `early_stopping` in params. Will use it instead of argument\n",
      "  warnings.warn(\"Found `{}` in params. Will use it instead of argument\".format(alias))\n"
     ]
    },
    {
     "name": "stdout",
     "output_type": "stream",
     "text": [
      "[1]\tvalid_0's l2: 4.46737\n",
      "Training until validation scores don't improve for 10 rounds.\n",
      "[2]\tvalid_0's l2: 4.19124\n",
      "[3]\tvalid_0's l2: 4.26065\n",
      "[4]\tvalid_0's l2: 4.41842\n",
      "[5]\tvalid_0's l2: 4.51909\n",
      "[6]\tvalid_0's l2: 4.48295\n",
      "[7]\tvalid_0's l2: 4.96156\n",
      "[8]\tvalid_0's l2: 4.99249\n",
      "[9]\tvalid_0's l2: 4.94486\n",
      "[10]\tvalid_0's l2: 4.95788\n",
      "[11]\tvalid_0's l2: 4.93034\n",
      "[12]\tvalid_0's l2: 4.94565\n",
      "Early stopping, best iteration is:\n",
      "[2]\tvalid_0's l2: 4.19124\n"
     ]
    },
    {
     "name": "stderr",
     "output_type": "stream",
     "text": [
      "/anaconda3/lib/python3.6/site-packages/lightgbm/engine.py:102: UserWarning: Found `num_iteration` in params. Will use it instead of argument\n",
      "  warnings.warn(\"Found `{}` in params. Will use it instead of argument\".format(alias))\n",
      "/anaconda3/lib/python3.6/site-packages/lightgbm/engine.py:107: UserWarning: Found `early_stopping` in params. Will use it instead of argument\n",
      "  warnings.warn(\"Found `{}` in params. Will use it instead of argument\".format(alias))\n"
     ]
    },
    {
     "name": "stdout",
     "output_type": "stream",
     "text": [
      "[1]\tvalid_0's l2: 4.42374\n",
      "Training until validation scores don't improve for 10 rounds.\n",
      "[2]\tvalid_0's l2: 4.14234\n",
      "[3]\tvalid_0's l2: 4.29621\n",
      "[4]\tvalid_0's l2: 4.34656\n",
      "[5]\tvalid_0's l2: 4.19382\n",
      "[6]\tvalid_0's l2: 4.18495\n",
      "[7]\tvalid_0's l2: 4.22549\n",
      "[8]\tvalid_0's l2: 4.19038\n",
      "[9]\tvalid_0's l2: 4.28305\n",
      "[10]\tvalid_0's l2: 4.28517\n",
      "[11]\tvalid_0's l2: 4.29234\n",
      "[12]\tvalid_0's l2: 4.29088\n",
      "Early stopping, best iteration is:\n",
      "[2]\tvalid_0's l2: 4.14234\n"
     ]
    },
    {
     "name": "stderr",
     "output_type": "stream",
     "text": [
      "/anaconda3/lib/python3.6/site-packages/lightgbm/engine.py:102: UserWarning: Found `num_iteration` in params. Will use it instead of argument\n",
      "  warnings.warn(\"Found `{}` in params. Will use it instead of argument\".format(alias))\n",
      "/anaconda3/lib/python3.6/site-packages/lightgbm/engine.py:107: UserWarning: Found `early_stopping` in params. Will use it instead of argument\n",
      "  warnings.warn(\"Found `{}` in params. Will use it instead of argument\".format(alias))\n"
     ]
    },
    {
     "name": "stdout",
     "output_type": "stream",
     "text": [
      "[1]\tvalid_0's l2: 4.5125\n",
      "Training until validation scores don't improve for 10 rounds.\n",
      "[2]\tvalid_0's l2: 4.53866\n",
      "[3]\tvalid_0's l2: 4.43287\n",
      "[4]\tvalid_0's l2: 4.65652\n",
      "[5]\tvalid_0's l2: 4.64833\n",
      "[6]\tvalid_0's l2: 4.58215\n",
      "[7]\tvalid_0's l2: 4.15519\n",
      "[8]\tvalid_0's l2: 4.23987\n",
      "[9]\tvalid_0's l2: 4.27072\n",
      "[10]\tvalid_0's l2: 4.59197\n",
      "[11]\tvalid_0's l2: 4.56954\n",
      "[12]\tvalid_0's l2: 4.57881\n",
      "[13]\tvalid_0's l2: 4.59565\n",
      "[14]\tvalid_0's l2: 4.68064\n",
      "[15]\tvalid_0's l2: 4.98702\n",
      "[16]\tvalid_0's l2: 4.98602\n",
      "[17]\tvalid_0's l2: 4.96543\n",
      "Early stopping, best iteration is:\n",
      "[7]\tvalid_0's l2: 4.15519\n"
     ]
    },
    {
     "name": "stderr",
     "output_type": "stream",
     "text": [
      "/anaconda3/lib/python3.6/site-packages/lightgbm/engine.py:102: UserWarning: Found `num_iteration` in params. Will use it instead of argument\n",
      "  warnings.warn(\"Found `{}` in params. Will use it instead of argument\".format(alias))\n",
      "/anaconda3/lib/python3.6/site-packages/lightgbm/engine.py:107: UserWarning: Found `early_stopping` in params. Will use it instead of argument\n",
      "  warnings.warn(\"Found `{}` in params. Will use it instead of argument\".format(alias))\n"
     ]
    },
    {
     "name": "stdout",
     "output_type": "stream",
     "text": [
      "[1]\tvalid_0's l2: 4.28374\n",
      "Training until validation scores don't improve for 10 rounds.\n",
      "[2]\tvalid_0's l2: 4.09295\n",
      "[3]\tvalid_0's l2: 4.13107\n",
      "[4]\tvalid_0's l2: 4.26069\n",
      "[5]\tvalid_0's l2: 4.25352\n",
      "[6]\tvalid_0's l2: 4.41912\n",
      "[7]\tvalid_0's l2: 4.46303\n",
      "[8]\tvalid_0's l2: 4.46259\n",
      "[9]\tvalid_0's l2: 4.52362\n",
      "[10]\tvalid_0's l2: 4.58428\n",
      "[11]\tvalid_0's l2: 4.62575\n",
      "[12]\tvalid_0's l2: 4.67141\n",
      "Early stopping, best iteration is:\n",
      "[2]\tvalid_0's l2: 4.09295\n"
     ]
    },
    {
     "name": "stderr",
     "output_type": "stream",
     "text": [
      "/anaconda3/lib/python3.6/site-packages/lightgbm/engine.py:102: UserWarning: Found `num_iteration` in params. Will use it instead of argument\n",
      "  warnings.warn(\"Found `{}` in params. Will use it instead of argument\".format(alias))\n",
      "/anaconda3/lib/python3.6/site-packages/lightgbm/engine.py:107: UserWarning: Found `early_stopping` in params. Will use it instead of argument\n",
      "  warnings.warn(\"Found `{}` in params. Will use it instead of argument\".format(alias))\n"
     ]
    },
    {
     "name": "stdout",
     "output_type": "stream",
     "text": [
      "[1]\tvalid_0's l2: 4.41045\n",
      "Training until validation scores don't improve for 10 rounds.\n",
      "[2]\tvalid_0's l2: 4.04704\n",
      "[3]\tvalid_0's l2: 4.18496\n",
      "[4]\tvalid_0's l2: 4.231\n",
      "[5]\tvalid_0's l2: 4.38873\n",
      "[6]\tvalid_0's l2: 4.40768\n",
      "[7]\tvalid_0's l2: 4.43323\n",
      "[8]\tvalid_0's l2: 4.73725\n",
      "[9]\tvalid_0's l2: 4.71374\n",
      "[10]\tvalid_0's l2: 4.69449\n",
      "[11]\tvalid_0's l2: 4.76032\n",
      "[12]\tvalid_0's l2: 4.77994\n",
      "Early stopping, best iteration is:\n",
      "[2]\tvalid_0's l2: 4.04704\n"
     ]
    },
    {
     "name": "stderr",
     "output_type": "stream",
     "text": [
      "/anaconda3/lib/python3.6/site-packages/lightgbm/engine.py:102: UserWarning: Found `num_iteration` in params. Will use it instead of argument\n",
      "  warnings.warn(\"Found `{}` in params. Will use it instead of argument\".format(alias))\n",
      "/anaconda3/lib/python3.6/site-packages/lightgbm/engine.py:107: UserWarning: Found `early_stopping` in params. Will use it instead of argument\n",
      "  warnings.warn(\"Found `{}` in params. Will use it instead of argument\".format(alias))\n"
     ]
    },
    {
     "name": "stdout",
     "output_type": "stream",
     "text": [
      "[1]\tvalid_0's l2: 4.49085\n",
      "Training until validation scores don't improve for 10 rounds.\n",
      "[2]\tvalid_0's l2: 4.50521\n",
      "[3]\tvalid_0's l2: 4.3747\n",
      "[4]\tvalid_0's l2: 4.49115\n",
      "[5]\tvalid_0's l2: 4.6405\n",
      "[6]\tvalid_0's l2: 4.64848\n",
      "[7]\tvalid_0's l2: 4.57868\n",
      "[8]\tvalid_0's l2: 4.60452\n",
      "[9]\tvalid_0's l2: 4.61919\n",
      "[10]\tvalid_0's l2: 4.60207\n",
      "[11]\tvalid_0's l2: 4.59855\n",
      "[12]\tvalid_0's l2: 4.62084\n",
      "[13]\tvalid_0's l2: 4.63741\n",
      "Early stopping, best iteration is:\n",
      "[3]\tvalid_0's l2: 4.3747\n"
     ]
    },
    {
     "name": "stderr",
     "output_type": "stream",
     "text": [
      "/anaconda3/lib/python3.6/site-packages/lightgbm/engine.py:102: UserWarning: Found `num_iteration` in params. Will use it instead of argument\n",
      "  warnings.warn(\"Found `{}` in params. Will use it instead of argument\".format(alias))\n",
      "/anaconda3/lib/python3.6/site-packages/lightgbm/engine.py:107: UserWarning: Found `early_stopping` in params. Will use it instead of argument\n",
      "  warnings.warn(\"Found `{}` in params. Will use it instead of argument\".format(alias))\n"
     ]
    },
    {
     "name": "stdout",
     "output_type": "stream",
     "text": [
      "[1]\tvalid_0's l2: 4.44461\n",
      "Training until validation scores don't improve for 10 rounds.\n",
      "[2]\tvalid_0's l2: 4.46334\n",
      "[3]\tvalid_0's l2: 4.44977\n",
      "[4]\tvalid_0's l2: 4.5429\n",
      "[5]\tvalid_0's l2: 4.53375\n",
      "[6]\tvalid_0's l2: 4.50998\n",
      "[7]\tvalid_0's l2: 4.53474\n",
      "[8]\tvalid_0's l2: 4.41224\n",
      "[9]\tvalid_0's l2: 4.41768\n",
      "[10]\tvalid_0's l2: 4.43835\n",
      "[11]\tvalid_0's l2: 4.42542\n",
      "[12]\tvalid_0's l2: 4.43027\n",
      "[13]\tvalid_0's l2: 4.43919\n",
      "[14]\tvalid_0's l2: 4.42361\n",
      "[15]\tvalid_0's l2: 4.41956\n",
      "[16]\tvalid_0's l2: 4.45613\n",
      "[17]\tvalid_0's l2: 4.45448\n",
      "[18]\tvalid_0's l2: 4.48171\n",
      "Early stopping, best iteration is:\n",
      "[8]\tvalid_0's l2: 4.41224\n"
     ]
    },
    {
     "name": "stderr",
     "output_type": "stream",
     "text": [
      "/anaconda3/lib/python3.6/site-packages/lightgbm/engine.py:102: UserWarning: Found `num_iteration` in params. Will use it instead of argument\n",
      "  warnings.warn(\"Found `{}` in params. Will use it instead of argument\".format(alias))\n",
      "/anaconda3/lib/python3.6/site-packages/lightgbm/engine.py:107: UserWarning: Found `early_stopping` in params. Will use it instead of argument\n",
      "  warnings.warn(\"Found `{}` in params. Will use it instead of argument\".format(alias))\n"
     ]
    },
    {
     "name": "stdout",
     "output_type": "stream",
     "text": [
      "[1]\tvalid_0's l2: 4.47986\n",
      "Training until validation scores don't improve for 10 rounds.\n",
      "[2]\tvalid_0's l2: 4.21474\n",
      "[3]\tvalid_0's l2: 4.24997\n",
      "[4]\tvalid_0's l2: 4.47354\n",
      "[5]\tvalid_0's l2: 4.45803\n",
      "[6]\tvalid_0's l2: 4.37992\n",
      "[7]\tvalid_0's l2: 4.38092\n",
      "[8]\tvalid_0's l2: 4.63681\n",
      "[9]\tvalid_0's l2: 4.67853\n",
      "[10]\tvalid_0's l2: 4.71361\n",
      "[11]\tvalid_0's l2: 4.73663\n",
      "[12]\tvalid_0's l2: 4.75391\n",
      "Early stopping, best iteration is:\n",
      "[2]\tvalid_0's l2: 4.21474\n"
     ]
    },
    {
     "name": "stderr",
     "output_type": "stream",
     "text": [
      "/anaconda3/lib/python3.6/site-packages/lightgbm/engine.py:102: UserWarning: Found `num_iteration` in params. Will use it instead of argument\n",
      "  warnings.warn(\"Found `{}` in params. Will use it instead of argument\".format(alias))\n",
      "/anaconda3/lib/python3.6/site-packages/lightgbm/engine.py:107: UserWarning: Found `early_stopping` in params. Will use it instead of argument\n",
      "  warnings.warn(\"Found `{}` in params. Will use it instead of argument\".format(alias))\n"
     ]
    },
    {
     "name": "stdout",
     "output_type": "stream",
     "text": [
      "[1]\tvalid_0's l2: 4.48705\n",
      "Training until validation scores don't improve for 10 rounds.\n",
      "[2]\tvalid_0's l2: 4.23873\n",
      "[3]\tvalid_0's l2: 4.56727\n",
      "[4]\tvalid_0's l2: 4.62751\n",
      "[5]\tvalid_0's l2: 4.65949\n",
      "[6]\tvalid_0's l2: 4.62444\n",
      "[7]\tvalid_0's l2: 4.56656\n",
      "[8]\tvalid_0's l2: 4.75687\n",
      "[9]\tvalid_0's l2: 4.73429\n",
      "[10]\tvalid_0's l2: 4.7365\n",
      "[11]\tvalid_0's l2: 4.75674\n",
      "[12]\tvalid_0's l2: 4.77309\n",
      "Early stopping, best iteration is:\n",
      "[2]\tvalid_0's l2: 4.23873\n"
     ]
    },
    {
     "name": "stderr",
     "output_type": "stream",
     "text": [
      "/anaconda3/lib/python3.6/site-packages/lightgbm/engine.py:102: UserWarning: Found `num_iteration` in params. Will use it instead of argument\n",
      "  warnings.warn(\"Found `{}` in params. Will use it instead of argument\".format(alias))\n",
      "/anaconda3/lib/python3.6/site-packages/lightgbm/engine.py:107: UserWarning: Found `early_stopping` in params. Will use it instead of argument\n",
      "  warnings.warn(\"Found `{}` in params. Will use it instead of argument\".format(alias))\n"
     ]
    },
    {
     "name": "stdout",
     "output_type": "stream",
     "text": [
      "[1]\tvalid_0's l2: 4.46737\n",
      "Training until validation scores don't improve for 10 rounds.\n",
      "[2]\tvalid_0's l2: 4.19124\n",
      "[3]\tvalid_0's l2: 4.26065\n",
      "[4]\tvalid_0's l2: 4.41842\n",
      "[5]\tvalid_0's l2: 4.51909\n",
      "[6]\tvalid_0's l2: 4.48295\n",
      "[7]\tvalid_0's l2: 4.96156\n",
      "[8]\tvalid_0's l2: 4.99249\n",
      "[9]\tvalid_0's l2: 4.94486\n",
      "[10]\tvalid_0's l2: 4.95788\n",
      "[11]\tvalid_0's l2: 4.93034\n",
      "[12]\tvalid_0's l2: 4.94565\n",
      "Early stopping, best iteration is:\n",
      "[2]\tvalid_0's l2: 4.19124\n"
     ]
    },
    {
     "name": "stderr",
     "output_type": "stream",
     "text": [
      "/anaconda3/lib/python3.6/site-packages/lightgbm/engine.py:102: UserWarning: Found `num_iteration` in params. Will use it instead of argument\n",
      "  warnings.warn(\"Found `{}` in params. Will use it instead of argument\".format(alias))\n",
      "/anaconda3/lib/python3.6/site-packages/lightgbm/engine.py:107: UserWarning: Found `early_stopping` in params. Will use it instead of argument\n",
      "  warnings.warn(\"Found `{}` in params. Will use it instead of argument\".format(alias))\n"
     ]
    },
    {
     "name": "stdout",
     "output_type": "stream",
     "text": [
      "[1]\tvalid_0's l2: 4.42374\n",
      "Training until validation scores don't improve for 10 rounds.\n",
      "[2]\tvalid_0's l2: 4.14234\n",
      "[3]\tvalid_0's l2: 4.29621\n",
      "[4]\tvalid_0's l2: 4.35275\n",
      "[5]\tvalid_0's l2: 4.11219\n",
      "[6]\tvalid_0's l2: 4.1385\n",
      "[7]\tvalid_0's l2: 4.26476\n",
      "[8]\tvalid_0's l2: 4.31163\n",
      "[9]\tvalid_0's l2: 4.30107\n",
      "[10]\tvalid_0's l2: 4.28926\n",
      "[11]\tvalid_0's l2: 4.31023\n",
      "[12]\tvalid_0's l2: 4.32312\n",
      "[13]\tvalid_0's l2: 4.32282\n",
      "[14]\tvalid_0's l2: 4.31163\n",
      "[15]\tvalid_0's l2: 4.31456\n",
      "Early stopping, best iteration is:\n",
      "[5]\tvalid_0's l2: 4.11219\n"
     ]
    },
    {
     "name": "stderr",
     "output_type": "stream",
     "text": [
      "/anaconda3/lib/python3.6/site-packages/lightgbm/engine.py:102: UserWarning: Found `num_iteration` in params. Will use it instead of argument\n",
      "  warnings.warn(\"Found `{}` in params. Will use it instead of argument\".format(alias))\n",
      "/anaconda3/lib/python3.6/site-packages/lightgbm/engine.py:107: UserWarning: Found `early_stopping` in params. Will use it instead of argument\n",
      "  warnings.warn(\"Found `{}` in params. Will use it instead of argument\".format(alias))\n"
     ]
    },
    {
     "name": "stdout",
     "output_type": "stream",
     "text": [
      "[1]\tvalid_0's l2: 4.5125\n",
      "Training until validation scores don't improve for 10 rounds.\n",
      "[2]\tvalid_0's l2: 4.53866\n",
      "[3]\tvalid_0's l2: 4.43287\n",
      "[4]\tvalid_0's l2: 4.64728\n",
      "[5]\tvalid_0's l2: 4.40646\n",
      "[6]\tvalid_0's l2: 4.37077\n",
      "[7]\tvalid_0's l2: 4.36772\n",
      "[8]\tvalid_0's l2: 4.41098\n",
      "[9]\tvalid_0's l2: 4.44052\n",
      "[10]\tvalid_0's l2: 4.45761\n",
      "[11]\tvalid_0's l2: 4.45714\n",
      "[12]\tvalid_0's l2: 4.45758\n",
      "[13]\tvalid_0's l2: 4.56082\n",
      "[14]\tvalid_0's l2: 4.56231\n",
      "[15]\tvalid_0's l2: 4.56924\n",
      "[16]\tvalid_0's l2: 4.51909\n",
      "[17]\tvalid_0's l2: 4.5145\n",
      "Early stopping, best iteration is:\n",
      "[7]\tvalid_0's l2: 4.36772\n"
     ]
    },
    {
     "name": "stderr",
     "output_type": "stream",
     "text": [
      "/anaconda3/lib/python3.6/site-packages/lightgbm/engine.py:102: UserWarning: Found `num_iteration` in params. Will use it instead of argument\n",
      "  warnings.warn(\"Found `{}` in params. Will use it instead of argument\".format(alias))\n",
      "/anaconda3/lib/python3.6/site-packages/lightgbm/engine.py:107: UserWarning: Found `early_stopping` in params. Will use it instead of argument\n",
      "  warnings.warn(\"Found `{}` in params. Will use it instead of argument\".format(alias))\n"
     ]
    },
    {
     "name": "stdout",
     "output_type": "stream",
     "text": [
      "[1]\tvalid_0's l2: 4.28374\n",
      "Training until validation scores don't improve for 10 rounds.\n",
      "[2]\tvalid_0's l2: 4.09295\n",
      "[3]\tvalid_0's l2: 4.13107\n",
      "[4]\tvalid_0's l2: 4.26069\n",
      "[5]\tvalid_0's l2: 4.25249\n",
      "[6]\tvalid_0's l2: 4.43286\n",
      "[7]\tvalid_0's l2: 4.4519\n",
      "[8]\tvalid_0's l2: 4.42594\n",
      "[9]\tvalid_0's l2: 4.42946\n",
      "[10]\tvalid_0's l2: 4.43354\n",
      "[11]\tvalid_0's l2: 4.47516\n",
      "[12]\tvalid_0's l2: 4.49978\n",
      "Early stopping, best iteration is:\n",
      "[2]\tvalid_0's l2: 4.09295\n"
     ]
    },
    {
     "name": "stderr",
     "output_type": "stream",
     "text": [
      "/anaconda3/lib/python3.6/site-packages/lightgbm/engine.py:102: UserWarning: Found `num_iteration` in params. Will use it instead of argument\n",
      "  warnings.warn(\"Found `{}` in params. Will use it instead of argument\".format(alias))\n",
      "/anaconda3/lib/python3.6/site-packages/lightgbm/engine.py:107: UserWarning: Found `early_stopping` in params. Will use it instead of argument\n",
      "  warnings.warn(\"Found `{}` in params. Will use it instead of argument\".format(alias))\n"
     ]
    },
    {
     "name": "stdout",
     "output_type": "stream",
     "text": [
      "[1]\tvalid_0's l2: 4.41045\n",
      "Training until validation scores don't improve for 10 rounds.\n",
      "[2]\tvalid_0's l2: 4.04704\n",
      "[3]\tvalid_0's l2: 4.18496\n",
      "[4]\tvalid_0's l2: 4.231\n",
      "[5]\tvalid_0's l2: 4.39296\n",
      "[6]\tvalid_0's l2: 4.4079\n",
      "[7]\tvalid_0's l2: 4.4441\n",
      "[8]\tvalid_0's l2: 4.51679\n",
      "[9]\tvalid_0's l2: 4.57296\n",
      "[10]\tvalid_0's l2: 4.55447\n",
      "[11]\tvalid_0's l2: 4.56173\n",
      "[12]\tvalid_0's l2: 4.60158\n",
      "Early stopping, best iteration is:\n",
      "[2]\tvalid_0's l2: 4.04704\n"
     ]
    },
    {
     "name": "stderr",
     "output_type": "stream",
     "text": [
      "/anaconda3/lib/python3.6/site-packages/lightgbm/engine.py:102: UserWarning: Found `num_iteration` in params. Will use it instead of argument\n",
      "  warnings.warn(\"Found `{}` in params. Will use it instead of argument\".format(alias))\n",
      "/anaconda3/lib/python3.6/site-packages/lightgbm/engine.py:107: UserWarning: Found `early_stopping` in params. Will use it instead of argument\n",
      "  warnings.warn(\"Found `{}` in params. Will use it instead of argument\".format(alias))\n"
     ]
    },
    {
     "name": "stdout",
     "output_type": "stream",
     "text": [
      "[1]\tvalid_0's l2: 4.49085\n",
      "Training until validation scores don't improve for 10 rounds.\n",
      "[2]\tvalid_0's l2: 4.50521\n",
      "[3]\tvalid_0's l2: 4.3747\n",
      "[4]\tvalid_0's l2: 4.48609\n",
      "[5]\tvalid_0's l2: 4.63245\n",
      "[6]\tvalid_0's l2: 4.60782\n",
      "[7]\tvalid_0's l2: 4.5886\n",
      "[8]\tvalid_0's l2: 4.63318\n",
      "[9]\tvalid_0's l2: 4.64134\n",
      "[10]\tvalid_0's l2: 4.54811\n",
      "[11]\tvalid_0's l2: 4.5842\n",
      "[12]\tvalid_0's l2: 4.59141\n",
      "[13]\tvalid_0's l2: 4.65262\n",
      "Early stopping, best iteration is:\n",
      "[3]\tvalid_0's l2: 4.3747\n"
     ]
    },
    {
     "name": "stderr",
     "output_type": "stream",
     "text": [
      "/anaconda3/lib/python3.6/site-packages/lightgbm/engine.py:102: UserWarning: Found `num_iteration` in params. Will use it instead of argument\n",
      "  warnings.warn(\"Found `{}` in params. Will use it instead of argument\".format(alias))\n",
      "/anaconda3/lib/python3.6/site-packages/lightgbm/engine.py:107: UserWarning: Found `early_stopping` in params. Will use it instead of argument\n",
      "  warnings.warn(\"Found `{}` in params. Will use it instead of argument\".format(alias))\n"
     ]
    },
    {
     "name": "stdout",
     "output_type": "stream",
     "text": [
      "[1]\tvalid_0's l2: 4.44461\n",
      "Training until validation scores don't improve for 10 rounds.\n",
      "[2]\tvalid_0's l2: 4.46334\n",
      "[3]\tvalid_0's l2: 4.44977\n",
      "[4]\tvalid_0's l2: 4.5429\n",
      "[5]\tvalid_0's l2: 4.53375\n",
      "[6]\tvalid_0's l2: 4.49777\n",
      "[7]\tvalid_0's l2: 4.51059\n",
      "[8]\tvalid_0's l2: 4.3793\n",
      "[9]\tvalid_0's l2: 4.2657\n",
      "[10]\tvalid_0's l2: 4.34265\n",
      "[11]\tvalid_0's l2: 4.36718\n",
      "[12]\tvalid_0's l2: 4.40724\n",
      "[13]\tvalid_0's l2: 4.455\n",
      "[14]\tvalid_0's l2: 4.4501\n",
      "[15]\tvalid_0's l2: 4.65882\n",
      "[16]\tvalid_0's l2: 4.63648\n",
      "[17]\tvalid_0's l2: 4.58257\n",
      "[18]\tvalid_0's l2: 4.60759\n",
      "[19]\tvalid_0's l2: 4.59247\n",
      "Early stopping, best iteration is:\n",
      "[9]\tvalid_0's l2: 4.2657\n"
     ]
    },
    {
     "name": "stderr",
     "output_type": "stream",
     "text": [
      "/anaconda3/lib/python3.6/site-packages/lightgbm/engine.py:102: UserWarning: Found `num_iteration` in params. Will use it instead of argument\n",
      "  warnings.warn(\"Found `{}` in params. Will use it instead of argument\".format(alias))\n",
      "/anaconda3/lib/python3.6/site-packages/lightgbm/engine.py:107: UserWarning: Found `early_stopping` in params. Will use it instead of argument\n",
      "  warnings.warn(\"Found `{}` in params. Will use it instead of argument\".format(alias))\n"
     ]
    },
    {
     "name": "stdout",
     "output_type": "stream",
     "text": [
      "[1]\tvalid_0's l2: 4.47986\n",
      "Training until validation scores don't improve for 10 rounds.\n",
      "[2]\tvalid_0's l2: 4.21474\n",
      "[3]\tvalid_0's l2: 4.24997\n",
      "[4]\tvalid_0's l2: 4.47333\n",
      "[5]\tvalid_0's l2: 4.5695\n",
      "[6]\tvalid_0's l2: 4.5946\n",
      "[7]\tvalid_0's l2: 4.53758\n",
      "[8]\tvalid_0's l2: 4.55077\n",
      "[9]\tvalid_0's l2: 4.57149\n",
      "[10]\tvalid_0's l2: 4.54329\n",
      "[11]\tvalid_0's l2: 4.54135\n",
      "[12]\tvalid_0's l2: 4.55467\n",
      "Early stopping, best iteration is:\n",
      "[2]\tvalid_0's l2: 4.21474\n"
     ]
    },
    {
     "name": "stderr",
     "output_type": "stream",
     "text": [
      "/anaconda3/lib/python3.6/site-packages/lightgbm/engine.py:102: UserWarning: Found `num_iteration` in params. Will use it instead of argument\n",
      "  warnings.warn(\"Found `{}` in params. Will use it instead of argument\".format(alias))\n",
      "/anaconda3/lib/python3.6/site-packages/lightgbm/engine.py:107: UserWarning: Found `early_stopping` in params. Will use it instead of argument\n",
      "  warnings.warn(\"Found `{}` in params. Will use it instead of argument\".format(alias))\n"
     ]
    },
    {
     "name": "stdout",
     "output_type": "stream",
     "text": [
      "[1]\tvalid_0's l2: 4.48705\n",
      "Training until validation scores don't improve for 10 rounds.\n",
      "[2]\tvalid_0's l2: 4.23873\n",
      "[3]\tvalid_0's l2: 4.56426\n",
      "[4]\tvalid_0's l2: 4.62961\n",
      "[5]\tvalid_0's l2: 4.6787\n",
      "[6]\tvalid_0's l2: 4.76735\n",
      "[7]\tvalid_0's l2: 4.77508\n",
      "[8]\tvalid_0's l2: 4.69231\n",
      "[9]\tvalid_0's l2: 4.69448\n",
      "[10]\tvalid_0's l2: 4.70251\n",
      "[11]\tvalid_0's l2: 5.04488\n",
      "[12]\tvalid_0's l2: 5.04051\n",
      "Early stopping, best iteration is:\n",
      "[2]\tvalid_0's l2: 4.23873\n"
     ]
    },
    {
     "name": "stderr",
     "output_type": "stream",
     "text": [
      "/anaconda3/lib/python3.6/site-packages/lightgbm/engine.py:102: UserWarning: Found `num_iteration` in params. Will use it instead of argument\n",
      "  warnings.warn(\"Found `{}` in params. Will use it instead of argument\".format(alias))\n",
      "/anaconda3/lib/python3.6/site-packages/lightgbm/engine.py:107: UserWarning: Found `early_stopping` in params. Will use it instead of argument\n",
      "  warnings.warn(\"Found `{}` in params. Will use it instead of argument\".format(alias))\n"
     ]
    },
    {
     "name": "stdout",
     "output_type": "stream",
     "text": [
      "[1]\tvalid_0's l2: 4.46737\n",
      "Training until validation scores don't improve for 10 rounds.\n",
      "[2]\tvalid_0's l2: 4.19124\n",
      "[3]\tvalid_0's l2: 4.26065\n",
      "[4]\tvalid_0's l2: 4.4377\n",
      "[5]\tvalid_0's l2: 4.49766\n",
      "[6]\tvalid_0's l2: 4.47248\n",
      "[7]\tvalid_0's l2: 4.36588\n",
      "[8]\tvalid_0's l2: 4.46096\n",
      "[9]\tvalid_0's l2: 4.67906\n",
      "[10]\tvalid_0's l2: 4.73633\n",
      "[11]\tvalid_0's l2: 4.6115\n",
      "[12]\tvalid_0's l2: 4.61537\n",
      "Early stopping, best iteration is:\n",
      "[2]\tvalid_0's l2: 4.19124\n"
     ]
    },
    {
     "name": "stderr",
     "output_type": "stream",
     "text": [
      "/anaconda3/lib/python3.6/site-packages/lightgbm/engine.py:102: UserWarning: Found `num_iteration` in params. Will use it instead of argument\n",
      "  warnings.warn(\"Found `{}` in params. Will use it instead of argument\".format(alias))\n",
      "/anaconda3/lib/python3.6/site-packages/lightgbm/engine.py:107: UserWarning: Found `early_stopping` in params. Will use it instead of argument\n",
      "  warnings.warn(\"Found `{}` in params. Will use it instead of argument\".format(alias))\n"
     ]
    },
    {
     "name": "stdout",
     "output_type": "stream",
     "text": [
      "[1]\tvalid_0's l2: 4.42374\n",
      "Training until validation scores don't improve for 10 rounds.\n",
      "[2]\tvalid_0's l2: 4.14234\n",
      "[3]\tvalid_0's l2: 4.29621\n",
      "[4]\tvalid_0's l2: 4.35275\n",
      "[5]\tvalid_0's l2: 4.11219\n",
      "[6]\tvalid_0's l2: 4.1385\n",
      "[7]\tvalid_0's l2: 4.26476\n",
      "[8]\tvalid_0's l2: 4.31163\n",
      "[9]\tvalid_0's l2: 4.30107\n",
      "[10]\tvalid_0's l2: 4.28926\n",
      "[11]\tvalid_0's l2: 4.31023\n",
      "[12]\tvalid_0's l2: 4.32312\n",
      "[13]\tvalid_0's l2: 4.32282\n",
      "[14]\tvalid_0's l2: 4.31163\n",
      "[15]\tvalid_0's l2: 4.31456\n",
      "Early stopping, best iteration is:\n",
      "[5]\tvalid_0's l2: 4.11219\n"
     ]
    },
    {
     "name": "stderr",
     "output_type": "stream",
     "text": [
      "/anaconda3/lib/python3.6/site-packages/lightgbm/engine.py:102: UserWarning: Found `num_iteration` in params. Will use it instead of argument\n",
      "  warnings.warn(\"Found `{}` in params. Will use it instead of argument\".format(alias))\n",
      "/anaconda3/lib/python3.6/site-packages/lightgbm/engine.py:107: UserWarning: Found `early_stopping` in params. Will use it instead of argument\n",
      "  warnings.warn(\"Found `{}` in params. Will use it instead of argument\".format(alias))\n"
     ]
    },
    {
     "name": "stdout",
     "output_type": "stream",
     "text": [
      "[1]\tvalid_0's l2: 4.5125\n",
      "Training until validation scores don't improve for 10 rounds.\n",
      "[2]\tvalid_0's l2: 4.53866\n",
      "[3]\tvalid_0's l2: 4.43287\n",
      "[4]\tvalid_0's l2: 4.64728\n",
      "[5]\tvalid_0's l2: 4.40646\n",
      "[6]\tvalid_0's l2: 4.37077\n",
      "[7]\tvalid_0's l2: 4.36772\n",
      "[8]\tvalid_0's l2: 4.41098\n",
      "[9]\tvalid_0's l2: 4.44052\n",
      "[10]\tvalid_0's l2: 4.45761\n",
      "[11]\tvalid_0's l2: 4.45714\n",
      "[12]\tvalid_0's l2: 4.45758\n",
      "[13]\tvalid_0's l2: 4.56082\n",
      "[14]\tvalid_0's l2: 4.56231\n",
      "[15]\tvalid_0's l2: 4.56924\n",
      "[16]\tvalid_0's l2: 4.51909\n",
      "[17]\tvalid_0's l2: 4.5145\n",
      "Early stopping, best iteration is:\n",
      "[7]\tvalid_0's l2: 4.36772\n"
     ]
    },
    {
     "name": "stderr",
     "output_type": "stream",
     "text": [
      "/anaconda3/lib/python3.6/site-packages/lightgbm/engine.py:102: UserWarning: Found `num_iteration` in params. Will use it instead of argument\n",
      "  warnings.warn(\"Found `{}` in params. Will use it instead of argument\".format(alias))\n",
      "/anaconda3/lib/python3.6/site-packages/lightgbm/engine.py:107: UserWarning: Found `early_stopping` in params. Will use it instead of argument\n",
      "  warnings.warn(\"Found `{}` in params. Will use it instead of argument\".format(alias))\n"
     ]
    },
    {
     "name": "stdout",
     "output_type": "stream",
     "text": [
      "[1]\tvalid_0's l2: 4.28374\n",
      "Training until validation scores don't improve for 10 rounds.\n",
      "[2]\tvalid_0's l2: 4.09295\n",
      "[3]\tvalid_0's l2: 4.13107\n",
      "[4]\tvalid_0's l2: 4.26069\n",
      "[5]\tvalid_0's l2: 4.25249\n",
      "[6]\tvalid_0's l2: 4.43286\n",
      "[7]\tvalid_0's l2: 4.4519\n",
      "[8]\tvalid_0's l2: 4.42594\n",
      "[9]\tvalid_0's l2: 4.42946\n",
      "[10]\tvalid_0's l2: 4.43354\n",
      "[11]\tvalid_0's l2: 4.47516\n",
      "[12]\tvalid_0's l2: 4.49978\n",
      "Early stopping, best iteration is:\n",
      "[2]\tvalid_0's l2: 4.09295\n"
     ]
    },
    {
     "name": "stderr",
     "output_type": "stream",
     "text": [
      "/anaconda3/lib/python3.6/site-packages/lightgbm/engine.py:102: UserWarning: Found `num_iteration` in params. Will use it instead of argument\n",
      "  warnings.warn(\"Found `{}` in params. Will use it instead of argument\".format(alias))\n",
      "/anaconda3/lib/python3.6/site-packages/lightgbm/engine.py:107: UserWarning: Found `early_stopping` in params. Will use it instead of argument\n",
      "  warnings.warn(\"Found `{}` in params. Will use it instead of argument\".format(alias))\n"
     ]
    },
    {
     "name": "stdout",
     "output_type": "stream",
     "text": [
      "[1]\tvalid_0's l2: 4.41045\n",
      "Training until validation scores don't improve for 10 rounds.\n",
      "[2]\tvalid_0's l2: 4.04704\n",
      "[3]\tvalid_0's l2: 4.18496\n",
      "[4]\tvalid_0's l2: 4.231\n",
      "[5]\tvalid_0's l2: 4.39296\n",
      "[6]\tvalid_0's l2: 4.4079\n",
      "[7]\tvalid_0's l2: 4.4441\n",
      "[8]\tvalid_0's l2: 4.51679\n",
      "[9]\tvalid_0's l2: 4.57296\n",
      "[10]\tvalid_0's l2: 4.55447\n",
      "[11]\tvalid_0's l2: 4.56173\n",
      "[12]\tvalid_0's l2: 4.60158\n",
      "Early stopping, best iteration is:\n",
      "[2]\tvalid_0's l2: 4.04704\n"
     ]
    },
    {
     "name": "stderr",
     "output_type": "stream",
     "text": [
      "/anaconda3/lib/python3.6/site-packages/lightgbm/engine.py:102: UserWarning: Found `num_iteration` in params. Will use it instead of argument\n",
      "  warnings.warn(\"Found `{}` in params. Will use it instead of argument\".format(alias))\n",
      "/anaconda3/lib/python3.6/site-packages/lightgbm/engine.py:107: UserWarning: Found `early_stopping` in params. Will use it instead of argument\n",
      "  warnings.warn(\"Found `{}` in params. Will use it instead of argument\".format(alias))\n"
     ]
    },
    {
     "name": "stdout",
     "output_type": "stream",
     "text": [
      "[1]\tvalid_0's l2: 4.49085\n",
      "Training until validation scores don't improve for 10 rounds.\n",
      "[2]\tvalid_0's l2: 4.50521\n",
      "[3]\tvalid_0's l2: 4.3747\n",
      "[4]\tvalid_0's l2: 4.48609\n",
      "[5]\tvalid_0's l2: 4.63245\n",
      "[6]\tvalid_0's l2: 4.60782\n",
      "[7]\tvalid_0's l2: 4.5886\n",
      "[8]\tvalid_0's l2: 4.63318\n",
      "[9]\tvalid_0's l2: 4.64134\n",
      "[10]\tvalid_0's l2: 4.54811\n",
      "[11]\tvalid_0's l2: 4.5842\n",
      "[12]\tvalid_0's l2: 4.59141\n",
      "[13]\tvalid_0's l2: 4.65262\n",
      "Early stopping, best iteration is:\n",
      "[3]\tvalid_0's l2: 4.3747\n"
     ]
    },
    {
     "name": "stderr",
     "output_type": "stream",
     "text": [
      "/anaconda3/lib/python3.6/site-packages/lightgbm/engine.py:102: UserWarning: Found `num_iteration` in params. Will use it instead of argument\n",
      "  warnings.warn(\"Found `{}` in params. Will use it instead of argument\".format(alias))\n",
      "/anaconda3/lib/python3.6/site-packages/lightgbm/engine.py:107: UserWarning: Found `early_stopping` in params. Will use it instead of argument\n",
      "  warnings.warn(\"Found `{}` in params. Will use it instead of argument\".format(alias))\n"
     ]
    },
    {
     "name": "stdout",
     "output_type": "stream",
     "text": [
      "[1]\tvalid_0's l2: 4.44461\n",
      "Training until validation scores don't improve for 10 rounds.\n",
      "[2]\tvalid_0's l2: 4.46334\n",
      "[3]\tvalid_0's l2: 4.44977\n",
      "[4]\tvalid_0's l2: 4.5429\n",
      "[5]\tvalid_0's l2: 4.53375\n",
      "[6]\tvalid_0's l2: 4.49777\n",
      "[7]\tvalid_0's l2: 4.51059\n",
      "[8]\tvalid_0's l2: 4.3793\n",
      "[9]\tvalid_0's l2: 4.2657\n",
      "[10]\tvalid_0's l2: 4.34265\n",
      "[11]\tvalid_0's l2: 4.36718\n",
      "[12]\tvalid_0's l2: 4.40724\n",
      "[13]\tvalid_0's l2: 4.455\n",
      "[14]\tvalid_0's l2: 4.4501\n",
      "[15]\tvalid_0's l2: 4.65882\n",
      "[16]\tvalid_0's l2: 4.63648\n",
      "[17]\tvalid_0's l2: 4.58257\n",
      "[18]\tvalid_0's l2: 4.60759\n",
      "[19]\tvalid_0's l2: 4.59247\n",
      "Early stopping, best iteration is:\n",
      "[9]\tvalid_0's l2: 4.2657\n"
     ]
    },
    {
     "name": "stderr",
     "output_type": "stream",
     "text": [
      "/anaconda3/lib/python3.6/site-packages/lightgbm/engine.py:102: UserWarning: Found `num_iteration` in params. Will use it instead of argument\n",
      "  warnings.warn(\"Found `{}` in params. Will use it instead of argument\".format(alias))\n",
      "/anaconda3/lib/python3.6/site-packages/lightgbm/engine.py:107: UserWarning: Found `early_stopping` in params. Will use it instead of argument\n",
      "  warnings.warn(\"Found `{}` in params. Will use it instead of argument\".format(alias))\n"
     ]
    },
    {
     "name": "stdout",
     "output_type": "stream",
     "text": [
      "[1]\tvalid_0's l2: 4.47986\n",
      "Training until validation scores don't improve for 10 rounds.\n",
      "[2]\tvalid_0's l2: 4.21474\n",
      "[3]\tvalid_0's l2: 4.24997\n",
      "[4]\tvalid_0's l2: 4.47333\n",
      "[5]\tvalid_0's l2: 4.5695\n",
      "[6]\tvalid_0's l2: 4.5946\n",
      "[7]\tvalid_0's l2: 4.53758\n",
      "[8]\tvalid_0's l2: 4.55077\n",
      "[9]\tvalid_0's l2: 4.57149\n",
      "[10]\tvalid_0's l2: 4.54329\n",
      "[11]\tvalid_0's l2: 4.54135\n",
      "[12]\tvalid_0's l2: 4.55467\n",
      "Early stopping, best iteration is:\n",
      "[2]\tvalid_0's l2: 4.21474\n"
     ]
    },
    {
     "name": "stderr",
     "output_type": "stream",
     "text": [
      "/anaconda3/lib/python3.6/site-packages/lightgbm/engine.py:102: UserWarning: Found `num_iteration` in params. Will use it instead of argument\n",
      "  warnings.warn(\"Found `{}` in params. Will use it instead of argument\".format(alias))\n",
      "/anaconda3/lib/python3.6/site-packages/lightgbm/engine.py:107: UserWarning: Found `early_stopping` in params. Will use it instead of argument\n",
      "  warnings.warn(\"Found `{}` in params. Will use it instead of argument\".format(alias))\n"
     ]
    },
    {
     "name": "stdout",
     "output_type": "stream",
     "text": [
      "[1]\tvalid_0's l2: 4.48705\n",
      "Training until validation scores don't improve for 10 rounds.\n",
      "[2]\tvalid_0's l2: 4.23873\n",
      "[3]\tvalid_0's l2: 4.56426\n",
      "[4]\tvalid_0's l2: 4.62961\n",
      "[5]\tvalid_0's l2: 4.6787\n",
      "[6]\tvalid_0's l2: 4.76735\n",
      "[7]\tvalid_0's l2: 4.77508\n",
      "[8]\tvalid_0's l2: 4.69231\n",
      "[9]\tvalid_0's l2: 4.69448\n",
      "[10]\tvalid_0's l2: 4.70251\n",
      "[11]\tvalid_0's l2: 5.04488\n",
      "[12]\tvalid_0's l2: 5.04051\n",
      "Early stopping, best iteration is:\n",
      "[2]\tvalid_0's l2: 4.23873\n"
     ]
    },
    {
     "name": "stderr",
     "output_type": "stream",
     "text": [
      "/anaconda3/lib/python3.6/site-packages/lightgbm/engine.py:102: UserWarning: Found `num_iteration` in params. Will use it instead of argument\n",
      "  warnings.warn(\"Found `{}` in params. Will use it instead of argument\".format(alias))\n",
      "/anaconda3/lib/python3.6/site-packages/lightgbm/engine.py:107: UserWarning: Found `early_stopping` in params. Will use it instead of argument\n",
      "  warnings.warn(\"Found `{}` in params. Will use it instead of argument\".format(alias))\n"
     ]
    },
    {
     "name": "stdout",
     "output_type": "stream",
     "text": [
      "[1]\tvalid_0's l2: 4.46737\n",
      "Training until validation scores don't improve for 10 rounds.\n",
      "[2]\tvalid_0's l2: 4.19124\n",
      "[3]\tvalid_0's l2: 4.26065\n",
      "[4]\tvalid_0's l2: 4.4377\n",
      "[5]\tvalid_0's l2: 4.49766\n",
      "[6]\tvalid_0's l2: 4.47248\n",
      "[7]\tvalid_0's l2: 4.36588\n",
      "[8]\tvalid_0's l2: 4.46096\n",
      "[9]\tvalid_0's l2: 4.67906\n",
      "[10]\tvalid_0's l2: 4.73633\n",
      "[11]\tvalid_0's l2: 4.6115\n",
      "[12]\tvalid_0's l2: 4.61537\n",
      "Early stopping, best iteration is:\n",
      "[2]\tvalid_0's l2: 4.19124\n"
     ]
    },
    {
     "name": "stderr",
     "output_type": "stream",
     "text": [
      "/anaconda3/lib/python3.6/site-packages/lightgbm/engine.py:102: UserWarning: Found `num_iteration` in params. Will use it instead of argument\n",
      "  warnings.warn(\"Found `{}` in params. Will use it instead of argument\".format(alias))\n",
      "/anaconda3/lib/python3.6/site-packages/lightgbm/engine.py:107: UserWarning: Found `early_stopping` in params. Will use it instead of argument\n",
      "  warnings.warn(\"Found `{}` in params. Will use it instead of argument\".format(alias))\n"
     ]
    },
    {
     "name": "stdout",
     "output_type": "stream",
     "text": [
      "[1]\tvalid_0's l2: 4.42374\n",
      "Training until validation scores don't improve for 10 rounds.\n",
      "[2]\tvalid_0's l2: 4.14234\n",
      "[3]\tvalid_0's l2: 4.29621\n",
      "[4]\tvalid_0's l2: 4.34656\n",
      "[5]\tvalid_0's l2: 4.19382\n",
      "[6]\tvalid_0's l2: 4.18495\n",
      "[7]\tvalid_0's l2: 4.22549\n",
      "[8]\tvalid_0's l2: 4.19038\n",
      "[9]\tvalid_0's l2: 4.28305\n",
      "[10]\tvalid_0's l2: 4.28517\n",
      "[11]\tvalid_0's l2: 4.29234\n",
      "[12]\tvalid_0's l2: 4.29088\n",
      "Early stopping, best iteration is:\n",
      "[2]\tvalid_0's l2: 4.14234\n"
     ]
    },
    {
     "name": "stderr",
     "output_type": "stream",
     "text": [
      "/anaconda3/lib/python3.6/site-packages/lightgbm/engine.py:102: UserWarning: Found `num_iteration` in params. Will use it instead of argument\n",
      "  warnings.warn(\"Found `{}` in params. Will use it instead of argument\".format(alias))\n",
      "/anaconda3/lib/python3.6/site-packages/lightgbm/engine.py:107: UserWarning: Found `early_stopping` in params. Will use it instead of argument\n",
      "  warnings.warn(\"Found `{}` in params. Will use it instead of argument\".format(alias))\n"
     ]
    },
    {
     "name": "stdout",
     "output_type": "stream",
     "text": [
      "[1]\tvalid_0's l2: 4.5125\n",
      "Training until validation scores don't improve for 10 rounds.\n",
      "[2]\tvalid_0's l2: 4.53866\n",
      "[3]\tvalid_0's l2: 4.43287\n",
      "[4]\tvalid_0's l2: 4.65652\n",
      "[5]\tvalid_0's l2: 4.64833\n",
      "[6]\tvalid_0's l2: 4.58215\n",
      "[7]\tvalid_0's l2: 4.15519\n",
      "[8]\tvalid_0's l2: 4.23987\n",
      "[9]\tvalid_0's l2: 4.27072\n",
      "[10]\tvalid_0's l2: 4.59197\n",
      "[11]\tvalid_0's l2: 4.56954\n",
      "[12]\tvalid_0's l2: 4.57881\n",
      "[13]\tvalid_0's l2: 4.59565\n",
      "[14]\tvalid_0's l2: 4.68064\n",
      "[15]\tvalid_0's l2: 4.98702\n",
      "[16]\tvalid_0's l2: 4.98602\n",
      "[17]\tvalid_0's l2: 4.96543\n",
      "Early stopping, best iteration is:\n",
      "[7]\tvalid_0's l2: 4.15519\n"
     ]
    },
    {
     "name": "stderr",
     "output_type": "stream",
     "text": [
      "/anaconda3/lib/python3.6/site-packages/lightgbm/engine.py:102: UserWarning: Found `num_iteration` in params. Will use it instead of argument\n",
      "  warnings.warn(\"Found `{}` in params. Will use it instead of argument\".format(alias))\n",
      "/anaconda3/lib/python3.6/site-packages/lightgbm/engine.py:107: UserWarning: Found `early_stopping` in params. Will use it instead of argument\n",
      "  warnings.warn(\"Found `{}` in params. Will use it instead of argument\".format(alias))\n"
     ]
    },
    {
     "name": "stdout",
     "output_type": "stream",
     "text": [
      "[1]\tvalid_0's l2: 4.28374\n",
      "Training until validation scores don't improve for 10 rounds.\n",
      "[2]\tvalid_0's l2: 4.09295\n",
      "[3]\tvalid_0's l2: 4.13107\n",
      "[4]\tvalid_0's l2: 4.26069\n",
      "[5]\tvalid_0's l2: 4.25352\n",
      "[6]\tvalid_0's l2: 4.41912\n",
      "[7]\tvalid_0's l2: 4.46303\n",
      "[8]\tvalid_0's l2: 4.46259\n",
      "[9]\tvalid_0's l2: 4.52362\n",
      "[10]\tvalid_0's l2: 4.58428\n",
      "[11]\tvalid_0's l2: 4.62575\n",
      "[12]\tvalid_0's l2: 4.67141\n",
      "Early stopping, best iteration is:\n",
      "[2]\tvalid_0's l2: 4.09295\n"
     ]
    },
    {
     "name": "stderr",
     "output_type": "stream",
     "text": [
      "/anaconda3/lib/python3.6/site-packages/lightgbm/engine.py:102: UserWarning: Found `num_iteration` in params. Will use it instead of argument\n",
      "  warnings.warn(\"Found `{}` in params. Will use it instead of argument\".format(alias))\n",
      "/anaconda3/lib/python3.6/site-packages/lightgbm/engine.py:107: UserWarning: Found `early_stopping` in params. Will use it instead of argument\n",
      "  warnings.warn(\"Found `{}` in params. Will use it instead of argument\".format(alias))\n"
     ]
    },
    {
     "name": "stdout",
     "output_type": "stream",
     "text": [
      "[1]\tvalid_0's l2: 4.41045\n",
      "Training until validation scores don't improve for 10 rounds.\n",
      "[2]\tvalid_0's l2: 4.04704\n",
      "[3]\tvalid_0's l2: 4.18496\n",
      "[4]\tvalid_0's l2: 4.231\n",
      "[5]\tvalid_0's l2: 4.38873\n",
      "[6]\tvalid_0's l2: 4.40768\n",
      "[7]\tvalid_0's l2: 4.43323\n",
      "[8]\tvalid_0's l2: 4.73725\n",
      "[9]\tvalid_0's l2: 4.71374\n",
      "[10]\tvalid_0's l2: 4.69449\n",
      "[11]\tvalid_0's l2: 4.76032\n",
      "[12]\tvalid_0's l2: 4.77994\n",
      "Early stopping, best iteration is:\n",
      "[2]\tvalid_0's l2: 4.04704\n"
     ]
    },
    {
     "name": "stderr",
     "output_type": "stream",
     "text": [
      "/anaconda3/lib/python3.6/site-packages/lightgbm/engine.py:102: UserWarning: Found `num_iteration` in params. Will use it instead of argument\n",
      "  warnings.warn(\"Found `{}` in params. Will use it instead of argument\".format(alias))\n",
      "/anaconda3/lib/python3.6/site-packages/lightgbm/engine.py:107: UserWarning: Found `early_stopping` in params. Will use it instead of argument\n",
      "  warnings.warn(\"Found `{}` in params. Will use it instead of argument\".format(alias))\n"
     ]
    },
    {
     "name": "stdout",
     "output_type": "stream",
     "text": [
      "[1]\tvalid_0's l2: 4.49085\n",
      "Training until validation scores don't improve for 10 rounds.\n",
      "[2]\tvalid_0's l2: 4.50521\n",
      "[3]\tvalid_0's l2: 4.3747\n",
      "[4]\tvalid_0's l2: 4.49115\n",
      "[5]\tvalid_0's l2: 4.6405\n",
      "[6]\tvalid_0's l2: 4.64848\n",
      "[7]\tvalid_0's l2: 4.57868\n",
      "[8]\tvalid_0's l2: 4.60452\n",
      "[9]\tvalid_0's l2: 4.61919\n",
      "[10]\tvalid_0's l2: 4.60207\n",
      "[11]\tvalid_0's l2: 4.59855\n",
      "[12]\tvalid_0's l2: 4.62084\n",
      "[13]\tvalid_0's l2: 4.63741\n",
      "Early stopping, best iteration is:\n",
      "[3]\tvalid_0's l2: 4.3747\n"
     ]
    },
    {
     "name": "stderr",
     "output_type": "stream",
     "text": [
      "/anaconda3/lib/python3.6/site-packages/lightgbm/engine.py:102: UserWarning: Found `num_iteration` in params. Will use it instead of argument\n",
      "  warnings.warn(\"Found `{}` in params. Will use it instead of argument\".format(alias))\n",
      "/anaconda3/lib/python3.6/site-packages/lightgbm/engine.py:107: UserWarning: Found `early_stopping` in params. Will use it instead of argument\n",
      "  warnings.warn(\"Found `{}` in params. Will use it instead of argument\".format(alias))\n"
     ]
    },
    {
     "name": "stdout",
     "output_type": "stream",
     "text": [
      "[1]\tvalid_0's l2: 4.44461\n",
      "Training until validation scores don't improve for 10 rounds.\n",
      "[2]\tvalid_0's l2: 4.46334\n",
      "[3]\tvalid_0's l2: 4.44977\n",
      "[4]\tvalid_0's l2: 4.5429\n",
      "[5]\tvalid_0's l2: 4.53375\n",
      "[6]\tvalid_0's l2: 4.50998\n",
      "[7]\tvalid_0's l2: 4.53474\n",
      "[8]\tvalid_0's l2: 4.41224\n",
      "[9]\tvalid_0's l2: 4.41768\n",
      "[10]\tvalid_0's l2: 4.43835\n",
      "[11]\tvalid_0's l2: 4.42542\n",
      "[12]\tvalid_0's l2: 4.43027\n",
      "[13]\tvalid_0's l2: 4.43919\n",
      "[14]\tvalid_0's l2: 4.42361\n",
      "[15]\tvalid_0's l2: 4.41956\n",
      "[16]\tvalid_0's l2: 4.45613\n",
      "[17]\tvalid_0's l2: 4.45448\n",
      "[18]\tvalid_0's l2: 4.48171\n",
      "Early stopping, best iteration is:\n",
      "[8]\tvalid_0's l2: 4.41224\n"
     ]
    },
    {
     "name": "stderr",
     "output_type": "stream",
     "text": [
      "/anaconda3/lib/python3.6/site-packages/lightgbm/engine.py:102: UserWarning: Found `num_iteration` in params. Will use it instead of argument\n",
      "  warnings.warn(\"Found `{}` in params. Will use it instead of argument\".format(alias))\n",
      "/anaconda3/lib/python3.6/site-packages/lightgbm/engine.py:107: UserWarning: Found `early_stopping` in params. Will use it instead of argument\n",
      "  warnings.warn(\"Found `{}` in params. Will use it instead of argument\".format(alias))\n"
     ]
    },
    {
     "name": "stdout",
     "output_type": "stream",
     "text": [
      "[1]\tvalid_0's l2: 4.47986\n",
      "Training until validation scores don't improve for 10 rounds.\n",
      "[2]\tvalid_0's l2: 4.21474\n",
      "[3]\tvalid_0's l2: 4.24997\n",
      "[4]\tvalid_0's l2: 4.47354\n",
      "[5]\tvalid_0's l2: 4.45803\n",
      "[6]\tvalid_0's l2: 4.37992\n",
      "[7]\tvalid_0's l2: 4.38092\n",
      "[8]\tvalid_0's l2: 4.63681\n",
      "[9]\tvalid_0's l2: 4.67853\n",
      "[10]\tvalid_0's l2: 4.71361\n",
      "[11]\tvalid_0's l2: 4.73663\n",
      "[12]\tvalid_0's l2: 4.75391\n",
      "Early stopping, best iteration is:\n",
      "[2]\tvalid_0's l2: 4.21474\n"
     ]
    },
    {
     "name": "stderr",
     "output_type": "stream",
     "text": [
      "/anaconda3/lib/python3.6/site-packages/lightgbm/engine.py:102: UserWarning: Found `num_iteration` in params. Will use it instead of argument\n",
      "  warnings.warn(\"Found `{}` in params. Will use it instead of argument\".format(alias))\n",
      "/anaconda3/lib/python3.6/site-packages/lightgbm/engine.py:107: UserWarning: Found `early_stopping` in params. Will use it instead of argument\n",
      "  warnings.warn(\"Found `{}` in params. Will use it instead of argument\".format(alias))\n"
     ]
    },
    {
     "name": "stdout",
     "output_type": "stream",
     "text": [
      "[1]\tvalid_0's l2: 4.48705\n",
      "Training until validation scores don't improve for 10 rounds.\n",
      "[2]\tvalid_0's l2: 4.23873\n",
      "[3]\tvalid_0's l2: 4.56727\n",
      "[4]\tvalid_0's l2: 4.62751\n",
      "[5]\tvalid_0's l2: 4.65949\n",
      "[6]\tvalid_0's l2: 4.62444\n",
      "[7]\tvalid_0's l2: 4.56656\n",
      "[8]\tvalid_0's l2: 4.75687\n",
      "[9]\tvalid_0's l2: 4.73429\n",
      "[10]\tvalid_0's l2: 4.7365\n",
      "[11]\tvalid_0's l2: 4.75674\n",
      "[12]\tvalid_0's l2: 4.77309\n",
      "Early stopping, best iteration is:\n",
      "[2]\tvalid_0's l2: 4.23873\n"
     ]
    },
    {
     "name": "stderr",
     "output_type": "stream",
     "text": [
      "/anaconda3/lib/python3.6/site-packages/lightgbm/engine.py:102: UserWarning: Found `num_iteration` in params. Will use it instead of argument\n",
      "  warnings.warn(\"Found `{}` in params. Will use it instead of argument\".format(alias))\n",
      "/anaconda3/lib/python3.6/site-packages/lightgbm/engine.py:107: UserWarning: Found `early_stopping` in params. Will use it instead of argument\n",
      "  warnings.warn(\"Found `{}` in params. Will use it instead of argument\".format(alias))\n"
     ]
    },
    {
     "name": "stdout",
     "output_type": "stream",
     "text": [
      "[1]\tvalid_0's l2: 4.46737\n",
      "Training until validation scores don't improve for 10 rounds.\n",
      "[2]\tvalid_0's l2: 4.19124\n",
      "[3]\tvalid_0's l2: 4.26065\n",
      "[4]\tvalid_0's l2: 4.41842\n",
      "[5]\tvalid_0's l2: 4.51909\n",
      "[6]\tvalid_0's l2: 4.48295\n",
      "[7]\tvalid_0's l2: 4.96156\n",
      "[8]\tvalid_0's l2: 4.99249\n",
      "[9]\tvalid_0's l2: 4.94486\n",
      "[10]\tvalid_0's l2: 4.95788\n",
      "[11]\tvalid_0's l2: 4.93034\n",
      "[12]\tvalid_0's l2: 4.94565\n",
      "Early stopping, best iteration is:\n",
      "[2]\tvalid_0's l2: 4.19124\n"
     ]
    },
    {
     "name": "stderr",
     "output_type": "stream",
     "text": [
      "/anaconda3/lib/python3.6/site-packages/lightgbm/engine.py:102: UserWarning: Found `num_iteration` in params. Will use it instead of argument\n",
      "  warnings.warn(\"Found `{}` in params. Will use it instead of argument\".format(alias))\n",
      "/anaconda3/lib/python3.6/site-packages/lightgbm/engine.py:107: UserWarning: Found `early_stopping` in params. Will use it instead of argument\n",
      "  warnings.warn(\"Found `{}` in params. Will use it instead of argument\".format(alias))\n"
     ]
    },
    {
     "name": "stdout",
     "output_type": "stream",
     "text": [
      "[1]\tvalid_0's l2: 4.42374\n",
      "Training until validation scores don't improve for 10 rounds.\n",
      "[2]\tvalid_0's l2: 4.14234\n",
      "[3]\tvalid_0's l2: 4.29621\n",
      "[4]\tvalid_0's l2: 4.34656\n",
      "[5]\tvalid_0's l2: 4.19382\n",
      "[6]\tvalid_0's l2: 4.18495\n",
      "[7]\tvalid_0's l2: 4.22549\n",
      "[8]\tvalid_0's l2: 4.19038\n",
      "[9]\tvalid_0's l2: 4.28305\n",
      "[10]\tvalid_0's l2: 4.28517\n",
      "[11]\tvalid_0's l2: 4.29234\n",
      "[12]\tvalid_0's l2: 4.29088\n",
      "Early stopping, best iteration is:\n",
      "[2]\tvalid_0's l2: 4.14234\n"
     ]
    },
    {
     "name": "stderr",
     "output_type": "stream",
     "text": [
      "/anaconda3/lib/python3.6/site-packages/lightgbm/engine.py:102: UserWarning: Found `num_iteration` in params. Will use it instead of argument\n",
      "  warnings.warn(\"Found `{}` in params. Will use it instead of argument\".format(alias))\n",
      "/anaconda3/lib/python3.6/site-packages/lightgbm/engine.py:107: UserWarning: Found `early_stopping` in params. Will use it instead of argument\n",
      "  warnings.warn(\"Found `{}` in params. Will use it instead of argument\".format(alias))\n"
     ]
    },
    {
     "name": "stdout",
     "output_type": "stream",
     "text": [
      "[1]\tvalid_0's l2: 4.5125\n",
      "Training until validation scores don't improve for 10 rounds.\n",
      "[2]\tvalid_0's l2: 4.53866\n",
      "[3]\tvalid_0's l2: 4.43287\n",
      "[4]\tvalid_0's l2: 4.65652\n",
      "[5]\tvalid_0's l2: 4.64833\n",
      "[6]\tvalid_0's l2: 4.58215\n",
      "[7]\tvalid_0's l2: 4.15519\n",
      "[8]\tvalid_0's l2: 4.23987\n",
      "[9]\tvalid_0's l2: 4.27072\n",
      "[10]\tvalid_0's l2: 4.59197\n",
      "[11]\tvalid_0's l2: 4.56954\n",
      "[12]\tvalid_0's l2: 4.57881\n",
      "[13]\tvalid_0's l2: 4.59565\n",
      "[14]\tvalid_0's l2: 4.68064\n",
      "[15]\tvalid_0's l2: 4.98702\n",
      "[16]\tvalid_0's l2: 4.98602\n",
      "[17]\tvalid_0's l2: 4.96543\n",
      "Early stopping, best iteration is:\n",
      "[7]\tvalid_0's l2: 4.15519\n"
     ]
    },
    {
     "name": "stderr",
     "output_type": "stream",
     "text": [
      "/anaconda3/lib/python3.6/site-packages/lightgbm/engine.py:102: UserWarning: Found `num_iteration` in params. Will use it instead of argument\n",
      "  warnings.warn(\"Found `{}` in params. Will use it instead of argument\".format(alias))\n",
      "/anaconda3/lib/python3.6/site-packages/lightgbm/engine.py:107: UserWarning: Found `early_stopping` in params. Will use it instead of argument\n",
      "  warnings.warn(\"Found `{}` in params. Will use it instead of argument\".format(alias))\n"
     ]
    },
    {
     "name": "stdout",
     "output_type": "stream",
     "text": [
      "[1]\tvalid_0's l2: 4.28374\n",
      "Training until validation scores don't improve for 10 rounds.\n",
      "[2]\tvalid_0's l2: 4.09295\n",
      "[3]\tvalid_0's l2: 4.13107\n",
      "[4]\tvalid_0's l2: 4.26069\n",
      "[5]\tvalid_0's l2: 4.25352\n",
      "[6]\tvalid_0's l2: 4.41912\n",
      "[7]\tvalid_0's l2: 4.46303\n",
      "[8]\tvalid_0's l2: 4.46259\n",
      "[9]\tvalid_0's l2: 4.52362\n",
      "[10]\tvalid_0's l2: 4.58428\n",
      "[11]\tvalid_0's l2: 4.62575\n",
      "[12]\tvalid_0's l2: 4.67141\n",
      "Early stopping, best iteration is:\n",
      "[2]\tvalid_0's l2: 4.09295\n"
     ]
    },
    {
     "name": "stderr",
     "output_type": "stream",
     "text": [
      "/anaconda3/lib/python3.6/site-packages/lightgbm/engine.py:102: UserWarning: Found `num_iteration` in params. Will use it instead of argument\n",
      "  warnings.warn(\"Found `{}` in params. Will use it instead of argument\".format(alias))\n",
      "/anaconda3/lib/python3.6/site-packages/lightgbm/engine.py:107: UserWarning: Found `early_stopping` in params. Will use it instead of argument\n",
      "  warnings.warn(\"Found `{}` in params. Will use it instead of argument\".format(alias))\n"
     ]
    },
    {
     "name": "stdout",
     "output_type": "stream",
     "text": [
      "[1]\tvalid_0's l2: 4.41045\n",
      "Training until validation scores don't improve for 10 rounds.\n",
      "[2]\tvalid_0's l2: 4.04704\n",
      "[3]\tvalid_0's l2: 4.18496\n",
      "[4]\tvalid_0's l2: 4.231\n",
      "[5]\tvalid_0's l2: 4.38873\n",
      "[6]\tvalid_0's l2: 4.40768\n",
      "[7]\tvalid_0's l2: 4.43323\n",
      "[8]\tvalid_0's l2: 4.73725\n",
      "[9]\tvalid_0's l2: 4.71374\n",
      "[10]\tvalid_0's l2: 4.69449\n",
      "[11]\tvalid_0's l2: 4.76032\n",
      "[12]\tvalid_0's l2: 4.77994\n",
      "Early stopping, best iteration is:\n",
      "[2]\tvalid_0's l2: 4.04704\n"
     ]
    },
    {
     "name": "stderr",
     "output_type": "stream",
     "text": [
      "/anaconda3/lib/python3.6/site-packages/lightgbm/engine.py:102: UserWarning: Found `num_iteration` in params. Will use it instead of argument\n",
      "  warnings.warn(\"Found `{}` in params. Will use it instead of argument\".format(alias))\n",
      "/anaconda3/lib/python3.6/site-packages/lightgbm/engine.py:107: UserWarning: Found `early_stopping` in params. Will use it instead of argument\n",
      "  warnings.warn(\"Found `{}` in params. Will use it instead of argument\".format(alias))\n"
     ]
    },
    {
     "name": "stdout",
     "output_type": "stream",
     "text": [
      "[1]\tvalid_0's l2: 4.49085\n",
      "Training until validation scores don't improve for 10 rounds.\n",
      "[2]\tvalid_0's l2: 4.50521\n",
      "[3]\tvalid_0's l2: 4.3747\n",
      "[4]\tvalid_0's l2: 4.49115\n",
      "[5]\tvalid_0's l2: 4.6405\n",
      "[6]\tvalid_0's l2: 4.64848\n",
      "[7]\tvalid_0's l2: 4.57868\n",
      "[8]\tvalid_0's l2: 4.60452\n",
      "[9]\tvalid_0's l2: 4.61919\n",
      "[10]\tvalid_0's l2: 4.60207\n",
      "[11]\tvalid_0's l2: 4.59855\n",
      "[12]\tvalid_0's l2: 4.62084\n",
      "[13]\tvalid_0's l2: 4.63741\n",
      "Early stopping, best iteration is:\n",
      "[3]\tvalid_0's l2: 4.3747\n"
     ]
    },
    {
     "name": "stderr",
     "output_type": "stream",
     "text": [
      "/anaconda3/lib/python3.6/site-packages/lightgbm/engine.py:102: UserWarning: Found `num_iteration` in params. Will use it instead of argument\n",
      "  warnings.warn(\"Found `{}` in params. Will use it instead of argument\".format(alias))\n",
      "/anaconda3/lib/python3.6/site-packages/lightgbm/engine.py:107: UserWarning: Found `early_stopping` in params. Will use it instead of argument\n",
      "  warnings.warn(\"Found `{}` in params. Will use it instead of argument\".format(alias))\n"
     ]
    },
    {
     "name": "stdout",
     "output_type": "stream",
     "text": [
      "[1]\tvalid_0's l2: 4.44461\n",
      "Training until validation scores don't improve for 10 rounds.\n",
      "[2]\tvalid_0's l2: 4.46334\n",
      "[3]\tvalid_0's l2: 4.44977\n",
      "[4]\tvalid_0's l2: 4.5429\n",
      "[5]\tvalid_0's l2: 4.53375\n",
      "[6]\tvalid_0's l2: 4.50998\n",
      "[7]\tvalid_0's l2: 4.53474\n",
      "[8]\tvalid_0's l2: 4.41224\n",
      "[9]\tvalid_0's l2: 4.41768\n",
      "[10]\tvalid_0's l2: 4.43835\n",
      "[11]\tvalid_0's l2: 4.42542\n",
      "[12]\tvalid_0's l2: 4.43027\n",
      "[13]\tvalid_0's l2: 4.43919\n",
      "[14]\tvalid_0's l2: 4.42361\n",
      "[15]\tvalid_0's l2: 4.41956\n",
      "[16]\tvalid_0's l2: 4.45613\n",
      "[17]\tvalid_0's l2: 4.45448\n",
      "[18]\tvalid_0's l2: 4.48171\n",
      "Early stopping, best iteration is:\n",
      "[8]\tvalid_0's l2: 4.41224\n"
     ]
    },
    {
     "name": "stderr",
     "output_type": "stream",
     "text": [
      "/anaconda3/lib/python3.6/site-packages/lightgbm/engine.py:102: UserWarning: Found `num_iteration` in params. Will use it instead of argument\n",
      "  warnings.warn(\"Found `{}` in params. Will use it instead of argument\".format(alias))\n",
      "/anaconda3/lib/python3.6/site-packages/lightgbm/engine.py:107: UserWarning: Found `early_stopping` in params. Will use it instead of argument\n",
      "  warnings.warn(\"Found `{}` in params. Will use it instead of argument\".format(alias))\n"
     ]
    },
    {
     "name": "stdout",
     "output_type": "stream",
     "text": [
      "[1]\tvalid_0's l2: 4.47986\n",
      "Training until validation scores don't improve for 10 rounds.\n",
      "[2]\tvalid_0's l2: 4.21474\n",
      "[3]\tvalid_0's l2: 4.24997\n",
      "[4]\tvalid_0's l2: 4.47354\n",
      "[5]\tvalid_0's l2: 4.45803\n",
      "[6]\tvalid_0's l2: 4.37992\n",
      "[7]\tvalid_0's l2: 4.38092\n",
      "[8]\tvalid_0's l2: 4.63681\n",
      "[9]\tvalid_0's l2: 4.67853\n",
      "[10]\tvalid_0's l2: 4.71361\n",
      "[11]\tvalid_0's l2: 4.73663\n",
      "[12]\tvalid_0's l2: 4.75391\n",
      "Early stopping, best iteration is:\n",
      "[2]\tvalid_0's l2: 4.21474\n"
     ]
    },
    {
     "name": "stderr",
     "output_type": "stream",
     "text": [
      "/anaconda3/lib/python3.6/site-packages/lightgbm/engine.py:102: UserWarning: Found `num_iteration` in params. Will use it instead of argument\n",
      "  warnings.warn(\"Found `{}` in params. Will use it instead of argument\".format(alias))\n",
      "/anaconda3/lib/python3.6/site-packages/lightgbm/engine.py:107: UserWarning: Found `early_stopping` in params. Will use it instead of argument\n",
      "  warnings.warn(\"Found `{}` in params. Will use it instead of argument\".format(alias))\n"
     ]
    },
    {
     "name": "stdout",
     "output_type": "stream",
     "text": [
      "[1]\tvalid_0's l2: 4.48705\n",
      "Training until validation scores don't improve for 10 rounds.\n",
      "[2]\tvalid_0's l2: 4.23873\n",
      "[3]\tvalid_0's l2: 4.56727\n",
      "[4]\tvalid_0's l2: 4.62751\n",
      "[5]\tvalid_0's l2: 4.65949\n",
      "[6]\tvalid_0's l2: 4.62444\n",
      "[7]\tvalid_0's l2: 4.56656\n",
      "[8]\tvalid_0's l2: 4.75687\n",
      "[9]\tvalid_0's l2: 4.73429\n",
      "[10]\tvalid_0's l2: 4.7365\n",
      "[11]\tvalid_0's l2: 4.75674\n",
      "[12]\tvalid_0's l2: 4.77309\n",
      "Early stopping, best iteration is:\n",
      "[2]\tvalid_0's l2: 4.23873\n"
     ]
    },
    {
     "name": "stderr",
     "output_type": "stream",
     "text": [
      "/anaconda3/lib/python3.6/site-packages/lightgbm/engine.py:102: UserWarning: Found `num_iteration` in params. Will use it instead of argument\n",
      "  warnings.warn(\"Found `{}` in params. Will use it instead of argument\".format(alias))\n",
      "/anaconda3/lib/python3.6/site-packages/lightgbm/engine.py:107: UserWarning: Found `early_stopping` in params. Will use it instead of argument\n",
      "  warnings.warn(\"Found `{}` in params. Will use it instead of argument\".format(alias))\n"
     ]
    },
    {
     "name": "stdout",
     "output_type": "stream",
     "text": [
      "[1]\tvalid_0's l2: 4.46737\n",
      "Training until validation scores don't improve for 10 rounds.\n",
      "[2]\tvalid_0's l2: 4.19124\n",
      "[3]\tvalid_0's l2: 4.26065\n",
      "[4]\tvalid_0's l2: 4.41842\n",
      "[5]\tvalid_0's l2: 4.51909\n",
      "[6]\tvalid_0's l2: 4.48295\n",
      "[7]\tvalid_0's l2: 4.96156\n",
      "[8]\tvalid_0's l2: 4.99249\n",
      "[9]\tvalid_0's l2: 4.94486\n",
      "[10]\tvalid_0's l2: 4.95788\n",
      "[11]\tvalid_0's l2: 4.93034\n",
      "[12]\tvalid_0's l2: 4.94565\n",
      "Early stopping, best iteration is:\n",
      "[2]\tvalid_0's l2: 4.19124\n"
     ]
    },
    {
     "name": "stderr",
     "output_type": "stream",
     "text": [
      "/anaconda3/lib/python3.6/site-packages/lightgbm/engine.py:102: UserWarning: Found `num_iteration` in params. Will use it instead of argument\n",
      "  warnings.warn(\"Found `{}` in params. Will use it instead of argument\".format(alias))\n",
      "/anaconda3/lib/python3.6/site-packages/lightgbm/engine.py:107: UserWarning: Found `early_stopping` in params. Will use it instead of argument\n",
      "  warnings.warn(\"Found `{}` in params. Will use it instead of argument\".format(alias))\n"
     ]
    },
    {
     "name": "stdout",
     "output_type": "stream",
     "text": [
      "[1]\tvalid_0's l2: 4.42374\n",
      "Training until validation scores don't improve for 10 rounds.\n",
      "[2]\tvalid_0's l2: 4.14234\n",
      "[3]\tvalid_0's l2: 4.29621\n",
      "[4]\tvalid_0's l2: 4.35275\n",
      "[5]\tvalid_0's l2: 4.11219\n",
      "[6]\tvalid_0's l2: 4.1385\n",
      "[7]\tvalid_0's l2: 4.26476\n",
      "[8]\tvalid_0's l2: 4.31163\n",
      "[9]\tvalid_0's l2: 4.30107\n",
      "[10]\tvalid_0's l2: 4.28926\n",
      "[11]\tvalid_0's l2: 4.31023\n",
      "[12]\tvalid_0's l2: 4.32312\n",
      "[13]\tvalid_0's l2: 4.32282\n",
      "[14]\tvalid_0's l2: 4.31163\n",
      "[15]\tvalid_0's l2: 4.31456\n",
      "Early stopping, best iteration is:\n",
      "[5]\tvalid_0's l2: 4.11219\n"
     ]
    },
    {
     "name": "stderr",
     "output_type": "stream",
     "text": [
      "/anaconda3/lib/python3.6/site-packages/lightgbm/engine.py:102: UserWarning: Found `num_iteration` in params. Will use it instead of argument\n",
      "  warnings.warn(\"Found `{}` in params. Will use it instead of argument\".format(alias))\n",
      "/anaconda3/lib/python3.6/site-packages/lightgbm/engine.py:107: UserWarning: Found `early_stopping` in params. Will use it instead of argument\n",
      "  warnings.warn(\"Found `{}` in params. Will use it instead of argument\".format(alias))\n"
     ]
    },
    {
     "name": "stdout",
     "output_type": "stream",
     "text": [
      "[1]\tvalid_0's l2: 4.5125\n",
      "Training until validation scores don't improve for 10 rounds.\n",
      "[2]\tvalid_0's l2: 4.53866\n",
      "[3]\tvalid_0's l2: 4.43287\n",
      "[4]\tvalid_0's l2: 4.64728\n",
      "[5]\tvalid_0's l2: 4.40646\n",
      "[6]\tvalid_0's l2: 4.37077\n",
      "[7]\tvalid_0's l2: 4.36772\n",
      "[8]\tvalid_0's l2: 4.41098\n",
      "[9]\tvalid_0's l2: 4.44052\n",
      "[10]\tvalid_0's l2: 4.45761\n",
      "[11]\tvalid_0's l2: 4.45714\n",
      "[12]\tvalid_0's l2: 4.45758\n",
      "[13]\tvalid_0's l2: 4.56082\n",
      "[14]\tvalid_0's l2: 4.56231\n",
      "[15]\tvalid_0's l2: 4.56924\n",
      "[16]\tvalid_0's l2: 4.51909\n",
      "[17]\tvalid_0's l2: 4.5145\n",
      "Early stopping, best iteration is:\n",
      "[7]\tvalid_0's l2: 4.36772\n"
     ]
    },
    {
     "name": "stderr",
     "output_type": "stream",
     "text": [
      "/anaconda3/lib/python3.6/site-packages/lightgbm/engine.py:102: UserWarning: Found `num_iteration` in params. Will use it instead of argument\n",
      "  warnings.warn(\"Found `{}` in params. Will use it instead of argument\".format(alias))\n",
      "/anaconda3/lib/python3.6/site-packages/lightgbm/engine.py:107: UserWarning: Found `early_stopping` in params. Will use it instead of argument\n",
      "  warnings.warn(\"Found `{}` in params. Will use it instead of argument\".format(alias))\n"
     ]
    },
    {
     "name": "stdout",
     "output_type": "stream",
     "text": [
      "[1]\tvalid_0's l2: 4.28374\n",
      "Training until validation scores don't improve for 10 rounds.\n",
      "[2]\tvalid_0's l2: 4.09295\n",
      "[3]\tvalid_0's l2: 4.13107\n",
      "[4]\tvalid_0's l2: 4.26069\n",
      "[5]\tvalid_0's l2: 4.25249\n",
      "[6]\tvalid_0's l2: 4.43286\n",
      "[7]\tvalid_0's l2: 4.4519\n",
      "[8]\tvalid_0's l2: 4.42594\n",
      "[9]\tvalid_0's l2: 4.42946\n",
      "[10]\tvalid_0's l2: 4.43354\n",
      "[11]\tvalid_0's l2: 4.47516\n",
      "[12]\tvalid_0's l2: 4.49978\n",
      "Early stopping, best iteration is:\n",
      "[2]\tvalid_0's l2: 4.09295\n"
     ]
    },
    {
     "name": "stderr",
     "output_type": "stream",
     "text": [
      "/anaconda3/lib/python3.6/site-packages/lightgbm/engine.py:102: UserWarning: Found `num_iteration` in params. Will use it instead of argument\n",
      "  warnings.warn(\"Found `{}` in params. Will use it instead of argument\".format(alias))\n",
      "/anaconda3/lib/python3.6/site-packages/lightgbm/engine.py:107: UserWarning: Found `early_stopping` in params. Will use it instead of argument\n",
      "  warnings.warn(\"Found `{}` in params. Will use it instead of argument\".format(alias))\n"
     ]
    },
    {
     "name": "stdout",
     "output_type": "stream",
     "text": [
      "[1]\tvalid_0's l2: 4.41045\n",
      "Training until validation scores don't improve for 10 rounds.\n",
      "[2]\tvalid_0's l2: 4.04704\n",
      "[3]\tvalid_0's l2: 4.18496\n",
      "[4]\tvalid_0's l2: 4.231\n",
      "[5]\tvalid_0's l2: 4.39296\n",
      "[6]\tvalid_0's l2: 4.4079\n",
      "[7]\tvalid_0's l2: 4.4441\n",
      "[8]\tvalid_0's l2: 4.51679\n",
      "[9]\tvalid_0's l2: 4.57296\n",
      "[10]\tvalid_0's l2: 4.55447\n",
      "[11]\tvalid_0's l2: 4.56173\n",
      "[12]\tvalid_0's l2: 4.60158\n",
      "Early stopping, best iteration is:\n",
      "[2]\tvalid_0's l2: 4.04704\n"
     ]
    },
    {
     "name": "stderr",
     "output_type": "stream",
     "text": [
      "/anaconda3/lib/python3.6/site-packages/lightgbm/engine.py:102: UserWarning: Found `num_iteration` in params. Will use it instead of argument\n",
      "  warnings.warn(\"Found `{}` in params. Will use it instead of argument\".format(alias))\n",
      "/anaconda3/lib/python3.6/site-packages/lightgbm/engine.py:107: UserWarning: Found `early_stopping` in params. Will use it instead of argument\n",
      "  warnings.warn(\"Found `{}` in params. Will use it instead of argument\".format(alias))\n"
     ]
    },
    {
     "name": "stdout",
     "output_type": "stream",
     "text": [
      "[1]\tvalid_0's l2: 4.49085\n",
      "Training until validation scores don't improve for 10 rounds.\n",
      "[2]\tvalid_0's l2: 4.50521\n",
      "[3]\tvalid_0's l2: 4.3747\n",
      "[4]\tvalid_0's l2: 4.48609\n",
      "[5]\tvalid_0's l2: 4.63245\n",
      "[6]\tvalid_0's l2: 4.60782\n",
      "[7]\tvalid_0's l2: 4.5886\n",
      "[8]\tvalid_0's l2: 4.63318\n",
      "[9]\tvalid_0's l2: 4.64134\n",
      "[10]\tvalid_0's l2: 4.54811\n",
      "[11]\tvalid_0's l2: 4.5842\n",
      "[12]\tvalid_0's l2: 4.59141\n",
      "[13]\tvalid_0's l2: 4.65262\n",
      "Early stopping, best iteration is:\n",
      "[3]\tvalid_0's l2: 4.3747\n"
     ]
    },
    {
     "name": "stderr",
     "output_type": "stream",
     "text": [
      "/anaconda3/lib/python3.6/site-packages/lightgbm/engine.py:102: UserWarning: Found `num_iteration` in params. Will use it instead of argument\n",
      "  warnings.warn(\"Found `{}` in params. Will use it instead of argument\".format(alias))\n",
      "/anaconda3/lib/python3.6/site-packages/lightgbm/engine.py:107: UserWarning: Found `early_stopping` in params. Will use it instead of argument\n",
      "  warnings.warn(\"Found `{}` in params. Will use it instead of argument\".format(alias))\n"
     ]
    },
    {
     "name": "stdout",
     "output_type": "stream",
     "text": [
      "[1]\tvalid_0's l2: 4.44461\n",
      "Training until validation scores don't improve for 10 rounds.\n",
      "[2]\tvalid_0's l2: 4.46334\n",
      "[3]\tvalid_0's l2: 4.44977\n",
      "[4]\tvalid_0's l2: 4.5429\n",
      "[5]\tvalid_0's l2: 4.53375\n",
      "[6]\tvalid_0's l2: 4.49777\n",
      "[7]\tvalid_0's l2: 4.51059\n",
      "[8]\tvalid_0's l2: 4.3793\n",
      "[9]\tvalid_0's l2: 4.2657\n",
      "[10]\tvalid_0's l2: 4.34265\n",
      "[11]\tvalid_0's l2: 4.36718\n",
      "[12]\tvalid_0's l2: 4.40724\n",
      "[13]\tvalid_0's l2: 4.455\n",
      "[14]\tvalid_0's l2: 4.4501\n",
      "[15]\tvalid_0's l2: 4.65882\n",
      "[16]\tvalid_0's l2: 4.63648\n",
      "[17]\tvalid_0's l2: 4.58257\n",
      "[18]\tvalid_0's l2: 4.60759\n",
      "[19]\tvalid_0's l2: 4.59247\n",
      "Early stopping, best iteration is:\n",
      "[9]\tvalid_0's l2: 4.2657\n"
     ]
    },
    {
     "name": "stderr",
     "output_type": "stream",
     "text": [
      "/anaconda3/lib/python3.6/site-packages/lightgbm/engine.py:102: UserWarning: Found `num_iteration` in params. Will use it instead of argument\n",
      "  warnings.warn(\"Found `{}` in params. Will use it instead of argument\".format(alias))\n",
      "/anaconda3/lib/python3.6/site-packages/lightgbm/engine.py:107: UserWarning: Found `early_stopping` in params. Will use it instead of argument\n",
      "  warnings.warn(\"Found `{}` in params. Will use it instead of argument\".format(alias))\n"
     ]
    },
    {
     "name": "stdout",
     "output_type": "stream",
     "text": [
      "[1]\tvalid_0's l2: 4.47986\n",
      "Training until validation scores don't improve for 10 rounds.\n",
      "[2]\tvalid_0's l2: 4.21474\n",
      "[3]\tvalid_0's l2: 4.24997\n",
      "[4]\tvalid_0's l2: 4.47333\n",
      "[5]\tvalid_0's l2: 4.5695\n",
      "[6]\tvalid_0's l2: 4.5946\n",
      "[7]\tvalid_0's l2: 4.53758\n",
      "[8]\tvalid_0's l2: 4.55077\n",
      "[9]\tvalid_0's l2: 4.57149\n",
      "[10]\tvalid_0's l2: 4.54329\n",
      "[11]\tvalid_0's l2: 4.54135\n",
      "[12]\tvalid_0's l2: 4.55467\n",
      "Early stopping, best iteration is:\n",
      "[2]\tvalid_0's l2: 4.21474\n"
     ]
    },
    {
     "name": "stderr",
     "output_type": "stream",
     "text": [
      "/anaconda3/lib/python3.6/site-packages/lightgbm/engine.py:102: UserWarning: Found `num_iteration` in params. Will use it instead of argument\n",
      "  warnings.warn(\"Found `{}` in params. Will use it instead of argument\".format(alias))\n",
      "/anaconda3/lib/python3.6/site-packages/lightgbm/engine.py:107: UserWarning: Found `early_stopping` in params. Will use it instead of argument\n",
      "  warnings.warn(\"Found `{}` in params. Will use it instead of argument\".format(alias))\n"
     ]
    },
    {
     "name": "stdout",
     "output_type": "stream",
     "text": [
      "[1]\tvalid_0's l2: 4.48705\n",
      "Training until validation scores don't improve for 10 rounds.\n",
      "[2]\tvalid_0's l2: 4.23873\n",
      "[3]\tvalid_0's l2: 4.56426\n",
      "[4]\tvalid_0's l2: 4.62962\n",
      "[5]\tvalid_0's l2: 4.67983\n",
      "[6]\tvalid_0's l2: 4.63497\n",
      "[7]\tvalid_0's l2: 4.66232\n",
      "[8]\tvalid_0's l2: 4.6798\n",
      "[9]\tvalid_0's l2: 5.00761\n",
      "[10]\tvalid_0's l2: 5.00587\n",
      "[11]\tvalid_0's l2: 5.12274\n",
      "[12]\tvalid_0's l2: 5.10739\n",
      "Early stopping, best iteration is:\n",
      "[2]\tvalid_0's l2: 4.23873\n"
     ]
    },
    {
     "name": "stderr",
     "output_type": "stream",
     "text": [
      "/anaconda3/lib/python3.6/site-packages/lightgbm/engine.py:102: UserWarning: Found `num_iteration` in params. Will use it instead of argument\n",
      "  warnings.warn(\"Found `{}` in params. Will use it instead of argument\".format(alias))\n",
      "/anaconda3/lib/python3.6/site-packages/lightgbm/engine.py:107: UserWarning: Found `early_stopping` in params. Will use it instead of argument\n",
      "  warnings.warn(\"Found `{}` in params. Will use it instead of argument\".format(alias))\n"
     ]
    },
    {
     "name": "stdout",
     "output_type": "stream",
     "text": [
      "[1]\tvalid_0's l2: 4.46737\n",
      "Training until validation scores don't improve for 10 rounds.\n",
      "[2]\tvalid_0's l2: 4.19124\n",
      "[3]\tvalid_0's l2: 4.26065\n",
      "[4]\tvalid_0's l2: 4.4377\n",
      "[5]\tvalid_0's l2: 4.49766\n",
      "[6]\tvalid_0's l2: 4.47248\n",
      "[7]\tvalid_0's l2: 4.36588\n",
      "[8]\tvalid_0's l2: 4.46096\n",
      "[9]\tvalid_0's l2: 4.67906\n",
      "[10]\tvalid_0's l2: 4.73633\n",
      "[11]\tvalid_0's l2: 4.6115\n",
      "[12]\tvalid_0's l2: 4.61537\n",
      "Early stopping, best iteration is:\n",
      "[2]\tvalid_0's l2: 4.19124\n"
     ]
    },
    {
     "name": "stderr",
     "output_type": "stream",
     "text": [
      "/anaconda3/lib/python3.6/site-packages/lightgbm/engine.py:102: UserWarning: Found `num_iteration` in params. Will use it instead of argument\n",
      "  warnings.warn(\"Found `{}` in params. Will use it instead of argument\".format(alias))\n",
      "/anaconda3/lib/python3.6/site-packages/lightgbm/engine.py:107: UserWarning: Found `early_stopping` in params. Will use it instead of argument\n",
      "  warnings.warn(\"Found `{}` in params. Will use it instead of argument\".format(alias))\n"
     ]
    },
    {
     "name": "stdout",
     "output_type": "stream",
     "text": [
      "[1]\tvalid_0's l2: 4.42374\n",
      "Training until validation scores don't improve for 10 rounds.\n",
      "[2]\tvalid_0's l2: 4.14234\n",
      "[3]\tvalid_0's l2: 4.29621\n",
      "[4]\tvalid_0's l2: 4.35275\n",
      "[5]\tvalid_0's l2: 4.11219\n",
      "[6]\tvalid_0's l2: 4.1385\n",
      "[7]\tvalid_0's l2: 4.26476\n",
      "[8]\tvalid_0's l2: 4.31163\n",
      "[9]\tvalid_0's l2: 4.30107\n",
      "[10]\tvalid_0's l2: 4.28926\n",
      "[11]\tvalid_0's l2: 4.31023\n",
      "[12]\tvalid_0's l2: 4.32312\n",
      "[13]\tvalid_0's l2: 4.32282\n",
      "[14]\tvalid_0's l2: 4.31163\n",
      "[15]\tvalid_0's l2: 4.31456\n",
      "Early stopping, best iteration is:\n",
      "[5]\tvalid_0's l2: 4.11219\n"
     ]
    },
    {
     "name": "stderr",
     "output_type": "stream",
     "text": [
      "/anaconda3/lib/python3.6/site-packages/lightgbm/engine.py:102: UserWarning: Found `num_iteration` in params. Will use it instead of argument\n",
      "  warnings.warn(\"Found `{}` in params. Will use it instead of argument\".format(alias))\n",
      "/anaconda3/lib/python3.6/site-packages/lightgbm/engine.py:107: UserWarning: Found `early_stopping` in params. Will use it instead of argument\n",
      "  warnings.warn(\"Found `{}` in params. Will use it instead of argument\".format(alias))\n"
     ]
    },
    {
     "name": "stdout",
     "output_type": "stream",
     "text": [
      "[1]\tvalid_0's l2: 4.5125\n",
      "Training until validation scores don't improve for 10 rounds.\n",
      "[2]\tvalid_0's l2: 4.53866\n",
      "[3]\tvalid_0's l2: 4.43287\n",
      "[4]\tvalid_0's l2: 4.64728\n",
      "[5]\tvalid_0's l2: 4.40646\n",
      "[6]\tvalid_0's l2: 4.37077\n",
      "[7]\tvalid_0's l2: 4.36772\n",
      "[8]\tvalid_0's l2: 4.41098\n",
      "[9]\tvalid_0's l2: 4.44052\n",
      "[10]\tvalid_0's l2: 4.45761\n",
      "[11]\tvalid_0's l2: 4.45714\n",
      "[12]\tvalid_0's l2: 4.45758\n",
      "[13]\tvalid_0's l2: 4.56082\n",
      "[14]\tvalid_0's l2: 4.56231\n",
      "[15]\tvalid_0's l2: 4.56924\n",
      "[16]\tvalid_0's l2: 4.51909\n",
      "[17]\tvalid_0's l2: 4.5145\n",
      "Early stopping, best iteration is:\n",
      "[7]\tvalid_0's l2: 4.36772\n"
     ]
    },
    {
     "name": "stderr",
     "output_type": "stream",
     "text": [
      "/anaconda3/lib/python3.6/site-packages/lightgbm/engine.py:102: UserWarning: Found `num_iteration` in params. Will use it instead of argument\n",
      "  warnings.warn(\"Found `{}` in params. Will use it instead of argument\".format(alias))\n",
      "/anaconda3/lib/python3.6/site-packages/lightgbm/engine.py:107: UserWarning: Found `early_stopping` in params. Will use it instead of argument\n",
      "  warnings.warn(\"Found `{}` in params. Will use it instead of argument\".format(alias))\n"
     ]
    },
    {
     "name": "stdout",
     "output_type": "stream",
     "text": [
      "[1]\tvalid_0's l2: 4.28374\n",
      "Training until validation scores don't improve for 10 rounds.\n",
      "[2]\tvalid_0's l2: 4.09295\n",
      "[3]\tvalid_0's l2: 4.13107\n",
      "[4]\tvalid_0's l2: 4.26069\n",
      "[5]\tvalid_0's l2: 4.25249\n",
      "[6]\tvalid_0's l2: 4.43286\n",
      "[7]\tvalid_0's l2: 4.4519\n",
      "[8]\tvalid_0's l2: 4.42594\n",
      "[9]\tvalid_0's l2: 4.42946\n",
      "[10]\tvalid_0's l2: 4.43354\n",
      "[11]\tvalid_0's l2: 4.47516\n",
      "[12]\tvalid_0's l2: 4.49978\n",
      "Early stopping, best iteration is:\n",
      "[2]\tvalid_0's l2: 4.09295\n"
     ]
    },
    {
     "name": "stderr",
     "output_type": "stream",
     "text": [
      "/anaconda3/lib/python3.6/site-packages/lightgbm/engine.py:102: UserWarning: Found `num_iteration` in params. Will use it instead of argument\n",
      "  warnings.warn(\"Found `{}` in params. Will use it instead of argument\".format(alias))\n",
      "/anaconda3/lib/python3.6/site-packages/lightgbm/engine.py:107: UserWarning: Found `early_stopping` in params. Will use it instead of argument\n",
      "  warnings.warn(\"Found `{}` in params. Will use it instead of argument\".format(alias))\n"
     ]
    },
    {
     "name": "stdout",
     "output_type": "stream",
     "text": [
      "[1]\tvalid_0's l2: 4.41045\n",
      "Training until validation scores don't improve for 10 rounds.\n",
      "[2]\tvalid_0's l2: 4.04704\n",
      "[3]\tvalid_0's l2: 4.18496\n",
      "[4]\tvalid_0's l2: 4.231\n",
      "[5]\tvalid_0's l2: 4.39296\n",
      "[6]\tvalid_0's l2: 4.4079\n",
      "[7]\tvalid_0's l2: 4.4441\n",
      "[8]\tvalid_0's l2: 4.51679\n",
      "[9]\tvalid_0's l2: 4.57296\n",
      "[10]\tvalid_0's l2: 4.55447\n",
      "[11]\tvalid_0's l2: 4.56173\n",
      "[12]\tvalid_0's l2: 4.60158\n",
      "Early stopping, best iteration is:\n",
      "[2]\tvalid_0's l2: 4.04704\n"
     ]
    },
    {
     "name": "stderr",
     "output_type": "stream",
     "text": [
      "/anaconda3/lib/python3.6/site-packages/lightgbm/engine.py:102: UserWarning: Found `num_iteration` in params. Will use it instead of argument\n",
      "  warnings.warn(\"Found `{}` in params. Will use it instead of argument\".format(alias))\n",
      "/anaconda3/lib/python3.6/site-packages/lightgbm/engine.py:107: UserWarning: Found `early_stopping` in params. Will use it instead of argument\n",
      "  warnings.warn(\"Found `{}` in params. Will use it instead of argument\".format(alias))\n"
     ]
    },
    {
     "name": "stdout",
     "output_type": "stream",
     "text": [
      "[1]\tvalid_0's l2: 4.49085\n",
      "Training until validation scores don't improve for 10 rounds.\n",
      "[2]\tvalid_0's l2: 4.50521\n",
      "[3]\tvalid_0's l2: 4.3747\n",
      "[4]\tvalid_0's l2: 4.48609\n",
      "[5]\tvalid_0's l2: 4.63245\n",
      "[6]\tvalid_0's l2: 4.60782\n",
      "[7]\tvalid_0's l2: 4.5886\n",
      "[8]\tvalid_0's l2: 4.63318\n",
      "[9]\tvalid_0's l2: 4.64134\n",
      "[10]\tvalid_0's l2: 4.54811\n",
      "[11]\tvalid_0's l2: 4.5842\n",
      "[12]\tvalid_0's l2: 4.59141\n",
      "[13]\tvalid_0's l2: 4.65262\n",
      "Early stopping, best iteration is:\n",
      "[3]\tvalid_0's l2: 4.3747\n"
     ]
    },
    {
     "name": "stderr",
     "output_type": "stream",
     "text": [
      "/anaconda3/lib/python3.6/site-packages/lightgbm/engine.py:102: UserWarning: Found `num_iteration` in params. Will use it instead of argument\n",
      "  warnings.warn(\"Found `{}` in params. Will use it instead of argument\".format(alias))\n",
      "/anaconda3/lib/python3.6/site-packages/lightgbm/engine.py:107: UserWarning: Found `early_stopping` in params. Will use it instead of argument\n",
      "  warnings.warn(\"Found `{}` in params. Will use it instead of argument\".format(alias))\n"
     ]
    },
    {
     "name": "stdout",
     "output_type": "stream",
     "text": [
      "[1]\tvalid_0's l2: 4.44461\n",
      "Training until validation scores don't improve for 10 rounds.\n",
      "[2]\tvalid_0's l2: 4.46334\n",
      "[3]\tvalid_0's l2: 4.44977\n",
      "[4]\tvalid_0's l2: 4.5429\n",
      "[5]\tvalid_0's l2: 4.53375\n",
      "[6]\tvalid_0's l2: 4.49777\n",
      "[7]\tvalid_0's l2: 4.51059\n",
      "[8]\tvalid_0's l2: 4.3793\n",
      "[9]\tvalid_0's l2: 4.2657\n",
      "[10]\tvalid_0's l2: 4.34265\n",
      "[11]\tvalid_0's l2: 4.36718\n",
      "[12]\tvalid_0's l2: 4.40724\n",
      "[13]\tvalid_0's l2: 4.455\n",
      "[14]\tvalid_0's l2: 4.4501\n",
      "[15]\tvalid_0's l2: 4.65882\n",
      "[16]\tvalid_0's l2: 4.63648\n",
      "[17]\tvalid_0's l2: 4.58257\n",
      "[18]\tvalid_0's l2: 4.60759\n",
      "[19]\tvalid_0's l2: 4.59247\n",
      "Early stopping, best iteration is:\n",
      "[9]\tvalid_0's l2: 4.2657\n"
     ]
    },
    {
     "name": "stderr",
     "output_type": "stream",
     "text": [
      "/anaconda3/lib/python3.6/site-packages/lightgbm/engine.py:102: UserWarning: Found `num_iteration` in params. Will use it instead of argument\n",
      "  warnings.warn(\"Found `{}` in params. Will use it instead of argument\".format(alias))\n",
      "/anaconda3/lib/python3.6/site-packages/lightgbm/engine.py:107: UserWarning: Found `early_stopping` in params. Will use it instead of argument\n",
      "  warnings.warn(\"Found `{}` in params. Will use it instead of argument\".format(alias))\n"
     ]
    },
    {
     "name": "stdout",
     "output_type": "stream",
     "text": [
      "[1]\tvalid_0's l2: 4.47986\n",
      "Training until validation scores don't improve for 10 rounds.\n",
      "[2]\tvalid_0's l2: 4.21474\n",
      "[3]\tvalid_0's l2: 4.24997\n",
      "[4]\tvalid_0's l2: 4.47333\n",
      "[5]\tvalid_0's l2: 4.5695\n",
      "[6]\tvalid_0's l2: 4.5946\n",
      "[7]\tvalid_0's l2: 4.53758\n",
      "[8]\tvalid_0's l2: 4.55077\n",
      "[9]\tvalid_0's l2: 4.57149\n",
      "[10]\tvalid_0's l2: 4.54329\n",
      "[11]\tvalid_0's l2: 4.54135\n",
      "[12]\tvalid_0's l2: 4.55467\n",
      "Early stopping, best iteration is:\n",
      "[2]\tvalid_0's l2: 4.21474\n"
     ]
    },
    {
     "name": "stderr",
     "output_type": "stream",
     "text": [
      "/anaconda3/lib/python3.6/site-packages/lightgbm/engine.py:102: UserWarning: Found `num_iteration` in params. Will use it instead of argument\n",
      "  warnings.warn(\"Found `{}` in params. Will use it instead of argument\".format(alias))\n",
      "/anaconda3/lib/python3.6/site-packages/lightgbm/engine.py:107: UserWarning: Found `early_stopping` in params. Will use it instead of argument\n",
      "  warnings.warn(\"Found `{}` in params. Will use it instead of argument\".format(alias))\n"
     ]
    },
    {
     "name": "stdout",
     "output_type": "stream",
     "text": [
      "[1]\tvalid_0's l2: 4.48705\n",
      "Training until validation scores don't improve for 10 rounds.\n",
      "[2]\tvalid_0's l2: 4.23873\n",
      "[3]\tvalid_0's l2: 4.56426\n",
      "[4]\tvalid_0's l2: 4.62962\n",
      "[5]\tvalid_0's l2: 4.67983\n",
      "[6]\tvalid_0's l2: 4.63497\n",
      "[7]\tvalid_0's l2: 4.66232\n",
      "[8]\tvalid_0's l2: 4.6798\n",
      "[9]\tvalid_0's l2: 5.00761\n",
      "[10]\tvalid_0's l2: 5.00587\n",
      "[11]\tvalid_0's l2: 5.12274\n",
      "[12]\tvalid_0's l2: 5.10739\n",
      "Early stopping, best iteration is:\n",
      "[2]\tvalid_0's l2: 4.23873\n"
     ]
    },
    {
     "name": "stderr",
     "output_type": "stream",
     "text": [
      "/anaconda3/lib/python3.6/site-packages/lightgbm/engine.py:102: UserWarning: Found `num_iteration` in params. Will use it instead of argument\n",
      "  warnings.warn(\"Found `{}` in params. Will use it instead of argument\".format(alias))\n",
      "/anaconda3/lib/python3.6/site-packages/lightgbm/engine.py:107: UserWarning: Found `early_stopping` in params. Will use it instead of argument\n",
      "  warnings.warn(\"Found `{}` in params. Will use it instead of argument\".format(alias))\n"
     ]
    },
    {
     "name": "stdout",
     "output_type": "stream",
     "text": [
      "[1]\tvalid_0's l2: 4.46737\n",
      "Training until validation scores don't improve for 10 rounds.\n",
      "[2]\tvalid_0's l2: 4.19124\n",
      "[3]\tvalid_0's l2: 4.26065\n",
      "[4]\tvalid_0's l2: 4.4377\n",
      "[5]\tvalid_0's l2: 4.49766\n",
      "[6]\tvalid_0's l2: 4.47248\n",
      "[7]\tvalid_0's l2: 4.36588\n",
      "[8]\tvalid_0's l2: 4.46096\n",
      "[9]\tvalid_0's l2: 4.67906\n",
      "[10]\tvalid_0's l2: 4.73633\n",
      "[11]\tvalid_0's l2: 4.6115\n",
      "[12]\tvalid_0's l2: 4.61537\n",
      "Early stopping, best iteration is:\n",
      "[2]\tvalid_0's l2: 4.19124\n"
     ]
    },
    {
     "name": "stderr",
     "output_type": "stream",
     "text": [
      "/anaconda3/lib/python3.6/site-packages/lightgbm/engine.py:102: UserWarning: Found `num_iteration` in params. Will use it instead of argument\n",
      "  warnings.warn(\"Found `{}` in params. Will use it instead of argument\".format(alias))\n",
      "/anaconda3/lib/python3.6/site-packages/lightgbm/engine.py:107: UserWarning: Found `early_stopping` in params. Will use it instead of argument\n",
      "  warnings.warn(\"Found `{}` in params. Will use it instead of argument\".format(alias))\n"
     ]
    },
    {
     "name": "stdout",
     "output_type": "stream",
     "text": [
      "[1]\tvalid_0's l2: 4.42374\n",
      "Training until validation scores don't improve for 10 rounds.\n",
      "[2]\tvalid_0's l2: 4.14234\n",
      "[3]\tvalid_0's l2: 4.29621\n",
      "[4]\tvalid_0's l2: 4.34656\n",
      "[5]\tvalid_0's l2: 4.19382\n",
      "[6]\tvalid_0's l2: 4.18495\n",
      "[7]\tvalid_0's l2: 4.22549\n",
      "[8]\tvalid_0's l2: 4.19038\n",
      "[9]\tvalid_0's l2: 4.28305\n",
      "[10]\tvalid_0's l2: 4.28517\n",
      "[11]\tvalid_0's l2: 4.29234\n",
      "[12]\tvalid_0's l2: 4.29088\n",
      "Early stopping, best iteration is:\n",
      "[2]\tvalid_0's l2: 4.14234\n"
     ]
    },
    {
     "name": "stderr",
     "output_type": "stream",
     "text": [
      "/anaconda3/lib/python3.6/site-packages/lightgbm/engine.py:102: UserWarning: Found `num_iteration` in params. Will use it instead of argument\n",
      "  warnings.warn(\"Found `{}` in params. Will use it instead of argument\".format(alias))\n",
      "/anaconda3/lib/python3.6/site-packages/lightgbm/engine.py:107: UserWarning: Found `early_stopping` in params. Will use it instead of argument\n",
      "  warnings.warn(\"Found `{}` in params. Will use it instead of argument\".format(alias))\n"
     ]
    },
    {
     "name": "stdout",
     "output_type": "stream",
     "text": [
      "[1]\tvalid_0's l2: 4.5125\n",
      "Training until validation scores don't improve for 10 rounds.\n",
      "[2]\tvalid_0's l2: 4.53866\n",
      "[3]\tvalid_0's l2: 4.43287\n",
      "[4]\tvalid_0's l2: 4.65652\n",
      "[5]\tvalid_0's l2: 4.64833\n",
      "[6]\tvalid_0's l2: 4.58215\n",
      "[7]\tvalid_0's l2: 4.15519\n",
      "[8]\tvalid_0's l2: 4.23987\n",
      "[9]\tvalid_0's l2: 4.27072\n",
      "[10]\tvalid_0's l2: 4.59197\n",
      "[11]\tvalid_0's l2: 4.56954\n",
      "[12]\tvalid_0's l2: 4.57881\n",
      "[13]\tvalid_0's l2: 4.59565\n",
      "[14]\tvalid_0's l2: 4.68064\n",
      "[15]\tvalid_0's l2: 4.98702\n",
      "[16]\tvalid_0's l2: 4.98602\n",
      "[17]\tvalid_0's l2: 4.96543\n",
      "Early stopping, best iteration is:\n",
      "[7]\tvalid_0's l2: 4.15519\n"
     ]
    },
    {
     "name": "stderr",
     "output_type": "stream",
     "text": [
      "/anaconda3/lib/python3.6/site-packages/lightgbm/engine.py:102: UserWarning: Found `num_iteration` in params. Will use it instead of argument\n",
      "  warnings.warn(\"Found `{}` in params. Will use it instead of argument\".format(alias))\n",
      "/anaconda3/lib/python3.6/site-packages/lightgbm/engine.py:107: UserWarning: Found `early_stopping` in params. Will use it instead of argument\n",
      "  warnings.warn(\"Found `{}` in params. Will use it instead of argument\".format(alias))\n"
     ]
    },
    {
     "name": "stdout",
     "output_type": "stream",
     "text": [
      "[1]\tvalid_0's l2: 4.28374\n",
      "Training until validation scores don't improve for 10 rounds.\n",
      "[2]\tvalid_0's l2: 4.09295\n",
      "[3]\tvalid_0's l2: 4.13107\n",
      "[4]\tvalid_0's l2: 4.26069\n",
      "[5]\tvalid_0's l2: 4.25352\n",
      "[6]\tvalid_0's l2: 4.41912\n",
      "[7]\tvalid_0's l2: 4.46303\n",
      "[8]\tvalid_0's l2: 4.46259\n",
      "[9]\tvalid_0's l2: 4.52362\n",
      "[10]\tvalid_0's l2: 4.58428\n",
      "[11]\tvalid_0's l2: 4.62575\n",
      "[12]\tvalid_0's l2: 4.67141\n",
      "Early stopping, best iteration is:\n",
      "[2]\tvalid_0's l2: 4.09295\n"
     ]
    },
    {
     "name": "stderr",
     "output_type": "stream",
     "text": [
      "/anaconda3/lib/python3.6/site-packages/lightgbm/engine.py:102: UserWarning: Found `num_iteration` in params. Will use it instead of argument\n",
      "  warnings.warn(\"Found `{}` in params. Will use it instead of argument\".format(alias))\n",
      "/anaconda3/lib/python3.6/site-packages/lightgbm/engine.py:107: UserWarning: Found `early_stopping` in params. Will use it instead of argument\n",
      "  warnings.warn(\"Found `{}` in params. Will use it instead of argument\".format(alias))\n"
     ]
    },
    {
     "name": "stdout",
     "output_type": "stream",
     "text": [
      "[1]\tvalid_0's l2: 4.41045\n",
      "Training until validation scores don't improve for 10 rounds.\n",
      "[2]\tvalid_0's l2: 4.04704\n",
      "[3]\tvalid_0's l2: 4.18496\n",
      "[4]\tvalid_0's l2: 4.231\n",
      "[5]\tvalid_0's l2: 4.38873\n",
      "[6]\tvalid_0's l2: 4.40768\n",
      "[7]\tvalid_0's l2: 4.43323\n",
      "[8]\tvalid_0's l2: 4.73725\n",
      "[9]\tvalid_0's l2: 4.71374\n",
      "[10]\tvalid_0's l2: 4.69449\n",
      "[11]\tvalid_0's l2: 4.76032\n",
      "[12]\tvalid_0's l2: 4.77994\n",
      "Early stopping, best iteration is:\n",
      "[2]\tvalid_0's l2: 4.04704\n"
     ]
    },
    {
     "name": "stderr",
     "output_type": "stream",
     "text": [
      "/anaconda3/lib/python3.6/site-packages/lightgbm/engine.py:102: UserWarning: Found `num_iteration` in params. Will use it instead of argument\n",
      "  warnings.warn(\"Found `{}` in params. Will use it instead of argument\".format(alias))\n",
      "/anaconda3/lib/python3.6/site-packages/lightgbm/engine.py:107: UserWarning: Found `early_stopping` in params. Will use it instead of argument\n",
      "  warnings.warn(\"Found `{}` in params. Will use it instead of argument\".format(alias))\n"
     ]
    },
    {
     "name": "stdout",
     "output_type": "stream",
     "text": [
      "[1]\tvalid_0's l2: 4.49085\n",
      "Training until validation scores don't improve for 10 rounds.\n",
      "[2]\tvalid_0's l2: 4.50521\n",
      "[3]\tvalid_0's l2: 4.3747\n",
      "[4]\tvalid_0's l2: 4.49115\n",
      "[5]\tvalid_0's l2: 4.6405\n",
      "[6]\tvalid_0's l2: 4.64848\n",
      "[7]\tvalid_0's l2: 4.57868\n",
      "[8]\tvalid_0's l2: 4.60452\n",
      "[9]\tvalid_0's l2: 4.61919\n",
      "[10]\tvalid_0's l2: 4.60207\n",
      "[11]\tvalid_0's l2: 4.59855\n",
      "[12]\tvalid_0's l2: 4.62084\n",
      "[13]\tvalid_0's l2: 4.63741\n",
      "Early stopping, best iteration is:\n",
      "[3]\tvalid_0's l2: 4.3747\n"
     ]
    },
    {
     "name": "stderr",
     "output_type": "stream",
     "text": [
      "/anaconda3/lib/python3.6/site-packages/lightgbm/engine.py:102: UserWarning: Found `num_iteration` in params. Will use it instead of argument\n",
      "  warnings.warn(\"Found `{}` in params. Will use it instead of argument\".format(alias))\n",
      "/anaconda3/lib/python3.6/site-packages/lightgbm/engine.py:107: UserWarning: Found `early_stopping` in params. Will use it instead of argument\n",
      "  warnings.warn(\"Found `{}` in params. Will use it instead of argument\".format(alias))\n"
     ]
    },
    {
     "name": "stdout",
     "output_type": "stream",
     "text": [
      "[1]\tvalid_0's l2: 4.44461\n",
      "Training until validation scores don't improve for 10 rounds.\n",
      "[2]\tvalid_0's l2: 4.46334\n",
      "[3]\tvalid_0's l2: 4.44977\n",
      "[4]\tvalid_0's l2: 4.5429\n",
      "[5]\tvalid_0's l2: 4.53375\n",
      "[6]\tvalid_0's l2: 4.50998\n",
      "[7]\tvalid_0's l2: 4.53474\n",
      "[8]\tvalid_0's l2: 4.41224\n",
      "[9]\tvalid_0's l2: 4.41768\n",
      "[10]\tvalid_0's l2: 4.43835\n",
      "[11]\tvalid_0's l2: 4.42542\n",
      "[12]\tvalid_0's l2: 4.43027\n",
      "[13]\tvalid_0's l2: 4.43919\n",
      "[14]\tvalid_0's l2: 4.42361\n",
      "[15]\tvalid_0's l2: 4.41956\n",
      "[16]\tvalid_0's l2: 4.45613\n",
      "[17]\tvalid_0's l2: 4.45448\n",
      "[18]\tvalid_0's l2: 4.48171\n",
      "Early stopping, best iteration is:\n",
      "[8]\tvalid_0's l2: 4.41224\n"
     ]
    },
    {
     "name": "stderr",
     "output_type": "stream",
     "text": [
      "/anaconda3/lib/python3.6/site-packages/lightgbm/engine.py:102: UserWarning: Found `num_iteration` in params. Will use it instead of argument\n",
      "  warnings.warn(\"Found `{}` in params. Will use it instead of argument\".format(alias))\n",
      "/anaconda3/lib/python3.6/site-packages/lightgbm/engine.py:107: UserWarning: Found `early_stopping` in params. Will use it instead of argument\n",
      "  warnings.warn(\"Found `{}` in params. Will use it instead of argument\".format(alias))\n"
     ]
    },
    {
     "name": "stdout",
     "output_type": "stream",
     "text": [
      "[1]\tvalid_0's l2: 4.47986\n",
      "Training until validation scores don't improve for 10 rounds.\n",
      "[2]\tvalid_0's l2: 4.21474\n",
      "[3]\tvalid_0's l2: 4.24997\n",
      "[4]\tvalid_0's l2: 4.47354\n",
      "[5]\tvalid_0's l2: 4.45803\n",
      "[6]\tvalid_0's l2: 4.37992\n",
      "[7]\tvalid_0's l2: 4.38092\n",
      "[8]\tvalid_0's l2: 4.63681\n",
      "[9]\tvalid_0's l2: 4.67853\n",
      "[10]\tvalid_0's l2: 4.71361\n",
      "[11]\tvalid_0's l2: 4.73663\n",
      "[12]\tvalid_0's l2: 4.75391\n",
      "Early stopping, best iteration is:\n",
      "[2]\tvalid_0's l2: 4.21474\n"
     ]
    },
    {
     "name": "stderr",
     "output_type": "stream",
     "text": [
      "/anaconda3/lib/python3.6/site-packages/lightgbm/engine.py:102: UserWarning: Found `num_iteration` in params. Will use it instead of argument\n",
      "  warnings.warn(\"Found `{}` in params. Will use it instead of argument\".format(alias))\n",
      "/anaconda3/lib/python3.6/site-packages/lightgbm/engine.py:107: UserWarning: Found `early_stopping` in params. Will use it instead of argument\n",
      "  warnings.warn(\"Found `{}` in params. Will use it instead of argument\".format(alias))\n"
     ]
    },
    {
     "name": "stdout",
     "output_type": "stream",
     "text": [
      "[1]\tvalid_0's l2: 4.48705\n",
      "Training until validation scores don't improve for 10 rounds.\n",
      "[2]\tvalid_0's l2: 4.23873\n",
      "[3]\tvalid_0's l2: 4.56727\n",
      "[4]\tvalid_0's l2: 4.62751\n",
      "[5]\tvalid_0's l2: 4.65949\n",
      "[6]\tvalid_0's l2: 4.62444\n",
      "[7]\tvalid_0's l2: 4.56656\n",
      "[8]\tvalid_0's l2: 4.75687\n",
      "[9]\tvalid_0's l2: 4.73429\n",
      "[10]\tvalid_0's l2: 4.7365\n",
      "[11]\tvalid_0's l2: 4.75674\n",
      "[12]\tvalid_0's l2: 4.77309\n",
      "Early stopping, best iteration is:\n",
      "[2]\tvalid_0's l2: 4.23873\n"
     ]
    },
    {
     "name": "stderr",
     "output_type": "stream",
     "text": [
      "/anaconda3/lib/python3.6/site-packages/lightgbm/engine.py:102: UserWarning: Found `num_iteration` in params. Will use it instead of argument\n",
      "  warnings.warn(\"Found `{}` in params. Will use it instead of argument\".format(alias))\n",
      "/anaconda3/lib/python3.6/site-packages/lightgbm/engine.py:107: UserWarning: Found `early_stopping` in params. Will use it instead of argument\n",
      "  warnings.warn(\"Found `{}` in params. Will use it instead of argument\".format(alias))\n"
     ]
    },
    {
     "name": "stdout",
     "output_type": "stream",
     "text": [
      "[1]\tvalid_0's l2: 4.46737\n",
      "Training until validation scores don't improve for 10 rounds.\n",
      "[2]\tvalid_0's l2: 4.19124\n",
      "[3]\tvalid_0's l2: 4.26065\n",
      "[4]\tvalid_0's l2: 4.41842\n",
      "[5]\tvalid_0's l2: 4.51909\n",
      "[6]\tvalid_0's l2: 4.48295\n",
      "[7]\tvalid_0's l2: 4.96156\n",
      "[8]\tvalid_0's l2: 4.99249\n",
      "[9]\tvalid_0's l2: 4.94486\n",
      "[10]\tvalid_0's l2: 4.95788\n",
      "[11]\tvalid_0's l2: 4.93034\n",
      "[12]\tvalid_0's l2: 4.94565\n",
      "Early stopping, best iteration is:\n",
      "[2]\tvalid_0's l2: 4.19124\n"
     ]
    },
    {
     "name": "stderr",
     "output_type": "stream",
     "text": [
      "/anaconda3/lib/python3.6/site-packages/lightgbm/engine.py:102: UserWarning: Found `num_iteration` in params. Will use it instead of argument\n",
      "  warnings.warn(\"Found `{}` in params. Will use it instead of argument\".format(alias))\n",
      "/anaconda3/lib/python3.6/site-packages/lightgbm/engine.py:107: UserWarning: Found `early_stopping` in params. Will use it instead of argument\n",
      "  warnings.warn(\"Found `{}` in params. Will use it instead of argument\".format(alias))\n"
     ]
    },
    {
     "name": "stdout",
     "output_type": "stream",
     "text": [
      "[1]\tvalid_0's l2: 4.42374\n",
      "Training until validation scores don't improve for 10 rounds.\n",
      "[2]\tvalid_0's l2: 4.14234\n",
      "[3]\tvalid_0's l2: 4.29621\n",
      "[4]\tvalid_0's l2: 4.34656\n",
      "[5]\tvalid_0's l2: 4.19382\n",
      "[6]\tvalid_0's l2: 4.18495\n",
      "[7]\tvalid_0's l2: 4.22549\n",
      "[8]\tvalid_0's l2: 4.19038\n",
      "[9]\tvalid_0's l2: 4.28305\n",
      "[10]\tvalid_0's l2: 4.28517\n",
      "[11]\tvalid_0's l2: 4.29234\n",
      "[12]\tvalid_0's l2: 4.29088\n",
      "Early stopping, best iteration is:\n",
      "[2]\tvalid_0's l2: 4.14234\n"
     ]
    },
    {
     "name": "stderr",
     "output_type": "stream",
     "text": [
      "/anaconda3/lib/python3.6/site-packages/lightgbm/engine.py:102: UserWarning: Found `num_iteration` in params. Will use it instead of argument\n",
      "  warnings.warn(\"Found `{}` in params. Will use it instead of argument\".format(alias))\n",
      "/anaconda3/lib/python3.6/site-packages/lightgbm/engine.py:107: UserWarning: Found `early_stopping` in params. Will use it instead of argument\n",
      "  warnings.warn(\"Found `{}` in params. Will use it instead of argument\".format(alias))\n"
     ]
    },
    {
     "name": "stdout",
     "output_type": "stream",
     "text": [
      "[1]\tvalid_0's l2: 4.5125\n",
      "Training until validation scores don't improve for 10 rounds.\n",
      "[2]\tvalid_0's l2: 4.53866\n",
      "[3]\tvalid_0's l2: 4.43287\n",
      "[4]\tvalid_0's l2: 4.65652\n",
      "[5]\tvalid_0's l2: 4.64833\n",
      "[6]\tvalid_0's l2: 4.58215\n",
      "[7]\tvalid_0's l2: 4.15519\n",
      "[8]\tvalid_0's l2: 4.23987\n",
      "[9]\tvalid_0's l2: 4.27072\n",
      "[10]\tvalid_0's l2: 4.59197\n",
      "[11]\tvalid_0's l2: 4.56954\n",
      "[12]\tvalid_0's l2: 4.57881\n",
      "[13]\tvalid_0's l2: 4.59565\n",
      "[14]\tvalid_0's l2: 4.68064\n",
      "[15]\tvalid_0's l2: 4.98702\n",
      "[16]\tvalid_0's l2: 4.98602\n",
      "[17]\tvalid_0's l2: 4.96543\n",
      "Early stopping, best iteration is:\n",
      "[7]\tvalid_0's l2: 4.15519\n"
     ]
    },
    {
     "name": "stderr",
     "output_type": "stream",
     "text": [
      "/anaconda3/lib/python3.6/site-packages/lightgbm/engine.py:102: UserWarning: Found `num_iteration` in params. Will use it instead of argument\n",
      "  warnings.warn(\"Found `{}` in params. Will use it instead of argument\".format(alias))\n",
      "/anaconda3/lib/python3.6/site-packages/lightgbm/engine.py:107: UserWarning: Found `early_stopping` in params. Will use it instead of argument\n",
      "  warnings.warn(\"Found `{}` in params. Will use it instead of argument\".format(alias))\n"
     ]
    },
    {
     "name": "stdout",
     "output_type": "stream",
     "text": [
      "[1]\tvalid_0's l2: 4.28374\n",
      "Training until validation scores don't improve for 10 rounds.\n",
      "[2]\tvalid_0's l2: 4.09295\n",
      "[3]\tvalid_0's l2: 4.13107\n",
      "[4]\tvalid_0's l2: 4.26069\n",
      "[5]\tvalid_0's l2: 4.25352\n",
      "[6]\tvalid_0's l2: 4.41912\n",
      "[7]\tvalid_0's l2: 4.46303\n",
      "[8]\tvalid_0's l2: 4.46259\n",
      "[9]\tvalid_0's l2: 4.52362\n",
      "[10]\tvalid_0's l2: 4.58428\n",
      "[11]\tvalid_0's l2: 4.62575\n",
      "[12]\tvalid_0's l2: 4.67141\n",
      "Early stopping, best iteration is:\n",
      "[2]\tvalid_0's l2: 4.09295\n"
     ]
    },
    {
     "name": "stderr",
     "output_type": "stream",
     "text": [
      "/anaconda3/lib/python3.6/site-packages/lightgbm/engine.py:102: UserWarning: Found `num_iteration` in params. Will use it instead of argument\n",
      "  warnings.warn(\"Found `{}` in params. Will use it instead of argument\".format(alias))\n",
      "/anaconda3/lib/python3.6/site-packages/lightgbm/engine.py:107: UserWarning: Found `early_stopping` in params. Will use it instead of argument\n",
      "  warnings.warn(\"Found `{}` in params. Will use it instead of argument\".format(alias))\n"
     ]
    },
    {
     "name": "stdout",
     "output_type": "stream",
     "text": [
      "[1]\tvalid_0's l2: 4.41045\n",
      "Training until validation scores don't improve for 10 rounds.\n",
      "[2]\tvalid_0's l2: 4.04704\n",
      "[3]\tvalid_0's l2: 4.18496\n",
      "[4]\tvalid_0's l2: 4.231\n",
      "[5]\tvalid_0's l2: 4.38873\n",
      "[6]\tvalid_0's l2: 4.40768\n",
      "[7]\tvalid_0's l2: 4.43323\n",
      "[8]\tvalid_0's l2: 4.73725\n",
      "[9]\tvalid_0's l2: 4.71374\n",
      "[10]\tvalid_0's l2: 4.69449\n",
      "[11]\tvalid_0's l2: 4.76032\n",
      "[12]\tvalid_0's l2: 4.77994\n",
      "Early stopping, best iteration is:\n",
      "[2]\tvalid_0's l2: 4.04704\n"
     ]
    },
    {
     "name": "stderr",
     "output_type": "stream",
     "text": [
      "/anaconda3/lib/python3.6/site-packages/lightgbm/engine.py:102: UserWarning: Found `num_iteration` in params. Will use it instead of argument\n",
      "  warnings.warn(\"Found `{}` in params. Will use it instead of argument\".format(alias))\n",
      "/anaconda3/lib/python3.6/site-packages/lightgbm/engine.py:107: UserWarning: Found `early_stopping` in params. Will use it instead of argument\n",
      "  warnings.warn(\"Found `{}` in params. Will use it instead of argument\".format(alias))\n"
     ]
    },
    {
     "name": "stdout",
     "output_type": "stream",
     "text": [
      "[1]\tvalid_0's l2: 4.49085\n",
      "Training until validation scores don't improve for 10 rounds.\n",
      "[2]\tvalid_0's l2: 4.50521\n",
      "[3]\tvalid_0's l2: 4.3747\n",
      "[4]\tvalid_0's l2: 4.49115\n",
      "[5]\tvalid_0's l2: 4.6405\n",
      "[6]\tvalid_0's l2: 4.64848\n",
      "[7]\tvalid_0's l2: 4.57868\n",
      "[8]\tvalid_0's l2: 4.60452\n",
      "[9]\tvalid_0's l2: 4.61919\n",
      "[10]\tvalid_0's l2: 4.60207\n",
      "[11]\tvalid_0's l2: 4.59855\n",
      "[12]\tvalid_0's l2: 4.62084\n",
      "[13]\tvalid_0's l2: 4.63741\n",
      "Early stopping, best iteration is:\n",
      "[3]\tvalid_0's l2: 4.3747\n"
     ]
    },
    {
     "name": "stderr",
     "output_type": "stream",
     "text": [
      "/anaconda3/lib/python3.6/site-packages/lightgbm/engine.py:102: UserWarning: Found `num_iteration` in params. Will use it instead of argument\n",
      "  warnings.warn(\"Found `{}` in params. Will use it instead of argument\".format(alias))\n",
      "/anaconda3/lib/python3.6/site-packages/lightgbm/engine.py:107: UserWarning: Found `early_stopping` in params. Will use it instead of argument\n",
      "  warnings.warn(\"Found `{}` in params. Will use it instead of argument\".format(alias))\n"
     ]
    },
    {
     "name": "stdout",
     "output_type": "stream",
     "text": [
      "[1]\tvalid_0's l2: 4.44461\n",
      "Training until validation scores don't improve for 10 rounds.\n",
      "[2]\tvalid_0's l2: 4.46334\n",
      "[3]\tvalid_0's l2: 4.44977\n",
      "[4]\tvalid_0's l2: 4.5429\n",
      "[5]\tvalid_0's l2: 4.53375\n",
      "[6]\tvalid_0's l2: 4.50998\n",
      "[7]\tvalid_0's l2: 4.53474\n",
      "[8]\tvalid_0's l2: 4.41224\n",
      "[9]\tvalid_0's l2: 4.41768\n",
      "[10]\tvalid_0's l2: 4.43835\n",
      "[11]\tvalid_0's l2: 4.42542\n",
      "[12]\tvalid_0's l2: 4.43027\n",
      "[13]\tvalid_0's l2: 4.43919\n",
      "[14]\tvalid_0's l2: 4.42361\n",
      "[15]\tvalid_0's l2: 4.41956\n",
      "[16]\tvalid_0's l2: 4.45613\n",
      "[17]\tvalid_0's l2: 4.45448\n",
      "[18]\tvalid_0's l2: 4.48171\n",
      "Early stopping, best iteration is:\n",
      "[8]\tvalid_0's l2: 4.41224\n"
     ]
    },
    {
     "name": "stderr",
     "output_type": "stream",
     "text": [
      "/anaconda3/lib/python3.6/site-packages/lightgbm/engine.py:102: UserWarning: Found `num_iteration` in params. Will use it instead of argument\n",
      "  warnings.warn(\"Found `{}` in params. Will use it instead of argument\".format(alias))\n",
      "/anaconda3/lib/python3.6/site-packages/lightgbm/engine.py:107: UserWarning: Found `early_stopping` in params. Will use it instead of argument\n",
      "  warnings.warn(\"Found `{}` in params. Will use it instead of argument\".format(alias))\n"
     ]
    },
    {
     "name": "stdout",
     "output_type": "stream",
     "text": [
      "[1]\tvalid_0's l2: 4.47986\n",
      "Training until validation scores don't improve for 10 rounds.\n",
      "[2]\tvalid_0's l2: 4.21474\n",
      "[3]\tvalid_0's l2: 4.24997\n",
      "[4]\tvalid_0's l2: 4.47354\n",
      "[5]\tvalid_0's l2: 4.45803\n",
      "[6]\tvalid_0's l2: 4.37992\n",
      "[7]\tvalid_0's l2: 4.38092\n",
      "[8]\tvalid_0's l2: 4.63681\n",
      "[9]\tvalid_0's l2: 4.67853\n",
      "[10]\tvalid_0's l2: 4.71361\n",
      "[11]\tvalid_0's l2: 4.73663\n",
      "[12]\tvalid_0's l2: 4.75391\n",
      "Early stopping, best iteration is:\n",
      "[2]\tvalid_0's l2: 4.21474\n"
     ]
    },
    {
     "name": "stderr",
     "output_type": "stream",
     "text": [
      "/anaconda3/lib/python3.6/site-packages/lightgbm/engine.py:102: UserWarning: Found `num_iteration` in params. Will use it instead of argument\n",
      "  warnings.warn(\"Found `{}` in params. Will use it instead of argument\".format(alias))\n",
      "/anaconda3/lib/python3.6/site-packages/lightgbm/engine.py:107: UserWarning: Found `early_stopping` in params. Will use it instead of argument\n",
      "  warnings.warn(\"Found `{}` in params. Will use it instead of argument\".format(alias))\n"
     ]
    },
    {
     "name": "stdout",
     "output_type": "stream",
     "text": [
      "[1]\tvalid_0's l2: 4.48705\n",
      "Training until validation scores don't improve for 10 rounds.\n",
      "[2]\tvalid_0's l2: 4.23873\n",
      "[3]\tvalid_0's l2: 4.56727\n",
      "[4]\tvalid_0's l2: 4.62751\n",
      "[5]\tvalid_0's l2: 4.65949\n",
      "[6]\tvalid_0's l2: 4.62444\n",
      "[7]\tvalid_0's l2: 4.56656\n",
      "[8]\tvalid_0's l2: 4.75687\n",
      "[9]\tvalid_0's l2: 4.73429\n",
      "[10]\tvalid_0's l2: 4.7365\n",
      "[11]\tvalid_0's l2: 4.75674\n",
      "[12]\tvalid_0's l2: 4.77309\n",
      "Early stopping, best iteration is:\n",
      "[2]\tvalid_0's l2: 4.23873\n"
     ]
    },
    {
     "name": "stderr",
     "output_type": "stream",
     "text": [
      "/anaconda3/lib/python3.6/site-packages/lightgbm/engine.py:102: UserWarning: Found `num_iteration` in params. Will use it instead of argument\n",
      "  warnings.warn(\"Found `{}` in params. Will use it instead of argument\".format(alias))\n",
      "/anaconda3/lib/python3.6/site-packages/lightgbm/engine.py:107: UserWarning: Found `early_stopping` in params. Will use it instead of argument\n",
      "  warnings.warn(\"Found `{}` in params. Will use it instead of argument\".format(alias))\n"
     ]
    },
    {
     "name": "stdout",
     "output_type": "stream",
     "text": [
      "[1]\tvalid_0's l2: 4.46737\n",
      "Training until validation scores don't improve for 10 rounds.\n",
      "[2]\tvalid_0's l2: 4.19124\n",
      "[3]\tvalid_0's l2: 4.26065\n",
      "[4]\tvalid_0's l2: 4.41842\n",
      "[5]\tvalid_0's l2: 4.51909\n",
      "[6]\tvalid_0's l2: 4.48295\n",
      "[7]\tvalid_0's l2: 4.96156\n",
      "[8]\tvalid_0's l2: 4.99249\n",
      "[9]\tvalid_0's l2: 4.94486\n",
      "[10]\tvalid_0's l2: 4.95788\n",
      "[11]\tvalid_0's l2: 4.93034\n",
      "[12]\tvalid_0's l2: 4.94565\n",
      "Early stopping, best iteration is:\n",
      "[2]\tvalid_0's l2: 4.19124\n"
     ]
    },
    {
     "name": "stderr",
     "output_type": "stream",
     "text": [
      "/anaconda3/lib/python3.6/site-packages/lightgbm/engine.py:102: UserWarning: Found `num_iteration` in params. Will use it instead of argument\n",
      "  warnings.warn(\"Found `{}` in params. Will use it instead of argument\".format(alias))\n",
      "/anaconda3/lib/python3.6/site-packages/lightgbm/engine.py:107: UserWarning: Found `early_stopping` in params. Will use it instead of argument\n",
      "  warnings.warn(\"Found `{}` in params. Will use it instead of argument\".format(alias))\n"
     ]
    },
    {
     "name": "stdout",
     "output_type": "stream",
     "text": [
      "[1]\tvalid_0's l2: 4.42374\n",
      "Training until validation scores don't improve for 10 rounds.\n",
      "[2]\tvalid_0's l2: 4.14234\n",
      "[3]\tvalid_0's l2: 4.29621\n",
      "[4]\tvalid_0's l2: 4.35275\n",
      "[5]\tvalid_0's l2: 4.11219\n",
      "[6]\tvalid_0's l2: 4.1385\n",
      "[7]\tvalid_0's l2: 4.26476\n",
      "[8]\tvalid_0's l2: 4.31163\n",
      "[9]\tvalid_0's l2: 4.30107\n",
      "[10]\tvalid_0's l2: 4.28926\n",
      "[11]\tvalid_0's l2: 4.31023\n",
      "[12]\tvalid_0's l2: 4.32312\n",
      "[13]\tvalid_0's l2: 4.32282\n",
      "[14]\tvalid_0's l2: 4.31163\n",
      "[15]\tvalid_0's l2: 4.31456\n",
      "Early stopping, best iteration is:\n",
      "[5]\tvalid_0's l2: 4.11219\n"
     ]
    },
    {
     "name": "stderr",
     "output_type": "stream",
     "text": [
      "/anaconda3/lib/python3.6/site-packages/lightgbm/engine.py:102: UserWarning: Found `num_iteration` in params. Will use it instead of argument\n",
      "  warnings.warn(\"Found `{}` in params. Will use it instead of argument\".format(alias))\n",
      "/anaconda3/lib/python3.6/site-packages/lightgbm/engine.py:107: UserWarning: Found `early_stopping` in params. Will use it instead of argument\n",
      "  warnings.warn(\"Found `{}` in params. Will use it instead of argument\".format(alias))\n"
     ]
    },
    {
     "name": "stdout",
     "output_type": "stream",
     "text": [
      "[1]\tvalid_0's l2: 4.5125\n",
      "Training until validation scores don't improve for 10 rounds.\n",
      "[2]\tvalid_0's l2: 4.53866\n",
      "[3]\tvalid_0's l2: 4.43287\n",
      "[4]\tvalid_0's l2: 4.64728\n",
      "[5]\tvalid_0's l2: 4.40646\n",
      "[6]\tvalid_0's l2: 4.37077\n",
      "[7]\tvalid_0's l2: 4.36772\n",
      "[8]\tvalid_0's l2: 4.41098\n",
      "[9]\tvalid_0's l2: 4.44052\n",
      "[10]\tvalid_0's l2: 4.45761\n",
      "[11]\tvalid_0's l2: 4.45714\n",
      "[12]\tvalid_0's l2: 4.45758\n",
      "[13]\tvalid_0's l2: 4.56082\n",
      "[14]\tvalid_0's l2: 4.56231\n",
      "[15]\tvalid_0's l2: 4.56924\n",
      "[16]\tvalid_0's l2: 4.51909\n",
      "[17]\tvalid_0's l2: 4.5145\n",
      "Early stopping, best iteration is:\n",
      "[7]\tvalid_0's l2: 4.36772\n"
     ]
    },
    {
     "name": "stderr",
     "output_type": "stream",
     "text": [
      "/anaconda3/lib/python3.6/site-packages/lightgbm/engine.py:102: UserWarning: Found `num_iteration` in params. Will use it instead of argument\n",
      "  warnings.warn(\"Found `{}` in params. Will use it instead of argument\".format(alias))\n",
      "/anaconda3/lib/python3.6/site-packages/lightgbm/engine.py:107: UserWarning: Found `early_stopping` in params. Will use it instead of argument\n",
      "  warnings.warn(\"Found `{}` in params. Will use it instead of argument\".format(alias))\n"
     ]
    },
    {
     "name": "stdout",
     "output_type": "stream",
     "text": [
      "[1]\tvalid_0's l2: 4.28374\n",
      "Training until validation scores don't improve for 10 rounds.\n",
      "[2]\tvalid_0's l2: 4.09295\n",
      "[3]\tvalid_0's l2: 4.13107\n",
      "[4]\tvalid_0's l2: 4.26069\n",
      "[5]\tvalid_0's l2: 4.25249\n",
      "[6]\tvalid_0's l2: 4.43286\n",
      "[7]\tvalid_0's l2: 4.4519\n",
      "[8]\tvalid_0's l2: 4.42594\n",
      "[9]\tvalid_0's l2: 4.42946\n",
      "[10]\tvalid_0's l2: 4.43354\n",
      "[11]\tvalid_0's l2: 4.47516\n",
      "[12]\tvalid_0's l2: 4.49978\n",
      "Early stopping, best iteration is:\n",
      "[2]\tvalid_0's l2: 4.09295\n"
     ]
    },
    {
     "name": "stderr",
     "output_type": "stream",
     "text": [
      "/anaconda3/lib/python3.6/site-packages/lightgbm/engine.py:102: UserWarning: Found `num_iteration` in params. Will use it instead of argument\n",
      "  warnings.warn(\"Found `{}` in params. Will use it instead of argument\".format(alias))\n",
      "/anaconda3/lib/python3.6/site-packages/lightgbm/engine.py:107: UserWarning: Found `early_stopping` in params. Will use it instead of argument\n",
      "  warnings.warn(\"Found `{}` in params. Will use it instead of argument\".format(alias))\n"
     ]
    },
    {
     "name": "stdout",
     "output_type": "stream",
     "text": [
      "[1]\tvalid_0's l2: 4.41045\n",
      "Training until validation scores don't improve for 10 rounds.\n",
      "[2]\tvalid_0's l2: 4.04704\n",
      "[3]\tvalid_0's l2: 4.18496\n",
      "[4]\tvalid_0's l2: 4.231\n",
      "[5]\tvalid_0's l2: 4.39296\n",
      "[6]\tvalid_0's l2: 4.4079\n",
      "[7]\tvalid_0's l2: 4.4441\n",
      "[8]\tvalid_0's l2: 4.51679\n",
      "[9]\tvalid_0's l2: 4.57296\n",
      "[10]\tvalid_0's l2: 4.55447\n",
      "[11]\tvalid_0's l2: 4.56173\n",
      "[12]\tvalid_0's l2: 4.60158\n",
      "Early stopping, best iteration is:\n",
      "[2]\tvalid_0's l2: 4.04704\n"
     ]
    },
    {
     "name": "stderr",
     "output_type": "stream",
     "text": [
      "/anaconda3/lib/python3.6/site-packages/lightgbm/engine.py:102: UserWarning: Found `num_iteration` in params. Will use it instead of argument\n",
      "  warnings.warn(\"Found `{}` in params. Will use it instead of argument\".format(alias))\n",
      "/anaconda3/lib/python3.6/site-packages/lightgbm/engine.py:107: UserWarning: Found `early_stopping` in params. Will use it instead of argument\n",
      "  warnings.warn(\"Found `{}` in params. Will use it instead of argument\".format(alias))\n"
     ]
    },
    {
     "name": "stdout",
     "output_type": "stream",
     "text": [
      "[1]\tvalid_0's l2: 4.49085\n",
      "Training until validation scores don't improve for 10 rounds.\n",
      "[2]\tvalid_0's l2: 4.50521\n",
      "[3]\tvalid_0's l2: 4.3747\n",
      "[4]\tvalid_0's l2: 4.48609\n",
      "[5]\tvalid_0's l2: 4.63245\n",
      "[6]\tvalid_0's l2: 4.60782\n",
      "[7]\tvalid_0's l2: 4.5886\n",
      "[8]\tvalid_0's l2: 4.63318\n",
      "[9]\tvalid_0's l2: 4.64134\n",
      "[10]\tvalid_0's l2: 4.54811\n",
      "[11]\tvalid_0's l2: 4.5842\n",
      "[12]\tvalid_0's l2: 4.59141\n",
      "[13]\tvalid_0's l2: 4.65262\n",
      "Early stopping, best iteration is:\n",
      "[3]\tvalid_0's l2: 4.3747\n"
     ]
    },
    {
     "name": "stderr",
     "output_type": "stream",
     "text": [
      "/anaconda3/lib/python3.6/site-packages/lightgbm/engine.py:102: UserWarning: Found `num_iteration` in params. Will use it instead of argument\n",
      "  warnings.warn(\"Found `{}` in params. Will use it instead of argument\".format(alias))\n",
      "/anaconda3/lib/python3.6/site-packages/lightgbm/engine.py:107: UserWarning: Found `early_stopping` in params. Will use it instead of argument\n",
      "  warnings.warn(\"Found `{}` in params. Will use it instead of argument\".format(alias))\n"
     ]
    },
    {
     "name": "stdout",
     "output_type": "stream",
     "text": [
      "[1]\tvalid_0's l2: 4.44461\n",
      "Training until validation scores don't improve for 10 rounds.\n",
      "[2]\tvalid_0's l2: 4.46334\n",
      "[3]\tvalid_0's l2: 4.44977\n",
      "[4]\tvalid_0's l2: 4.5429\n",
      "[5]\tvalid_0's l2: 4.53375\n",
      "[6]\tvalid_0's l2: 4.49777\n",
      "[7]\tvalid_0's l2: 4.51059\n",
      "[8]\tvalid_0's l2: 4.3793\n",
      "[9]\tvalid_0's l2: 4.2657\n",
      "[10]\tvalid_0's l2: 4.34265\n",
      "[11]\tvalid_0's l2: 4.36718\n",
      "[12]\tvalid_0's l2: 4.40724\n",
      "[13]\tvalid_0's l2: 4.455\n",
      "[14]\tvalid_0's l2: 4.4501\n",
      "[15]\tvalid_0's l2: 4.65882\n",
      "[16]\tvalid_0's l2: 4.63648\n",
      "[17]\tvalid_0's l2: 4.58257\n",
      "[18]\tvalid_0's l2: 4.60759\n",
      "[19]\tvalid_0's l2: 4.59247\n",
      "Early stopping, best iteration is:\n",
      "[9]\tvalid_0's l2: 4.2657\n"
     ]
    },
    {
     "name": "stderr",
     "output_type": "stream",
     "text": [
      "/anaconda3/lib/python3.6/site-packages/lightgbm/engine.py:102: UserWarning: Found `num_iteration` in params. Will use it instead of argument\n",
      "  warnings.warn(\"Found `{}` in params. Will use it instead of argument\".format(alias))\n",
      "/anaconda3/lib/python3.6/site-packages/lightgbm/engine.py:107: UserWarning: Found `early_stopping` in params. Will use it instead of argument\n",
      "  warnings.warn(\"Found `{}` in params. Will use it instead of argument\".format(alias))\n"
     ]
    },
    {
     "name": "stdout",
     "output_type": "stream",
     "text": [
      "[1]\tvalid_0's l2: 4.47986\n",
      "Training until validation scores don't improve for 10 rounds.\n",
      "[2]\tvalid_0's l2: 4.21474\n",
      "[3]\tvalid_0's l2: 4.24997\n",
      "[4]\tvalid_0's l2: 4.47333\n",
      "[5]\tvalid_0's l2: 4.5695\n",
      "[6]\tvalid_0's l2: 4.5946\n",
      "[7]\tvalid_0's l2: 4.53758\n",
      "[8]\tvalid_0's l2: 4.55077\n",
      "[9]\tvalid_0's l2: 4.57149\n",
      "[10]\tvalid_0's l2: 4.54329\n",
      "[11]\tvalid_0's l2: 4.54135\n",
      "[12]\tvalid_0's l2: 4.55467\n",
      "Early stopping, best iteration is:\n",
      "[2]\tvalid_0's l2: 4.21474\n"
     ]
    },
    {
     "name": "stderr",
     "output_type": "stream",
     "text": [
      "/anaconda3/lib/python3.6/site-packages/lightgbm/engine.py:102: UserWarning: Found `num_iteration` in params. Will use it instead of argument\n",
      "  warnings.warn(\"Found `{}` in params. Will use it instead of argument\".format(alias))\n",
      "/anaconda3/lib/python3.6/site-packages/lightgbm/engine.py:107: UserWarning: Found `early_stopping` in params. Will use it instead of argument\n",
      "  warnings.warn(\"Found `{}` in params. Will use it instead of argument\".format(alias))\n"
     ]
    },
    {
     "name": "stdout",
     "output_type": "stream",
     "text": [
      "[1]\tvalid_0's l2: 4.48705\n",
      "Training until validation scores don't improve for 10 rounds.\n",
      "[2]\tvalid_0's l2: 4.23873\n",
      "[3]\tvalid_0's l2: 4.56426\n",
      "[4]\tvalid_0's l2: 4.62962\n",
      "[5]\tvalid_0's l2: 4.67983\n",
      "[6]\tvalid_0's l2: 4.63497\n",
      "[7]\tvalid_0's l2: 4.66232\n",
      "[8]\tvalid_0's l2: 4.6798\n",
      "[9]\tvalid_0's l2: 5.00761\n",
      "[10]\tvalid_0's l2: 5.00587\n",
      "[11]\tvalid_0's l2: 5.12274\n",
      "[12]\tvalid_0's l2: 5.10739\n",
      "Early stopping, best iteration is:\n",
      "[2]\tvalid_0's l2: 4.23873\n"
     ]
    },
    {
     "name": "stderr",
     "output_type": "stream",
     "text": [
      "/anaconda3/lib/python3.6/site-packages/lightgbm/engine.py:102: UserWarning: Found `num_iteration` in params. Will use it instead of argument\n",
      "  warnings.warn(\"Found `{}` in params. Will use it instead of argument\".format(alias))\n",
      "/anaconda3/lib/python3.6/site-packages/lightgbm/engine.py:107: UserWarning: Found `early_stopping` in params. Will use it instead of argument\n",
      "  warnings.warn(\"Found `{}` in params. Will use it instead of argument\".format(alias))\n"
     ]
    },
    {
     "name": "stdout",
     "output_type": "stream",
     "text": [
      "[1]\tvalid_0's l2: 4.46737\n",
      "Training until validation scores don't improve for 10 rounds.\n",
      "[2]\tvalid_0's l2: 4.19124\n",
      "[3]\tvalid_0's l2: 4.26065\n",
      "[4]\tvalid_0's l2: 4.4377\n",
      "[5]\tvalid_0's l2: 4.49766\n",
      "[6]\tvalid_0's l2: 4.47248\n",
      "[7]\tvalid_0's l2: 4.36588\n",
      "[8]\tvalid_0's l2: 4.46096\n",
      "[9]\tvalid_0's l2: 4.67906\n",
      "[10]\tvalid_0's l2: 4.73633\n",
      "[11]\tvalid_0's l2: 4.6115\n",
      "[12]\tvalid_0's l2: 4.61537\n",
      "Early stopping, best iteration is:\n",
      "[2]\tvalid_0's l2: 4.19124\n"
     ]
    },
    {
     "name": "stderr",
     "output_type": "stream",
     "text": [
      "/anaconda3/lib/python3.6/site-packages/lightgbm/engine.py:102: UserWarning: Found `num_iteration` in params. Will use it instead of argument\n",
      "  warnings.warn(\"Found `{}` in params. Will use it instead of argument\".format(alias))\n",
      "/anaconda3/lib/python3.6/site-packages/lightgbm/engine.py:107: UserWarning: Found `early_stopping` in params. Will use it instead of argument\n",
      "  warnings.warn(\"Found `{}` in params. Will use it instead of argument\".format(alias))\n"
     ]
    },
    {
     "name": "stdout",
     "output_type": "stream",
     "text": [
      "[1]\tvalid_0's l2: 4.42374\n",
      "Training until validation scores don't improve for 10 rounds.\n",
      "[2]\tvalid_0's l2: 4.14234\n",
      "[3]\tvalid_0's l2: 4.29621\n",
      "[4]\tvalid_0's l2: 4.35275\n",
      "[5]\tvalid_0's l2: 4.11219\n",
      "[6]\tvalid_0's l2: 4.1385\n",
      "[7]\tvalid_0's l2: 4.26476\n",
      "[8]\tvalid_0's l2: 4.31163\n",
      "[9]\tvalid_0's l2: 4.30107\n",
      "[10]\tvalid_0's l2: 4.28926\n",
      "[11]\tvalid_0's l2: 4.31023\n",
      "[12]\tvalid_0's l2: 4.32312\n",
      "[13]\tvalid_0's l2: 4.32282\n",
      "[14]\tvalid_0's l2: 4.31163\n",
      "[15]\tvalid_0's l2: 4.31456\n",
      "Early stopping, best iteration is:\n",
      "[5]\tvalid_0's l2: 4.11219\n"
     ]
    },
    {
     "name": "stderr",
     "output_type": "stream",
     "text": [
      "/anaconda3/lib/python3.6/site-packages/lightgbm/engine.py:102: UserWarning: Found `num_iteration` in params. Will use it instead of argument\n",
      "  warnings.warn(\"Found `{}` in params. Will use it instead of argument\".format(alias))\n",
      "/anaconda3/lib/python3.6/site-packages/lightgbm/engine.py:107: UserWarning: Found `early_stopping` in params. Will use it instead of argument\n",
      "  warnings.warn(\"Found `{}` in params. Will use it instead of argument\".format(alias))\n"
     ]
    },
    {
     "name": "stdout",
     "output_type": "stream",
     "text": [
      "[1]\tvalid_0's l2: 4.5125\n",
      "Training until validation scores don't improve for 10 rounds.\n",
      "[2]\tvalid_0's l2: 4.53866\n",
      "[3]\tvalid_0's l2: 4.43287\n",
      "[4]\tvalid_0's l2: 4.64728\n",
      "[5]\tvalid_0's l2: 4.40646\n",
      "[6]\tvalid_0's l2: 4.37077\n",
      "[7]\tvalid_0's l2: 4.36772\n",
      "[8]\tvalid_0's l2: 4.41098\n",
      "[9]\tvalid_0's l2: 4.44052\n",
      "[10]\tvalid_0's l2: 4.45761\n",
      "[11]\tvalid_0's l2: 4.45714\n",
      "[12]\tvalid_0's l2: 4.45758\n",
      "[13]\tvalid_0's l2: 4.56082\n",
      "[14]\tvalid_0's l2: 4.56231\n",
      "[15]\tvalid_0's l2: 4.56924\n",
      "[16]\tvalid_0's l2: 4.51909\n",
      "[17]\tvalid_0's l2: 4.5145\n",
      "Early stopping, best iteration is:\n",
      "[7]\tvalid_0's l2: 4.36772\n"
     ]
    },
    {
     "name": "stderr",
     "output_type": "stream",
     "text": [
      "/anaconda3/lib/python3.6/site-packages/lightgbm/engine.py:102: UserWarning: Found `num_iteration` in params. Will use it instead of argument\n",
      "  warnings.warn(\"Found `{}` in params. Will use it instead of argument\".format(alias))\n",
      "/anaconda3/lib/python3.6/site-packages/lightgbm/engine.py:107: UserWarning: Found `early_stopping` in params. Will use it instead of argument\n",
      "  warnings.warn(\"Found `{}` in params. Will use it instead of argument\".format(alias))\n"
     ]
    },
    {
     "name": "stdout",
     "output_type": "stream",
     "text": [
      "[1]\tvalid_0's l2: 4.28374\n",
      "Training until validation scores don't improve for 10 rounds.\n",
      "[2]\tvalid_0's l2: 4.09295\n",
      "[3]\tvalid_0's l2: 4.13107\n",
      "[4]\tvalid_0's l2: 4.26069\n",
      "[5]\tvalid_0's l2: 4.25249\n",
      "[6]\tvalid_0's l2: 4.43286\n",
      "[7]\tvalid_0's l2: 4.4519\n",
      "[8]\tvalid_0's l2: 4.42594\n",
      "[9]\tvalid_0's l2: 4.42946\n",
      "[10]\tvalid_0's l2: 4.43354\n",
      "[11]\tvalid_0's l2: 4.47516\n",
      "[12]\tvalid_0's l2: 4.49978\n",
      "Early stopping, best iteration is:\n",
      "[2]\tvalid_0's l2: 4.09295\n"
     ]
    },
    {
     "name": "stderr",
     "output_type": "stream",
     "text": [
      "/anaconda3/lib/python3.6/site-packages/lightgbm/engine.py:102: UserWarning: Found `num_iteration` in params. Will use it instead of argument\n",
      "  warnings.warn(\"Found `{}` in params. Will use it instead of argument\".format(alias))\n",
      "/anaconda3/lib/python3.6/site-packages/lightgbm/engine.py:107: UserWarning: Found `early_stopping` in params. Will use it instead of argument\n",
      "  warnings.warn(\"Found `{}` in params. Will use it instead of argument\".format(alias))\n"
     ]
    },
    {
     "name": "stdout",
     "output_type": "stream",
     "text": [
      "[1]\tvalid_0's l2: 4.41045\n",
      "Training until validation scores don't improve for 10 rounds.\n",
      "[2]\tvalid_0's l2: 4.04704\n",
      "[3]\tvalid_0's l2: 4.18496\n",
      "[4]\tvalid_0's l2: 4.231\n",
      "[5]\tvalid_0's l2: 4.39296\n",
      "[6]\tvalid_0's l2: 4.4079\n",
      "[7]\tvalid_0's l2: 4.4441\n",
      "[8]\tvalid_0's l2: 4.51679\n",
      "[9]\tvalid_0's l2: 4.57296\n",
      "[10]\tvalid_0's l2: 4.55447\n",
      "[11]\tvalid_0's l2: 4.56173\n",
      "[12]\tvalid_0's l2: 4.60158\n",
      "Early stopping, best iteration is:\n",
      "[2]\tvalid_0's l2: 4.04704\n"
     ]
    },
    {
     "name": "stderr",
     "output_type": "stream",
     "text": [
      "/anaconda3/lib/python3.6/site-packages/lightgbm/engine.py:102: UserWarning: Found `num_iteration` in params. Will use it instead of argument\n",
      "  warnings.warn(\"Found `{}` in params. Will use it instead of argument\".format(alias))\n",
      "/anaconda3/lib/python3.6/site-packages/lightgbm/engine.py:107: UserWarning: Found `early_stopping` in params. Will use it instead of argument\n",
      "  warnings.warn(\"Found `{}` in params. Will use it instead of argument\".format(alias))\n"
     ]
    },
    {
     "name": "stdout",
     "output_type": "stream",
     "text": [
      "[1]\tvalid_0's l2: 4.49085\n",
      "Training until validation scores don't improve for 10 rounds.\n",
      "[2]\tvalid_0's l2: 4.50521\n",
      "[3]\tvalid_0's l2: 4.3747\n",
      "[4]\tvalid_0's l2: 4.48609\n",
      "[5]\tvalid_0's l2: 4.63245\n",
      "[6]\tvalid_0's l2: 4.60782\n",
      "[7]\tvalid_0's l2: 4.5886\n",
      "[8]\tvalid_0's l2: 4.63318\n",
      "[9]\tvalid_0's l2: 4.64134\n",
      "[10]\tvalid_0's l2: 4.54811\n",
      "[11]\tvalid_0's l2: 4.5842\n",
      "[12]\tvalid_0's l2: 4.59141\n",
      "[13]\tvalid_0's l2: 4.65262\n",
      "Early stopping, best iteration is:\n",
      "[3]\tvalid_0's l2: 4.3747\n"
     ]
    },
    {
     "name": "stderr",
     "output_type": "stream",
     "text": [
      "/anaconda3/lib/python3.6/site-packages/lightgbm/engine.py:102: UserWarning: Found `num_iteration` in params. Will use it instead of argument\n",
      "  warnings.warn(\"Found `{}` in params. Will use it instead of argument\".format(alias))\n",
      "/anaconda3/lib/python3.6/site-packages/lightgbm/engine.py:107: UserWarning: Found `early_stopping` in params. Will use it instead of argument\n",
      "  warnings.warn(\"Found `{}` in params. Will use it instead of argument\".format(alias))\n"
     ]
    },
    {
     "name": "stdout",
     "output_type": "stream",
     "text": [
      "[1]\tvalid_0's l2: 4.44461\n",
      "Training until validation scores don't improve for 10 rounds.\n",
      "[2]\tvalid_0's l2: 4.46334\n",
      "[3]\tvalid_0's l2: 4.44977\n",
      "[4]\tvalid_0's l2: 4.5429\n",
      "[5]\tvalid_0's l2: 4.53375\n",
      "[6]\tvalid_0's l2: 4.49777\n",
      "[7]\tvalid_0's l2: 4.51059\n",
      "[8]\tvalid_0's l2: 4.3793\n",
      "[9]\tvalid_0's l2: 4.2657\n",
      "[10]\tvalid_0's l2: 4.34265\n",
      "[11]\tvalid_0's l2: 4.36718\n",
      "[12]\tvalid_0's l2: 4.40724\n",
      "[13]\tvalid_0's l2: 4.455\n",
      "[14]\tvalid_0's l2: 4.4501\n",
      "[15]\tvalid_0's l2: 4.65882\n",
      "[16]\tvalid_0's l2: 4.63648\n",
      "[17]\tvalid_0's l2: 4.58257\n",
      "[18]\tvalid_0's l2: 4.60759\n",
      "[19]\tvalid_0's l2: 4.59247\n",
      "Early stopping, best iteration is:\n",
      "[9]\tvalid_0's l2: 4.2657\n"
     ]
    },
    {
     "name": "stderr",
     "output_type": "stream",
     "text": [
      "/anaconda3/lib/python3.6/site-packages/lightgbm/engine.py:102: UserWarning: Found `num_iteration` in params. Will use it instead of argument\n",
      "  warnings.warn(\"Found `{}` in params. Will use it instead of argument\".format(alias))\n",
      "/anaconda3/lib/python3.6/site-packages/lightgbm/engine.py:107: UserWarning: Found `early_stopping` in params. Will use it instead of argument\n",
      "  warnings.warn(\"Found `{}` in params. Will use it instead of argument\".format(alias))\n"
     ]
    },
    {
     "name": "stdout",
     "output_type": "stream",
     "text": [
      "[1]\tvalid_0's l2: 4.47986\n",
      "Training until validation scores don't improve for 10 rounds.\n",
      "[2]\tvalid_0's l2: 4.21474\n",
      "[3]\tvalid_0's l2: 4.24997\n",
      "[4]\tvalid_0's l2: 4.47333\n",
      "[5]\tvalid_0's l2: 4.5695\n",
      "[6]\tvalid_0's l2: 4.5946\n",
      "[7]\tvalid_0's l2: 4.53758\n",
      "[8]\tvalid_0's l2: 4.55077\n",
      "[9]\tvalid_0's l2: 4.57149\n",
      "[10]\tvalid_0's l2: 4.54329\n",
      "[11]\tvalid_0's l2: 4.54135\n",
      "[12]\tvalid_0's l2: 4.55467\n",
      "Early stopping, best iteration is:\n",
      "[2]\tvalid_0's l2: 4.21474\n"
     ]
    },
    {
     "name": "stderr",
     "output_type": "stream",
     "text": [
      "/anaconda3/lib/python3.6/site-packages/lightgbm/engine.py:102: UserWarning: Found `num_iteration` in params. Will use it instead of argument\n",
      "  warnings.warn(\"Found `{}` in params. Will use it instead of argument\".format(alias))\n",
      "/anaconda3/lib/python3.6/site-packages/lightgbm/engine.py:107: UserWarning: Found `early_stopping` in params. Will use it instead of argument\n",
      "  warnings.warn(\"Found `{}` in params. Will use it instead of argument\".format(alias))\n"
     ]
    },
    {
     "name": "stdout",
     "output_type": "stream",
     "text": [
      "[1]\tvalid_0's l2: 4.48705\n",
      "Training until validation scores don't improve for 10 rounds.\n",
      "[2]\tvalid_0's l2: 4.23873\n",
      "[3]\tvalid_0's l2: 4.56426\n",
      "[4]\tvalid_0's l2: 4.62962\n",
      "[5]\tvalid_0's l2: 4.67983\n",
      "[6]\tvalid_0's l2: 4.63497\n",
      "[7]\tvalid_0's l2: 4.66232\n",
      "[8]\tvalid_0's l2: 4.6798\n",
      "[9]\tvalid_0's l2: 5.00761\n",
      "[10]\tvalid_0's l2: 5.00587\n",
      "[11]\tvalid_0's l2: 5.12274\n",
      "[12]\tvalid_0's l2: 5.10739\n",
      "Early stopping, best iteration is:\n",
      "[2]\tvalid_0's l2: 4.23873\n"
     ]
    },
    {
     "name": "stderr",
     "output_type": "stream",
     "text": [
      "/anaconda3/lib/python3.6/site-packages/lightgbm/engine.py:102: UserWarning: Found `num_iteration` in params. Will use it instead of argument\n",
      "  warnings.warn(\"Found `{}` in params. Will use it instead of argument\".format(alias))\n",
      "/anaconda3/lib/python3.6/site-packages/lightgbm/engine.py:107: UserWarning: Found `early_stopping` in params. Will use it instead of argument\n",
      "  warnings.warn(\"Found `{}` in params. Will use it instead of argument\".format(alias))\n"
     ]
    },
    {
     "name": "stdout",
     "output_type": "stream",
     "text": [
      "[1]\tvalid_0's l2: 4.46737\n",
      "Training until validation scores don't improve for 10 rounds.\n",
      "[2]\tvalid_0's l2: 4.19124\n",
      "[3]\tvalid_0's l2: 4.26065\n",
      "[4]\tvalid_0's l2: 4.4377\n",
      "[5]\tvalid_0's l2: 4.49766\n",
      "[6]\tvalid_0's l2: 4.47248\n",
      "[7]\tvalid_0's l2: 4.36588\n",
      "[8]\tvalid_0's l2: 4.46096\n",
      "[9]\tvalid_0's l2: 4.67906\n",
      "[10]\tvalid_0's l2: 4.73633\n",
      "[11]\tvalid_0's l2: 4.6115\n",
      "[12]\tvalid_0's l2: 4.61537\n",
      "Early stopping, best iteration is:\n",
      "[2]\tvalid_0's l2: 4.19124\n"
     ]
    },
    {
     "name": "stderr",
     "output_type": "stream",
     "text": [
      "/anaconda3/lib/python3.6/site-packages/lightgbm/engine.py:102: UserWarning: Found `num_iteration` in params. Will use it instead of argument\n",
      "  warnings.warn(\"Found `{}` in params. Will use it instead of argument\".format(alias))\n",
      "/anaconda3/lib/python3.6/site-packages/lightgbm/engine.py:107: UserWarning: Found `early_stopping` in params. Will use it instead of argument\n",
      "  warnings.warn(\"Found `{}` in params. Will use it instead of argument\".format(alias))\n"
     ]
    },
    {
     "name": "stdout",
     "output_type": "stream",
     "text": [
      "[1]\tvalid_0's l2: 4.40121\n",
      "Training until validation scores don't improve for 10 rounds.\n",
      "[2]\tvalid_0's l2: 4.23475\n",
      "[3]\tvalid_0's l2: 4.29759\n",
      "[4]\tvalid_0's l2: 4.21262\n",
      "[5]\tvalid_0's l2: 4.35506\n",
      "[6]\tvalid_0's l2: 4.42287\n",
      "[7]\tvalid_0's l2: 4.44671\n",
      "[8]\tvalid_0's l2: 4.45385\n",
      "[9]\tvalid_0's l2: 4.6045\n",
      "[10]\tvalid_0's l2: 4.61872\n",
      "[11]\tvalid_0's l2: 4.56466\n",
      "[12]\tvalid_0's l2: 4.58456\n",
      "[13]\tvalid_0's l2: 4.62071\n",
      "[14]\tvalid_0's l2: 4.64022\n",
      "Early stopping, best iteration is:\n",
      "[4]\tvalid_0's l2: 4.21262\n"
     ]
    },
    {
     "name": "stderr",
     "output_type": "stream",
     "text": [
      "/anaconda3/lib/python3.6/site-packages/lightgbm/engine.py:102: UserWarning: Found `num_iteration` in params. Will use it instead of argument\n",
      "  warnings.warn(\"Found `{}` in params. Will use it instead of argument\".format(alias))\n",
      "/anaconda3/lib/python3.6/site-packages/lightgbm/engine.py:107: UserWarning: Found `early_stopping` in params. Will use it instead of argument\n",
      "  warnings.warn(\"Found `{}` in params. Will use it instead of argument\".format(alias))\n"
     ]
    },
    {
     "name": "stdout",
     "output_type": "stream",
     "text": [
      "[1]\tvalid_0's l2: 4.51795\n",
      "Training until validation scores don't improve for 10 rounds.\n",
      "[2]\tvalid_0's l2: 4.47703\n",
      "[3]\tvalid_0's l2: 4.41511\n",
      "[4]\tvalid_0's l2: 4.75391\n",
      "[5]\tvalid_0's l2: 4.73674\n",
      "[6]\tvalid_0's l2: 4.44202\n",
      "[7]\tvalid_0's l2: 4.44598\n",
      "[8]\tvalid_0's l2: 4.36377\n",
      "[9]\tvalid_0's l2: 4.3676\n",
      "[10]\tvalid_0's l2: 4.34182\n",
      "[11]\tvalid_0's l2: 4.37555\n",
      "[12]\tvalid_0's l2: 4.39359\n",
      "[13]\tvalid_0's l2: 4.41351\n",
      "[14]\tvalid_0's l2: 4.38478\n",
      "[15]\tvalid_0's l2: 4.39633\n",
      "[16]\tvalid_0's l2: 4.41592\n",
      "[17]\tvalid_0's l2: 4.49529\n",
      "[18]\tvalid_0's l2: 4.50623\n",
      "[19]\tvalid_0's l2: 4.5147\n",
      "[20]\tvalid_0's l2: 4.51313\n",
      "Early stopping, best iteration is:\n",
      "[10]\tvalid_0's l2: 4.34182\n"
     ]
    },
    {
     "name": "stderr",
     "output_type": "stream",
     "text": [
      "/anaconda3/lib/python3.6/site-packages/lightgbm/engine.py:102: UserWarning: Found `num_iteration` in params. Will use it instead of argument\n",
      "  warnings.warn(\"Found `{}` in params. Will use it instead of argument\".format(alias))\n",
      "/anaconda3/lib/python3.6/site-packages/lightgbm/engine.py:107: UserWarning: Found `early_stopping` in params. Will use it instead of argument\n",
      "  warnings.warn(\"Found `{}` in params. Will use it instead of argument\".format(alias))\n"
     ]
    },
    {
     "name": "stdout",
     "output_type": "stream",
     "text": [
      "[1]\tvalid_0's l2: 4.25516\n",
      "Training until validation scores don't improve for 10 rounds.\n",
      "[2]\tvalid_0's l2: 4.42708\n",
      "[3]\tvalid_0's l2: 4.41066\n",
      "[4]\tvalid_0's l2: 4.5367\n",
      "[5]\tvalid_0's l2: 4.50656\n",
      "[6]\tvalid_0's l2: 4.53707\n",
      "[7]\tvalid_0's l2: 4.29613\n",
      "[8]\tvalid_0's l2: 4.33696\n",
      "[9]\tvalid_0's l2: 4.39258\n",
      "[10]\tvalid_0's l2: 4.36274\n",
      "[11]\tvalid_0's l2: 4.4119\n",
      "Early stopping, best iteration is:\n",
      "[1]\tvalid_0's l2: 4.25516\n"
     ]
    },
    {
     "name": "stderr",
     "output_type": "stream",
     "text": [
      "/anaconda3/lib/python3.6/site-packages/lightgbm/engine.py:102: UserWarning: Found `num_iteration` in params. Will use it instead of argument\n",
      "  warnings.warn(\"Found `{}` in params. Will use it instead of argument\".format(alias))\n",
      "/anaconda3/lib/python3.6/site-packages/lightgbm/engine.py:107: UserWarning: Found `early_stopping` in params. Will use it instead of argument\n",
      "  warnings.warn(\"Found `{}` in params. Will use it instead of argument\".format(alias))\n"
     ]
    },
    {
     "name": "stdout",
     "output_type": "stream",
     "text": [
      "[1]\tvalid_0's l2: 4.38884\n",
      "Training until validation scores don't improve for 10 rounds.\n",
      "[2]\tvalid_0's l2: 4.15163\n",
      "[3]\tvalid_0's l2: 4.03074\n",
      "[4]\tvalid_0's l2: 4.26236\n",
      "[5]\tvalid_0's l2: 4.34826\n",
      "[6]\tvalid_0's l2: 4.3286\n",
      "[7]\tvalid_0's l2: 4.35205\n",
      "[8]\tvalid_0's l2: 4.33928\n",
      "[9]\tvalid_0's l2: 4.27776\n",
      "[10]\tvalid_0's l2: 4.28302\n",
      "[11]\tvalid_0's l2: 4.29064\n",
      "[12]\tvalid_0's l2: 4.27212\n",
      "[13]\tvalid_0's l2: 4.5061\n",
      "Early stopping, best iteration is:\n",
      "[3]\tvalid_0's l2: 4.03074\n"
     ]
    },
    {
     "name": "stderr",
     "output_type": "stream",
     "text": [
      "/anaconda3/lib/python3.6/site-packages/lightgbm/engine.py:102: UserWarning: Found `num_iteration` in params. Will use it instead of argument\n",
      "  warnings.warn(\"Found `{}` in params. Will use it instead of argument\".format(alias))\n",
      "/anaconda3/lib/python3.6/site-packages/lightgbm/engine.py:107: UserWarning: Found `early_stopping` in params. Will use it instead of argument\n",
      "  warnings.warn(\"Found `{}` in params. Will use it instead of argument\".format(alias))\n"
     ]
    },
    {
     "name": "stdout",
     "output_type": "stream",
     "text": [
      "[1]\tvalid_0's l2: 4.497\n",
      "Training until validation scores don't improve for 10 rounds.\n",
      "[2]\tvalid_0's l2: 4.36128\n",
      "[3]\tvalid_0's l2: 4.33933\n",
      "[4]\tvalid_0's l2: 4.2708\n",
      "[5]\tvalid_0's l2: 4.28115\n",
      "[6]\tvalid_0's l2: 4.60627\n",
      "[7]\tvalid_0's l2: 4.60584\n",
      "[8]\tvalid_0's l2: 4.64346\n",
      "[9]\tvalid_0's l2: 4.65061\n",
      "[10]\tvalid_0's l2: 4.85394\n",
      "[11]\tvalid_0's l2: 4.87311\n",
      "[12]\tvalid_0's l2: 4.87789\n",
      "[13]\tvalid_0's l2: 4.90608\n",
      "[14]\tvalid_0's l2: 4.9234\n",
      "Early stopping, best iteration is:\n",
      "[4]\tvalid_0's l2: 4.2708\n"
     ]
    },
    {
     "name": "stderr",
     "output_type": "stream",
     "text": [
      "/anaconda3/lib/python3.6/site-packages/lightgbm/engine.py:102: UserWarning: Found `num_iteration` in params. Will use it instead of argument\n",
      "  warnings.warn(\"Found `{}` in params. Will use it instead of argument\".format(alias))\n",
      "/anaconda3/lib/python3.6/site-packages/lightgbm/engine.py:107: UserWarning: Found `early_stopping` in params. Will use it instead of argument\n",
      "  warnings.warn(\"Found `{}` in params. Will use it instead of argument\".format(alias))\n"
     ]
    },
    {
     "name": "stdout",
     "output_type": "stream",
     "text": [
      "[1]\tvalid_0's l2: 4.48699\n",
      "Training until validation scores don't improve for 10 rounds.\n",
      "[2]\tvalid_0's l2: 4.41091\n",
      "[3]\tvalid_0's l2: 4.13168\n",
      "[4]\tvalid_0's l2: 4.22275\n",
      "[5]\tvalid_0's l2: 4.35849\n",
      "[6]\tvalid_0's l2: 4.33726\n",
      "[7]\tvalid_0's l2: 4.38236\n",
      "[8]\tvalid_0's l2: 4.40202\n",
      "[9]\tvalid_0's l2: 4.35923\n",
      "[10]\tvalid_0's l2: 4.39597\n",
      "[11]\tvalid_0's l2: 4.37706\n",
      "[12]\tvalid_0's l2: 4.46029\n",
      "[13]\tvalid_0's l2: 4.45335\n",
      "Early stopping, best iteration is:\n",
      "[3]\tvalid_0's l2: 4.13168\n"
     ]
    },
    {
     "name": "stderr",
     "output_type": "stream",
     "text": [
      "/anaconda3/lib/python3.6/site-packages/lightgbm/engine.py:102: UserWarning: Found `num_iteration` in params. Will use it instead of argument\n",
      "  warnings.warn(\"Found `{}` in params. Will use it instead of argument\".format(alias))\n",
      "/anaconda3/lib/python3.6/site-packages/lightgbm/engine.py:107: UserWarning: Found `early_stopping` in params. Will use it instead of argument\n",
      "  warnings.warn(\"Found `{}` in params. Will use it instead of argument\".format(alias))\n"
     ]
    },
    {
     "name": "stdout",
     "output_type": "stream",
     "text": [
      "[1]\tvalid_0's l2: 4.50929\n",
      "Training until validation scores don't improve for 10 rounds.\n",
      "[2]\tvalid_0's l2: 4.12885\n",
      "[3]\tvalid_0's l2: 4.43911\n",
      "[4]\tvalid_0's l2: 4.65923\n",
      "[5]\tvalid_0's l2: 4.69725\n",
      "[6]\tvalid_0's l2: 4.71413\n",
      "[7]\tvalid_0's l2: 4.71438\n",
      "[8]\tvalid_0's l2: 4.69166\n",
      "[9]\tvalid_0's l2: 4.715\n",
      "[10]\tvalid_0's l2: 4.70147\n",
      "[11]\tvalid_0's l2: 4.72955\n",
      "[12]\tvalid_0's l2: 4.74359\n",
      "Early stopping, best iteration is:\n",
      "[2]\tvalid_0's l2: 4.12885\n"
     ]
    },
    {
     "name": "stderr",
     "output_type": "stream",
     "text": [
      "/anaconda3/lib/python3.6/site-packages/lightgbm/engine.py:102: UserWarning: Found `num_iteration` in params. Will use it instead of argument\n",
      "  warnings.warn(\"Found `{}` in params. Will use it instead of argument\".format(alias))\n",
      "/anaconda3/lib/python3.6/site-packages/lightgbm/engine.py:107: UserWarning: Found `early_stopping` in params. Will use it instead of argument\n",
      "  warnings.warn(\"Found `{}` in params. Will use it instead of argument\".format(alias))\n"
     ]
    },
    {
     "name": "stdout",
     "output_type": "stream",
     "text": [
      "[1]\tvalid_0's l2: 4.49331\n",
      "Training until validation scores don't improve for 10 rounds.\n",
      "[2]\tvalid_0's l2: 4.11746\n",
      "[3]\tvalid_0's l2: 4.55014\n",
      "[4]\tvalid_0's l2: 4.63859\n",
      "[5]\tvalid_0's l2: 4.72745\n",
      "[6]\tvalid_0's l2: 4.72142\n",
      "[7]\tvalid_0's l2: 4.68291\n",
      "[8]\tvalid_0's l2: 4.73343\n",
      "[9]\tvalid_0's l2: 4.75973\n",
      "[10]\tvalid_0's l2: 4.80954\n",
      "[11]\tvalid_0's l2: 4.86388\n",
      "[12]\tvalid_0's l2: 5.15022\n",
      "Early stopping, best iteration is:\n",
      "[2]\tvalid_0's l2: 4.11746\n"
     ]
    },
    {
     "name": "stderr",
     "output_type": "stream",
     "text": [
      "/anaconda3/lib/python3.6/site-packages/lightgbm/engine.py:102: UserWarning: Found `num_iteration` in params. Will use it instead of argument\n",
      "  warnings.warn(\"Found `{}` in params. Will use it instead of argument\".format(alias))\n",
      "/anaconda3/lib/python3.6/site-packages/lightgbm/engine.py:107: UserWarning: Found `early_stopping` in params. Will use it instead of argument\n",
      "  warnings.warn(\"Found `{}` in params. Will use it instead of argument\".format(alias))\n"
     ]
    },
    {
     "name": "stdout",
     "output_type": "stream",
     "text": [
      "[1]\tvalid_0's l2: 4.5122\n",
      "Training until validation scores don't improve for 10 rounds.\n",
      "[2]\tvalid_0's l2: 4.53571\n",
      "[3]\tvalid_0's l2: 4.70348\n",
      "[4]\tvalid_0's l2: 4.64528\n",
      "[5]\tvalid_0's l2: 4.54648\n",
      "[6]\tvalid_0's l2: 4.5262\n",
      "[7]\tvalid_0's l2: 4.54661\n",
      "[8]\tvalid_0's l2: 4.4738\n",
      "[9]\tvalid_0's l2: 4.55654\n",
      "[10]\tvalid_0's l2: 4.59908\n",
      "[11]\tvalid_0's l2: 4.6027\n",
      "[12]\tvalid_0's l2: 4.61119\n",
      "[13]\tvalid_0's l2: 4.63536\n",
      "[14]\tvalid_0's l2: 4.64149\n",
      "[15]\tvalid_0's l2: 4.68753\n",
      "[16]\tvalid_0's l2: 4.70712\n",
      "[17]\tvalid_0's l2: 4.75343\n",
      "[18]\tvalid_0's l2: 4.76741\n",
      "Early stopping, best iteration is:\n",
      "[8]\tvalid_0's l2: 4.4738\n"
     ]
    },
    {
     "name": "stderr",
     "output_type": "stream",
     "text": [
      "/anaconda3/lib/python3.6/site-packages/lightgbm/engine.py:102: UserWarning: Found `num_iteration` in params. Will use it instead of argument\n",
      "  warnings.warn(\"Found `{}` in params. Will use it instead of argument\".format(alias))\n",
      "/anaconda3/lib/python3.6/site-packages/lightgbm/engine.py:107: UserWarning: Found `early_stopping` in params. Will use it instead of argument\n",
      "  warnings.warn(\"Found `{}` in params. Will use it instead of argument\".format(alias))\n"
     ]
    },
    {
     "name": "stdout",
     "output_type": "stream",
     "text": [
      "[1]\tvalid_0's l2: 4.40121\n",
      "Training until validation scores don't improve for 10 rounds.\n",
      "[2]\tvalid_0's l2: 4.23475\n",
      "[3]\tvalid_0's l2: 4.29759\n",
      "[4]\tvalid_0's l2: 4.21262\n",
      "[5]\tvalid_0's l2: 4.35506\n",
      "[6]\tvalid_0's l2: 4.42287\n",
      "[7]\tvalid_0's l2: 4.44671\n",
      "[8]\tvalid_0's l2: 4.45385\n",
      "[9]\tvalid_0's l2: 4.6045\n",
      "[10]\tvalid_0's l2: 4.61872\n",
      "[11]\tvalid_0's l2: 4.56466\n",
      "[12]\tvalid_0's l2: 4.58456\n",
      "[13]\tvalid_0's l2: 4.62071\n",
      "[14]\tvalid_0's l2: 4.64022\n",
      "Early stopping, best iteration is:\n",
      "[4]\tvalid_0's l2: 4.21262\n"
     ]
    },
    {
     "name": "stderr",
     "output_type": "stream",
     "text": [
      "/anaconda3/lib/python3.6/site-packages/lightgbm/engine.py:102: UserWarning: Found `num_iteration` in params. Will use it instead of argument\n",
      "  warnings.warn(\"Found `{}` in params. Will use it instead of argument\".format(alias))\n",
      "/anaconda3/lib/python3.6/site-packages/lightgbm/engine.py:107: UserWarning: Found `early_stopping` in params. Will use it instead of argument\n",
      "  warnings.warn(\"Found `{}` in params. Will use it instead of argument\".format(alias))\n"
     ]
    },
    {
     "name": "stdout",
     "output_type": "stream",
     "text": [
      "[1]\tvalid_0's l2: 4.51795\n",
      "Training until validation scores don't improve for 10 rounds.\n",
      "[2]\tvalid_0's l2: 4.47703\n",
      "[3]\tvalid_0's l2: 4.41511\n",
      "[4]\tvalid_0's l2: 4.75391\n",
      "[5]\tvalid_0's l2: 4.73674\n",
      "[6]\tvalid_0's l2: 4.44202\n",
      "[7]\tvalid_0's l2: 4.44598\n",
      "[8]\tvalid_0's l2: 4.36377\n",
      "[9]\tvalid_0's l2: 4.3676\n",
      "[10]\tvalid_0's l2: 4.34182\n",
      "[11]\tvalid_0's l2: 4.37555\n",
      "[12]\tvalid_0's l2: 4.39359\n",
      "[13]\tvalid_0's l2: 4.41351\n",
      "[14]\tvalid_0's l2: 4.38478\n",
      "[15]\tvalid_0's l2: 4.39633\n",
      "[16]\tvalid_0's l2: 4.41592\n",
      "[17]\tvalid_0's l2: 4.49529\n",
      "[18]\tvalid_0's l2: 4.50623\n",
      "[19]\tvalid_0's l2: 4.5147\n",
      "[20]\tvalid_0's l2: 4.51313\n",
      "Early stopping, best iteration is:\n",
      "[10]\tvalid_0's l2: 4.34182\n"
     ]
    },
    {
     "name": "stderr",
     "output_type": "stream",
     "text": [
      "/anaconda3/lib/python3.6/site-packages/lightgbm/engine.py:102: UserWarning: Found `num_iteration` in params. Will use it instead of argument\n",
      "  warnings.warn(\"Found `{}` in params. Will use it instead of argument\".format(alias))\n",
      "/anaconda3/lib/python3.6/site-packages/lightgbm/engine.py:107: UserWarning: Found `early_stopping` in params. Will use it instead of argument\n",
      "  warnings.warn(\"Found `{}` in params. Will use it instead of argument\".format(alias))\n"
     ]
    },
    {
     "name": "stdout",
     "output_type": "stream",
     "text": [
      "[1]\tvalid_0's l2: 4.25516\n",
      "Training until validation scores don't improve for 10 rounds.\n",
      "[2]\tvalid_0's l2: 4.42708\n",
      "[3]\tvalid_0's l2: 4.41066\n",
      "[4]\tvalid_0's l2: 4.5367\n",
      "[5]\tvalid_0's l2: 4.50656\n",
      "[6]\tvalid_0's l2: 4.53707\n",
      "[7]\tvalid_0's l2: 4.29613\n",
      "[8]\tvalid_0's l2: 4.33696\n",
      "[9]\tvalid_0's l2: 4.39258\n",
      "[10]\tvalid_0's l2: 4.36274\n",
      "[11]\tvalid_0's l2: 4.4119\n",
      "Early stopping, best iteration is:\n",
      "[1]\tvalid_0's l2: 4.25516\n"
     ]
    },
    {
     "name": "stderr",
     "output_type": "stream",
     "text": [
      "/anaconda3/lib/python3.6/site-packages/lightgbm/engine.py:102: UserWarning: Found `num_iteration` in params. Will use it instead of argument\n",
      "  warnings.warn(\"Found `{}` in params. Will use it instead of argument\".format(alias))\n",
      "/anaconda3/lib/python3.6/site-packages/lightgbm/engine.py:107: UserWarning: Found `early_stopping` in params. Will use it instead of argument\n",
      "  warnings.warn(\"Found `{}` in params. Will use it instead of argument\".format(alias))\n"
     ]
    },
    {
     "name": "stdout",
     "output_type": "stream",
     "text": [
      "[1]\tvalid_0's l2: 4.38884\n",
      "Training until validation scores don't improve for 10 rounds.\n",
      "[2]\tvalid_0's l2: 4.15163\n",
      "[3]\tvalid_0's l2: 4.03074\n",
      "[4]\tvalid_0's l2: 4.26236\n",
      "[5]\tvalid_0's l2: 4.34826\n",
      "[6]\tvalid_0's l2: 4.3286\n",
      "[7]\tvalid_0's l2: 4.35205\n",
      "[8]\tvalid_0's l2: 4.33928\n",
      "[9]\tvalid_0's l2: 4.27776\n",
      "[10]\tvalid_0's l2: 4.28302\n",
      "[11]\tvalid_0's l2: 4.29064\n",
      "[12]\tvalid_0's l2: 4.27212\n",
      "[13]\tvalid_0's l2: 4.5061\n",
      "Early stopping, best iteration is:\n",
      "[3]\tvalid_0's l2: 4.03074\n"
     ]
    },
    {
     "name": "stderr",
     "output_type": "stream",
     "text": [
      "/anaconda3/lib/python3.6/site-packages/lightgbm/engine.py:102: UserWarning: Found `num_iteration` in params. Will use it instead of argument\n",
      "  warnings.warn(\"Found `{}` in params. Will use it instead of argument\".format(alias))\n",
      "/anaconda3/lib/python3.6/site-packages/lightgbm/engine.py:107: UserWarning: Found `early_stopping` in params. Will use it instead of argument\n",
      "  warnings.warn(\"Found `{}` in params. Will use it instead of argument\".format(alias))\n"
     ]
    },
    {
     "name": "stdout",
     "output_type": "stream",
     "text": [
      "[1]\tvalid_0's l2: 4.497\n",
      "Training until validation scores don't improve for 10 rounds.\n",
      "[2]\tvalid_0's l2: 4.36128\n",
      "[3]\tvalid_0's l2: 4.33933\n",
      "[4]\tvalid_0's l2: 4.2708\n",
      "[5]\tvalid_0's l2: 4.28115\n",
      "[6]\tvalid_0's l2: 4.60627\n",
      "[7]\tvalid_0's l2: 4.60584\n",
      "[8]\tvalid_0's l2: 4.64346\n",
      "[9]\tvalid_0's l2: 4.65061\n",
      "[10]\tvalid_0's l2: 4.85394\n",
      "[11]\tvalid_0's l2: 4.87311\n",
      "[12]\tvalid_0's l2: 4.87789\n",
      "[13]\tvalid_0's l2: 4.90608\n",
      "[14]\tvalid_0's l2: 4.9234\n",
      "Early stopping, best iteration is:\n",
      "[4]\tvalid_0's l2: 4.2708\n"
     ]
    },
    {
     "name": "stderr",
     "output_type": "stream",
     "text": [
      "/anaconda3/lib/python3.6/site-packages/lightgbm/engine.py:102: UserWarning: Found `num_iteration` in params. Will use it instead of argument\n",
      "  warnings.warn(\"Found `{}` in params. Will use it instead of argument\".format(alias))\n",
      "/anaconda3/lib/python3.6/site-packages/lightgbm/engine.py:107: UserWarning: Found `early_stopping` in params. Will use it instead of argument\n",
      "  warnings.warn(\"Found `{}` in params. Will use it instead of argument\".format(alias))\n"
     ]
    },
    {
     "name": "stdout",
     "output_type": "stream",
     "text": [
      "[1]\tvalid_0's l2: 4.48699\n",
      "Training until validation scores don't improve for 10 rounds.\n",
      "[2]\tvalid_0's l2: 4.41091\n",
      "[3]\tvalid_0's l2: 4.13168\n",
      "[4]\tvalid_0's l2: 4.22275\n",
      "[5]\tvalid_0's l2: 4.35849\n",
      "[6]\tvalid_0's l2: 4.33726\n",
      "[7]\tvalid_0's l2: 4.38236\n",
      "[8]\tvalid_0's l2: 4.40202\n",
      "[9]\tvalid_0's l2: 4.35923\n",
      "[10]\tvalid_0's l2: 4.39597\n",
      "[11]\tvalid_0's l2: 4.37706\n",
      "[12]\tvalid_0's l2: 4.46029\n",
      "[13]\tvalid_0's l2: 4.45335\n",
      "Early stopping, best iteration is:\n",
      "[3]\tvalid_0's l2: 4.13168\n"
     ]
    },
    {
     "name": "stderr",
     "output_type": "stream",
     "text": [
      "/anaconda3/lib/python3.6/site-packages/lightgbm/engine.py:102: UserWarning: Found `num_iteration` in params. Will use it instead of argument\n",
      "  warnings.warn(\"Found `{}` in params. Will use it instead of argument\".format(alias))\n",
      "/anaconda3/lib/python3.6/site-packages/lightgbm/engine.py:107: UserWarning: Found `early_stopping` in params. Will use it instead of argument\n",
      "  warnings.warn(\"Found `{}` in params. Will use it instead of argument\".format(alias))\n"
     ]
    },
    {
     "name": "stdout",
     "output_type": "stream",
     "text": [
      "[1]\tvalid_0's l2: 4.50929\n",
      "Training until validation scores don't improve for 10 rounds.\n",
      "[2]\tvalid_0's l2: 4.12885\n",
      "[3]\tvalid_0's l2: 4.43911\n",
      "[4]\tvalid_0's l2: 4.65923\n",
      "[5]\tvalid_0's l2: 4.69725\n",
      "[6]\tvalid_0's l2: 4.71413\n",
      "[7]\tvalid_0's l2: 4.71438\n",
      "[8]\tvalid_0's l2: 4.69166\n",
      "[9]\tvalid_0's l2: 4.715\n",
      "[10]\tvalid_0's l2: 4.70147\n",
      "[11]\tvalid_0's l2: 4.72955\n",
      "[12]\tvalid_0's l2: 4.74359\n",
      "Early stopping, best iteration is:\n",
      "[2]\tvalid_0's l2: 4.12885\n"
     ]
    },
    {
     "name": "stderr",
     "output_type": "stream",
     "text": [
      "/anaconda3/lib/python3.6/site-packages/lightgbm/engine.py:102: UserWarning: Found `num_iteration` in params. Will use it instead of argument\n",
      "  warnings.warn(\"Found `{}` in params. Will use it instead of argument\".format(alias))\n",
      "/anaconda3/lib/python3.6/site-packages/lightgbm/engine.py:107: UserWarning: Found `early_stopping` in params. Will use it instead of argument\n",
      "  warnings.warn(\"Found `{}` in params. Will use it instead of argument\".format(alias))\n"
     ]
    },
    {
     "name": "stdout",
     "output_type": "stream",
     "text": [
      "[1]\tvalid_0's l2: 4.49331\n",
      "Training until validation scores don't improve for 10 rounds.\n",
      "[2]\tvalid_0's l2: 4.11746\n",
      "[3]\tvalid_0's l2: 4.55014\n",
      "[4]\tvalid_0's l2: 4.63859\n",
      "[5]\tvalid_0's l2: 4.72745\n",
      "[6]\tvalid_0's l2: 4.72142\n",
      "[7]\tvalid_0's l2: 4.68291\n",
      "[8]\tvalid_0's l2: 4.73343\n",
      "[9]\tvalid_0's l2: 4.75973\n",
      "[10]\tvalid_0's l2: 4.80954\n",
      "[11]\tvalid_0's l2: 4.86388\n",
      "[12]\tvalid_0's l2: 5.15022\n",
      "Early stopping, best iteration is:\n",
      "[2]\tvalid_0's l2: 4.11746\n"
     ]
    },
    {
     "name": "stderr",
     "output_type": "stream",
     "text": [
      "/anaconda3/lib/python3.6/site-packages/lightgbm/engine.py:102: UserWarning: Found `num_iteration` in params. Will use it instead of argument\n",
      "  warnings.warn(\"Found `{}` in params. Will use it instead of argument\".format(alias))\n",
      "/anaconda3/lib/python3.6/site-packages/lightgbm/engine.py:107: UserWarning: Found `early_stopping` in params. Will use it instead of argument\n",
      "  warnings.warn(\"Found `{}` in params. Will use it instead of argument\".format(alias))\n"
     ]
    },
    {
     "name": "stdout",
     "output_type": "stream",
     "text": [
      "[1]\tvalid_0's l2: 4.5122\n",
      "Training until validation scores don't improve for 10 rounds.\n",
      "[2]\tvalid_0's l2: 4.53571\n",
      "[3]\tvalid_0's l2: 4.70348\n",
      "[4]\tvalid_0's l2: 4.64528\n",
      "[5]\tvalid_0's l2: 4.54648\n",
      "[6]\tvalid_0's l2: 4.5262\n",
      "[7]\tvalid_0's l2: 4.54661\n",
      "[8]\tvalid_0's l2: 4.4738\n",
      "[9]\tvalid_0's l2: 4.55654\n",
      "[10]\tvalid_0's l2: 4.59908\n",
      "[11]\tvalid_0's l2: 4.6027\n",
      "[12]\tvalid_0's l2: 4.61119\n",
      "[13]\tvalid_0's l2: 4.63536\n",
      "[14]\tvalid_0's l2: 4.64149\n",
      "[15]\tvalid_0's l2: 4.68753\n",
      "[16]\tvalid_0's l2: 4.70712\n",
      "[17]\tvalid_0's l2: 4.75343\n",
      "[18]\tvalid_0's l2: 4.76741\n",
      "Early stopping, best iteration is:\n",
      "[8]\tvalid_0's l2: 4.4738\n"
     ]
    },
    {
     "name": "stderr",
     "output_type": "stream",
     "text": [
      "/anaconda3/lib/python3.6/site-packages/lightgbm/engine.py:102: UserWarning: Found `num_iteration` in params. Will use it instead of argument\n",
      "  warnings.warn(\"Found `{}` in params. Will use it instead of argument\".format(alias))\n",
      "/anaconda3/lib/python3.6/site-packages/lightgbm/engine.py:107: UserWarning: Found `early_stopping` in params. Will use it instead of argument\n",
      "  warnings.warn(\"Found `{}` in params. Will use it instead of argument\".format(alias))\n"
     ]
    },
    {
     "name": "stdout",
     "output_type": "stream",
     "text": [
      "[1]\tvalid_0's l2: 4.40121\n",
      "Training until validation scores don't improve for 10 rounds.\n",
      "[2]\tvalid_0's l2: 4.23475\n",
      "[3]\tvalid_0's l2: 4.29759\n",
      "[4]\tvalid_0's l2: 4.21262\n",
      "[5]\tvalid_0's l2: 4.35166\n",
      "[6]\tvalid_0's l2: 4.44025\n",
      "[7]\tvalid_0's l2: 4.44747\n",
      "[8]\tvalid_0's l2: 4.45338\n",
      "[9]\tvalid_0's l2: 4.45616\n",
      "[10]\tvalid_0's l2: 4.47167\n",
      "[11]\tvalid_0's l2: 4.49762\n",
      "[12]\tvalid_0's l2: 4.51602\n",
      "[13]\tvalid_0's l2: 4.62787\n",
      "[14]\tvalid_0's l2: 4.63609\n",
      "Early stopping, best iteration is:\n",
      "[4]\tvalid_0's l2: 4.21262\n"
     ]
    },
    {
     "name": "stderr",
     "output_type": "stream",
     "text": [
      "/anaconda3/lib/python3.6/site-packages/lightgbm/engine.py:102: UserWarning: Found `num_iteration` in params. Will use it instead of argument\n",
      "  warnings.warn(\"Found `{}` in params. Will use it instead of argument\".format(alias))\n",
      "/anaconda3/lib/python3.6/site-packages/lightgbm/engine.py:107: UserWarning: Found `early_stopping` in params. Will use it instead of argument\n",
      "  warnings.warn(\"Found `{}` in params. Will use it instead of argument\".format(alias))\n"
     ]
    },
    {
     "name": "stdout",
     "output_type": "stream",
     "text": [
      "[1]\tvalid_0's l2: 4.51795\n",
      "Training until validation scores don't improve for 10 rounds.\n",
      "[2]\tvalid_0's l2: 4.47703\n",
      "[3]\tvalid_0's l2: 4.41225\n",
      "[4]\tvalid_0's l2: 4.75172\n",
      "[5]\tvalid_0's l2: 4.73088\n",
      "[6]\tvalid_0's l2: 4.42491\n",
      "[7]\tvalid_0's l2: 4.53901\n",
      "[8]\tvalid_0's l2: 4.54512\n",
      "[9]\tvalid_0's l2: 4.5619\n",
      "[10]\tvalid_0's l2: 4.60813\n",
      "[11]\tvalid_0's l2: 4.71148\n",
      "[12]\tvalid_0's l2: 4.71709\n",
      "[13]\tvalid_0's l2: 4.66759\n",
      "Early stopping, best iteration is:\n",
      "[3]\tvalid_0's l2: 4.41225\n"
     ]
    },
    {
     "name": "stderr",
     "output_type": "stream",
     "text": [
      "/anaconda3/lib/python3.6/site-packages/lightgbm/engine.py:102: UserWarning: Found `num_iteration` in params. Will use it instead of argument\n",
      "  warnings.warn(\"Found `{}` in params. Will use it instead of argument\".format(alias))\n",
      "/anaconda3/lib/python3.6/site-packages/lightgbm/engine.py:107: UserWarning: Found `early_stopping` in params. Will use it instead of argument\n",
      "  warnings.warn(\"Found `{}` in params. Will use it instead of argument\".format(alias))\n"
     ]
    },
    {
     "name": "stdout",
     "output_type": "stream",
     "text": [
      "[1]\tvalid_0's l2: 4.25516\n",
      "Training until validation scores don't improve for 10 rounds.\n",
      "[2]\tvalid_0's l2: 4.42708\n",
      "[3]\tvalid_0's l2: 4.41066\n",
      "[4]\tvalid_0's l2: 4.5367\n",
      "[5]\tvalid_0's l2: 4.49689\n",
      "[6]\tvalid_0's l2: 4.63434\n",
      "[7]\tvalid_0's l2: 4.64245\n",
      "[8]\tvalid_0's l2: 4.40231\n",
      "[9]\tvalid_0's l2: 4.44833\n",
      "[10]\tvalid_0's l2: 4.47319\n",
      "[11]\tvalid_0's l2: 4.52022\n",
      "Early stopping, best iteration is:\n",
      "[1]\tvalid_0's l2: 4.25516\n"
     ]
    },
    {
     "name": "stderr",
     "output_type": "stream",
     "text": [
      "/anaconda3/lib/python3.6/site-packages/lightgbm/engine.py:102: UserWarning: Found `num_iteration` in params. Will use it instead of argument\n",
      "  warnings.warn(\"Found `{}` in params. Will use it instead of argument\".format(alias))\n",
      "/anaconda3/lib/python3.6/site-packages/lightgbm/engine.py:107: UserWarning: Found `early_stopping` in params. Will use it instead of argument\n",
      "  warnings.warn(\"Found `{}` in params. Will use it instead of argument\".format(alias))\n"
     ]
    },
    {
     "name": "stdout",
     "output_type": "stream",
     "text": [
      "[1]\tvalid_0's l2: 4.38884\n",
      "Training until validation scores don't improve for 10 rounds.\n",
      "[2]\tvalid_0's l2: 4.15163\n",
      "[3]\tvalid_0's l2: 4.03074\n",
      "[4]\tvalid_0's l2: 4.26077\n",
      "[5]\tvalid_0's l2: 4.26835\n",
      "[6]\tvalid_0's l2: 4.29448\n",
      "[7]\tvalid_0's l2: 4.30286\n",
      "[8]\tvalid_0's l2: 4.31299\n",
      "[9]\tvalid_0's l2: 4.30834\n",
      "[10]\tvalid_0's l2: 4.56839\n",
      "[11]\tvalid_0's l2: 4.59084\n",
      "[12]\tvalid_0's l2: 4.58276\n",
      "[13]\tvalid_0's l2: 4.59175\n",
      "Early stopping, best iteration is:\n",
      "[3]\tvalid_0's l2: 4.03074\n"
     ]
    },
    {
     "name": "stderr",
     "output_type": "stream",
     "text": [
      "/anaconda3/lib/python3.6/site-packages/lightgbm/engine.py:102: UserWarning: Found `num_iteration` in params. Will use it instead of argument\n",
      "  warnings.warn(\"Found `{}` in params. Will use it instead of argument\".format(alias))\n",
      "/anaconda3/lib/python3.6/site-packages/lightgbm/engine.py:107: UserWarning: Found `early_stopping` in params. Will use it instead of argument\n",
      "  warnings.warn(\"Found `{}` in params. Will use it instead of argument\".format(alias))\n"
     ]
    },
    {
     "name": "stdout",
     "output_type": "stream",
     "text": [
      "[1]\tvalid_0's l2: 4.497\n",
      "Training until validation scores don't improve for 10 rounds.\n",
      "[2]\tvalid_0's l2: 4.36128\n",
      "[3]\tvalid_0's l2: 4.33933\n",
      "[4]\tvalid_0's l2: 4.26023\n",
      "[5]\tvalid_0's l2: 4.26964\n",
      "[6]\tvalid_0's l2: 4.159\n",
      "[7]\tvalid_0's l2: 4.65736\n",
      "[8]\tvalid_0's l2: 4.69795\n",
      "[9]\tvalid_0's l2: 4.66881\n",
      "[10]\tvalid_0's l2: 4.67462\n",
      "[11]\tvalid_0's l2: 4.69315\n",
      "[12]\tvalid_0's l2: 4.73463\n",
      "[13]\tvalid_0's l2: 4.7424\n",
      "[14]\tvalid_0's l2: 4.75267\n",
      "[15]\tvalid_0's l2: 4.74413\n",
      "[16]\tvalid_0's l2: 4.81781\n",
      "Early stopping, best iteration is:\n",
      "[6]\tvalid_0's l2: 4.159\n"
     ]
    },
    {
     "name": "stderr",
     "output_type": "stream",
     "text": [
      "/anaconda3/lib/python3.6/site-packages/lightgbm/engine.py:102: UserWarning: Found `num_iteration` in params. Will use it instead of argument\n",
      "  warnings.warn(\"Found `{}` in params. Will use it instead of argument\".format(alias))\n",
      "/anaconda3/lib/python3.6/site-packages/lightgbm/engine.py:107: UserWarning: Found `early_stopping` in params. Will use it instead of argument\n",
      "  warnings.warn(\"Found `{}` in params. Will use it instead of argument\".format(alias))\n"
     ]
    },
    {
     "name": "stdout",
     "output_type": "stream",
     "text": [
      "[1]\tvalid_0's l2: 4.48699\n",
      "Training until validation scores don't improve for 10 rounds.\n",
      "[2]\tvalid_0's l2: 4.41091\n",
      "[3]\tvalid_0's l2: 4.126\n",
      "[4]\tvalid_0's l2: 4.22602\n",
      "[5]\tvalid_0's l2: 4.37908\n",
      "[6]\tvalid_0's l2: 4.36739\n",
      "[7]\tvalid_0's l2: 4.79667\n",
      "[8]\tvalid_0's l2: 4.84079\n",
      "[9]\tvalid_0's l2: 4.85318\n",
      "[10]\tvalid_0's l2: 4.87016\n",
      "[11]\tvalid_0's l2: 4.87622\n",
      "[12]\tvalid_0's l2: 4.81118\n",
      "[13]\tvalid_0's l2: 4.82434\n",
      "Early stopping, best iteration is:\n",
      "[3]\tvalid_0's l2: 4.126\n"
     ]
    },
    {
     "name": "stderr",
     "output_type": "stream",
     "text": [
      "/anaconda3/lib/python3.6/site-packages/lightgbm/engine.py:102: UserWarning: Found `num_iteration` in params. Will use it instead of argument\n",
      "  warnings.warn(\"Found `{}` in params. Will use it instead of argument\".format(alias))\n",
      "/anaconda3/lib/python3.6/site-packages/lightgbm/engine.py:107: UserWarning: Found `early_stopping` in params. Will use it instead of argument\n",
      "  warnings.warn(\"Found `{}` in params. Will use it instead of argument\".format(alias))\n"
     ]
    },
    {
     "name": "stdout",
     "output_type": "stream",
     "text": [
      "[1]\tvalid_0's l2: 4.50929\n",
      "Training until validation scores don't improve for 10 rounds.\n",
      "[2]\tvalid_0's l2: 4.12885\n",
      "[3]\tvalid_0's l2: 4.44015\n",
      "[4]\tvalid_0's l2: 4.65704\n",
      "[5]\tvalid_0's l2: 4.69383\n",
      "[6]\tvalid_0's l2: 4.53132\n",
      "[7]\tvalid_0's l2: 4.64857\n",
      "[8]\tvalid_0's l2: 4.66975\n",
      "[9]\tvalid_0's l2: 4.67798\n",
      "[10]\tvalid_0's l2: 4.71143\n",
      "[11]\tvalid_0's l2: 4.71164\n",
      "[12]\tvalid_0's l2: 4.71651\n",
      "Early stopping, best iteration is:\n",
      "[2]\tvalid_0's l2: 4.12885\n"
     ]
    },
    {
     "name": "stderr",
     "output_type": "stream",
     "text": [
      "/anaconda3/lib/python3.6/site-packages/lightgbm/engine.py:102: UserWarning: Found `num_iteration` in params. Will use it instead of argument\n",
      "  warnings.warn(\"Found `{}` in params. Will use it instead of argument\".format(alias))\n",
      "/anaconda3/lib/python3.6/site-packages/lightgbm/engine.py:107: UserWarning: Found `early_stopping` in params. Will use it instead of argument\n",
      "  warnings.warn(\"Found `{}` in params. Will use it instead of argument\".format(alias))\n"
     ]
    },
    {
     "name": "stdout",
     "output_type": "stream",
     "text": [
      "[1]\tvalid_0's l2: 4.49331\n",
      "Training until validation scores don't improve for 10 rounds.\n",
      "[2]\tvalid_0's l2: 4.11746\n",
      "[3]\tvalid_0's l2: 4.55014\n",
      "[4]\tvalid_0's l2: 4.64143\n",
      "[5]\tvalid_0's l2: 4.75072\n",
      "[6]\tvalid_0's l2: 4.76821\n",
      "[7]\tvalid_0's l2: 4.77449\n",
      "[8]\tvalid_0's l2: 4.78915\n",
      "[9]\tvalid_0's l2: 4.78251\n",
      "[10]\tvalid_0's l2: 4.81294\n",
      "[11]\tvalid_0's l2: 4.88152\n",
      "[12]\tvalid_0's l2: 4.79429\n",
      "Early stopping, best iteration is:\n",
      "[2]\tvalid_0's l2: 4.11746\n"
     ]
    },
    {
     "name": "stderr",
     "output_type": "stream",
     "text": [
      "/anaconda3/lib/python3.6/site-packages/lightgbm/engine.py:102: UserWarning: Found `num_iteration` in params. Will use it instead of argument\n",
      "  warnings.warn(\"Found `{}` in params. Will use it instead of argument\".format(alias))\n",
      "/anaconda3/lib/python3.6/site-packages/lightgbm/engine.py:107: UserWarning: Found `early_stopping` in params. Will use it instead of argument\n",
      "  warnings.warn(\"Found `{}` in params. Will use it instead of argument\".format(alias))\n"
     ]
    },
    {
     "name": "stdout",
     "output_type": "stream",
     "text": [
      "[1]\tvalid_0's l2: 4.5122\n",
      "Training until validation scores don't improve for 10 rounds.\n",
      "[2]\tvalid_0's l2: 4.53571\n",
      "[3]\tvalid_0's l2: 4.70347\n",
      "[4]\tvalid_0's l2: 4.64065\n",
      "[5]\tvalid_0's l2: 4.64364\n",
      "[6]\tvalid_0's l2: 4.57977\n",
      "[7]\tvalid_0's l2: 4.68664\n",
      "[8]\tvalid_0's l2: 4.53491\n",
      "[9]\tvalid_0's l2: 4.69124\n",
      "[10]\tvalid_0's l2: 4.61431\n",
      "[11]\tvalid_0's l2: 4.61899\n",
      "Early stopping, best iteration is:\n",
      "[1]\tvalid_0's l2: 4.5122\n"
     ]
    },
    {
     "name": "stderr",
     "output_type": "stream",
     "text": [
      "/anaconda3/lib/python3.6/site-packages/lightgbm/engine.py:102: UserWarning: Found `num_iteration` in params. Will use it instead of argument\n",
      "  warnings.warn(\"Found `{}` in params. Will use it instead of argument\".format(alias))\n",
      "/anaconda3/lib/python3.6/site-packages/lightgbm/engine.py:107: UserWarning: Found `early_stopping` in params. Will use it instead of argument\n",
      "  warnings.warn(\"Found `{}` in params. Will use it instead of argument\".format(alias))\n"
     ]
    },
    {
     "name": "stdout",
     "output_type": "stream",
     "text": [
      "[1]\tvalid_0's l2: 4.40121\n",
      "Training until validation scores don't improve for 10 rounds.\n",
      "[2]\tvalid_0's l2: 4.23475\n",
      "[3]\tvalid_0's l2: 4.29759\n",
      "[4]\tvalid_0's l2: 4.21262\n",
      "[5]\tvalid_0's l2: 4.35166\n",
      "[6]\tvalid_0's l2: 4.44025\n",
      "[7]\tvalid_0's l2: 4.44747\n",
      "[8]\tvalid_0's l2: 4.45338\n",
      "[9]\tvalid_0's l2: 4.45616\n",
      "[10]\tvalid_0's l2: 4.47167\n",
      "[11]\tvalid_0's l2: 4.49762\n",
      "[12]\tvalid_0's l2: 4.51602\n",
      "[13]\tvalid_0's l2: 4.62787\n",
      "[14]\tvalid_0's l2: 4.63609\n",
      "Early stopping, best iteration is:\n",
      "[4]\tvalid_0's l2: 4.21262\n"
     ]
    },
    {
     "name": "stderr",
     "output_type": "stream",
     "text": [
      "/anaconda3/lib/python3.6/site-packages/lightgbm/engine.py:102: UserWarning: Found `num_iteration` in params. Will use it instead of argument\n",
      "  warnings.warn(\"Found `{}` in params. Will use it instead of argument\".format(alias))\n",
      "/anaconda3/lib/python3.6/site-packages/lightgbm/engine.py:107: UserWarning: Found `early_stopping` in params. Will use it instead of argument\n",
      "  warnings.warn(\"Found `{}` in params. Will use it instead of argument\".format(alias))\n"
     ]
    },
    {
     "name": "stdout",
     "output_type": "stream",
     "text": [
      "[1]\tvalid_0's l2: 4.51795\n",
      "Training until validation scores don't improve for 10 rounds.\n",
      "[2]\tvalid_0's l2: 4.47703\n",
      "[3]\tvalid_0's l2: 4.41225\n",
      "[4]\tvalid_0's l2: 4.75172\n",
      "[5]\tvalid_0's l2: 4.73088\n",
      "[6]\tvalid_0's l2: 4.42491\n",
      "[7]\tvalid_0's l2: 4.53901\n",
      "[8]\tvalid_0's l2: 4.54512\n",
      "[9]\tvalid_0's l2: 4.5619\n",
      "[10]\tvalid_0's l2: 4.60813\n",
      "[11]\tvalid_0's l2: 4.71148\n",
      "[12]\tvalid_0's l2: 4.71709\n",
      "[13]\tvalid_0's l2: 4.66759\n",
      "Early stopping, best iteration is:\n",
      "[3]\tvalid_0's l2: 4.41225\n"
     ]
    },
    {
     "name": "stderr",
     "output_type": "stream",
     "text": [
      "/anaconda3/lib/python3.6/site-packages/lightgbm/engine.py:102: UserWarning: Found `num_iteration` in params. Will use it instead of argument\n",
      "  warnings.warn(\"Found `{}` in params. Will use it instead of argument\".format(alias))\n",
      "/anaconda3/lib/python3.6/site-packages/lightgbm/engine.py:107: UserWarning: Found `early_stopping` in params. Will use it instead of argument\n",
      "  warnings.warn(\"Found `{}` in params. Will use it instead of argument\".format(alias))\n"
     ]
    },
    {
     "name": "stdout",
     "output_type": "stream",
     "text": [
      "[1]\tvalid_0's l2: 4.25516\n",
      "Training until validation scores don't improve for 10 rounds.\n",
      "[2]\tvalid_0's l2: 4.42708\n",
      "[3]\tvalid_0's l2: 4.41066\n",
      "[4]\tvalid_0's l2: 4.5367\n",
      "[5]\tvalid_0's l2: 4.49689\n",
      "[6]\tvalid_0's l2: 4.63434\n",
      "[7]\tvalid_0's l2: 4.64245\n",
      "[8]\tvalid_0's l2: 4.40231\n",
      "[9]\tvalid_0's l2: 4.44833\n",
      "[10]\tvalid_0's l2: 4.47319\n",
      "[11]\tvalid_0's l2: 4.52022\n",
      "Early stopping, best iteration is:\n",
      "[1]\tvalid_0's l2: 4.25516\n"
     ]
    },
    {
     "name": "stderr",
     "output_type": "stream",
     "text": [
      "/anaconda3/lib/python3.6/site-packages/lightgbm/engine.py:102: UserWarning: Found `num_iteration` in params. Will use it instead of argument\n",
      "  warnings.warn(\"Found `{}` in params. Will use it instead of argument\".format(alias))\n",
      "/anaconda3/lib/python3.6/site-packages/lightgbm/engine.py:107: UserWarning: Found `early_stopping` in params. Will use it instead of argument\n",
      "  warnings.warn(\"Found `{}` in params. Will use it instead of argument\".format(alias))\n"
     ]
    },
    {
     "name": "stdout",
     "output_type": "stream",
     "text": [
      "[1]\tvalid_0's l2: 4.38884\n",
      "Training until validation scores don't improve for 10 rounds.\n",
      "[2]\tvalid_0's l2: 4.15163\n",
      "[3]\tvalid_0's l2: 4.03074\n",
      "[4]\tvalid_0's l2: 4.26077\n",
      "[5]\tvalid_0's l2: 4.26835\n",
      "[6]\tvalid_0's l2: 4.29448\n",
      "[7]\tvalid_0's l2: 4.30286\n",
      "[8]\tvalid_0's l2: 4.31299\n",
      "[9]\tvalid_0's l2: 4.30834\n",
      "[10]\tvalid_0's l2: 4.56839\n",
      "[11]\tvalid_0's l2: 4.59084\n",
      "[12]\tvalid_0's l2: 4.58276\n",
      "[13]\tvalid_0's l2: 4.59175\n",
      "Early stopping, best iteration is:\n",
      "[3]\tvalid_0's l2: 4.03074\n"
     ]
    },
    {
     "name": "stderr",
     "output_type": "stream",
     "text": [
      "/anaconda3/lib/python3.6/site-packages/lightgbm/engine.py:102: UserWarning: Found `num_iteration` in params. Will use it instead of argument\n",
      "  warnings.warn(\"Found `{}` in params. Will use it instead of argument\".format(alias))\n",
      "/anaconda3/lib/python3.6/site-packages/lightgbm/engine.py:107: UserWarning: Found `early_stopping` in params. Will use it instead of argument\n",
      "  warnings.warn(\"Found `{}` in params. Will use it instead of argument\".format(alias))\n"
     ]
    },
    {
     "name": "stdout",
     "output_type": "stream",
     "text": [
      "[1]\tvalid_0's l2: 4.497\n",
      "Training until validation scores don't improve for 10 rounds.\n",
      "[2]\tvalid_0's l2: 4.36128\n",
      "[3]\tvalid_0's l2: 4.33933\n",
      "[4]\tvalid_0's l2: 4.26023\n",
      "[5]\tvalid_0's l2: 4.26964\n",
      "[6]\tvalid_0's l2: 4.159\n",
      "[7]\tvalid_0's l2: 4.65736\n",
      "[8]\tvalid_0's l2: 4.69795\n",
      "[9]\tvalid_0's l2: 4.66881\n",
      "[10]\tvalid_0's l2: 4.67462\n",
      "[11]\tvalid_0's l2: 4.69315\n",
      "[12]\tvalid_0's l2: 4.73463\n",
      "[13]\tvalid_0's l2: 4.7424\n",
      "[14]\tvalid_0's l2: 4.75267\n",
      "[15]\tvalid_0's l2: 4.74413\n",
      "[16]\tvalid_0's l2: 4.81781\n",
      "Early stopping, best iteration is:\n",
      "[6]\tvalid_0's l2: 4.159\n"
     ]
    },
    {
     "name": "stderr",
     "output_type": "stream",
     "text": [
      "/anaconda3/lib/python3.6/site-packages/lightgbm/engine.py:102: UserWarning: Found `num_iteration` in params. Will use it instead of argument\n",
      "  warnings.warn(\"Found `{}` in params. Will use it instead of argument\".format(alias))\n",
      "/anaconda3/lib/python3.6/site-packages/lightgbm/engine.py:107: UserWarning: Found `early_stopping` in params. Will use it instead of argument\n",
      "  warnings.warn(\"Found `{}` in params. Will use it instead of argument\".format(alias))\n"
     ]
    },
    {
     "name": "stdout",
     "output_type": "stream",
     "text": [
      "[1]\tvalid_0's l2: 4.48699\n",
      "Training until validation scores don't improve for 10 rounds.\n",
      "[2]\tvalid_0's l2: 4.41091\n",
      "[3]\tvalid_0's l2: 4.126\n",
      "[4]\tvalid_0's l2: 4.22602\n",
      "[5]\tvalid_0's l2: 4.37908\n",
      "[6]\tvalid_0's l2: 4.36739\n",
      "[7]\tvalid_0's l2: 4.79667\n",
      "[8]\tvalid_0's l2: 4.84079\n",
      "[9]\tvalid_0's l2: 4.85318\n",
      "[10]\tvalid_0's l2: 4.87016\n",
      "[11]\tvalid_0's l2: 4.87622\n",
      "[12]\tvalid_0's l2: 4.81118\n",
      "[13]\tvalid_0's l2: 4.82434\n",
      "Early stopping, best iteration is:\n",
      "[3]\tvalid_0's l2: 4.126\n"
     ]
    },
    {
     "name": "stderr",
     "output_type": "stream",
     "text": [
      "/anaconda3/lib/python3.6/site-packages/lightgbm/engine.py:102: UserWarning: Found `num_iteration` in params. Will use it instead of argument\n",
      "  warnings.warn(\"Found `{}` in params. Will use it instead of argument\".format(alias))\n",
      "/anaconda3/lib/python3.6/site-packages/lightgbm/engine.py:107: UserWarning: Found `early_stopping` in params. Will use it instead of argument\n",
      "  warnings.warn(\"Found `{}` in params. Will use it instead of argument\".format(alias))\n"
     ]
    },
    {
     "name": "stdout",
     "output_type": "stream",
     "text": [
      "[1]\tvalid_0's l2: 4.50929\n",
      "Training until validation scores don't improve for 10 rounds.\n",
      "[2]\tvalid_0's l2: 4.12885\n",
      "[3]\tvalid_0's l2: 4.44015\n",
      "[4]\tvalid_0's l2: 4.65704\n",
      "[5]\tvalid_0's l2: 4.69383\n",
      "[6]\tvalid_0's l2: 4.53132\n",
      "[7]\tvalid_0's l2: 4.64857\n",
      "[8]\tvalid_0's l2: 4.66975\n",
      "[9]\tvalid_0's l2: 4.67798\n",
      "[10]\tvalid_0's l2: 4.71143\n",
      "[11]\tvalid_0's l2: 4.71164\n",
      "[12]\tvalid_0's l2: 4.71651\n",
      "Early stopping, best iteration is:\n",
      "[2]\tvalid_0's l2: 4.12885\n"
     ]
    },
    {
     "name": "stderr",
     "output_type": "stream",
     "text": [
      "/anaconda3/lib/python3.6/site-packages/lightgbm/engine.py:102: UserWarning: Found `num_iteration` in params. Will use it instead of argument\n",
      "  warnings.warn(\"Found `{}` in params. Will use it instead of argument\".format(alias))\n",
      "/anaconda3/lib/python3.6/site-packages/lightgbm/engine.py:107: UserWarning: Found `early_stopping` in params. Will use it instead of argument\n",
      "  warnings.warn(\"Found `{}` in params. Will use it instead of argument\".format(alias))\n"
     ]
    },
    {
     "name": "stdout",
     "output_type": "stream",
     "text": [
      "[1]\tvalid_0's l2: 4.49331\n",
      "Training until validation scores don't improve for 10 rounds.\n",
      "[2]\tvalid_0's l2: 4.11746\n",
      "[3]\tvalid_0's l2: 4.55014\n",
      "[4]\tvalid_0's l2: 4.64143\n",
      "[5]\tvalid_0's l2: 4.75072\n",
      "[6]\tvalid_0's l2: 4.76821\n",
      "[7]\tvalid_0's l2: 4.77449\n",
      "[8]\tvalid_0's l2: 4.78915\n",
      "[9]\tvalid_0's l2: 4.78251\n",
      "[10]\tvalid_0's l2: 4.81294\n",
      "[11]\tvalid_0's l2: 4.88152\n",
      "[12]\tvalid_0's l2: 4.79429\n",
      "Early stopping, best iteration is:\n",
      "[2]\tvalid_0's l2: 4.11746\n"
     ]
    },
    {
     "name": "stderr",
     "output_type": "stream",
     "text": [
      "/anaconda3/lib/python3.6/site-packages/lightgbm/engine.py:102: UserWarning: Found `num_iteration` in params. Will use it instead of argument\n",
      "  warnings.warn(\"Found `{}` in params. Will use it instead of argument\".format(alias))\n",
      "/anaconda3/lib/python3.6/site-packages/lightgbm/engine.py:107: UserWarning: Found `early_stopping` in params. Will use it instead of argument\n",
      "  warnings.warn(\"Found `{}` in params. Will use it instead of argument\".format(alias))\n"
     ]
    },
    {
     "name": "stdout",
     "output_type": "stream",
     "text": [
      "[1]\tvalid_0's l2: 4.5122\n",
      "Training until validation scores don't improve for 10 rounds.\n",
      "[2]\tvalid_0's l2: 4.53571\n",
      "[3]\tvalid_0's l2: 4.70347\n",
      "[4]\tvalid_0's l2: 4.64065\n",
      "[5]\tvalid_0's l2: 4.64364\n",
      "[6]\tvalid_0's l2: 4.57977\n",
      "[7]\tvalid_0's l2: 4.68664\n",
      "[8]\tvalid_0's l2: 4.53491\n",
      "[9]\tvalid_0's l2: 4.69124\n",
      "[10]\tvalid_0's l2: 4.61431\n",
      "[11]\tvalid_0's l2: 4.61899\n",
      "Early stopping, best iteration is:\n",
      "[1]\tvalid_0's l2: 4.5122\n"
     ]
    },
    {
     "name": "stderr",
     "output_type": "stream",
     "text": [
      "/anaconda3/lib/python3.6/site-packages/lightgbm/engine.py:102: UserWarning: Found `num_iteration` in params. Will use it instead of argument\n",
      "  warnings.warn(\"Found `{}` in params. Will use it instead of argument\".format(alias))\n",
      "/anaconda3/lib/python3.6/site-packages/lightgbm/engine.py:107: UserWarning: Found `early_stopping` in params. Will use it instead of argument\n",
      "  warnings.warn(\"Found `{}` in params. Will use it instead of argument\".format(alias))\n"
     ]
    },
    {
     "name": "stdout",
     "output_type": "stream",
     "text": [
      "[1]\tvalid_0's l2: 4.40121\n",
      "Training until validation scores don't improve for 10 rounds.\n",
      "[2]\tvalid_0's l2: 4.23475\n",
      "[3]\tvalid_0's l2: 4.29759\n",
      "[4]\tvalid_0's l2: 4.21262\n",
      "[5]\tvalid_0's l2: 4.35506\n",
      "[6]\tvalid_0's l2: 4.42287\n",
      "[7]\tvalid_0's l2: 4.44671\n",
      "[8]\tvalid_0's l2: 4.45385\n",
      "[9]\tvalid_0's l2: 4.6045\n",
      "[10]\tvalid_0's l2: 4.61872\n",
      "[11]\tvalid_0's l2: 4.56466\n",
      "[12]\tvalid_0's l2: 4.58456\n",
      "[13]\tvalid_0's l2: 4.62071\n",
      "[14]\tvalid_0's l2: 4.64022\n",
      "Early stopping, best iteration is:\n",
      "[4]\tvalid_0's l2: 4.21262\n"
     ]
    },
    {
     "name": "stderr",
     "output_type": "stream",
     "text": [
      "/anaconda3/lib/python3.6/site-packages/lightgbm/engine.py:102: UserWarning: Found `num_iteration` in params. Will use it instead of argument\n",
      "  warnings.warn(\"Found `{}` in params. Will use it instead of argument\".format(alias))\n",
      "/anaconda3/lib/python3.6/site-packages/lightgbm/engine.py:107: UserWarning: Found `early_stopping` in params. Will use it instead of argument\n",
      "  warnings.warn(\"Found `{}` in params. Will use it instead of argument\".format(alias))\n"
     ]
    },
    {
     "name": "stdout",
     "output_type": "stream",
     "text": [
      "[1]\tvalid_0's l2: 4.51795\n",
      "Training until validation scores don't improve for 10 rounds.\n",
      "[2]\tvalid_0's l2: 4.47703\n",
      "[3]\tvalid_0's l2: 4.41511\n",
      "[4]\tvalid_0's l2: 4.75391\n",
      "[5]\tvalid_0's l2: 4.73674\n",
      "[6]\tvalid_0's l2: 4.44202\n",
      "[7]\tvalid_0's l2: 4.44598\n",
      "[8]\tvalid_0's l2: 4.36377\n",
      "[9]\tvalid_0's l2: 4.3676\n",
      "[10]\tvalid_0's l2: 4.34182\n",
      "[11]\tvalid_0's l2: 4.37555\n",
      "[12]\tvalid_0's l2: 4.39359\n",
      "[13]\tvalid_0's l2: 4.41351\n",
      "[14]\tvalid_0's l2: 4.38478\n",
      "[15]\tvalid_0's l2: 4.39633\n",
      "[16]\tvalid_0's l2: 4.41592\n",
      "[17]\tvalid_0's l2: 4.49529\n",
      "[18]\tvalid_0's l2: 4.50623\n",
      "[19]\tvalid_0's l2: 4.5147\n",
      "[20]\tvalid_0's l2: 4.51313\n",
      "Early stopping, best iteration is:\n",
      "[10]\tvalid_0's l2: 4.34182\n"
     ]
    },
    {
     "name": "stderr",
     "output_type": "stream",
     "text": [
      "/anaconda3/lib/python3.6/site-packages/lightgbm/engine.py:102: UserWarning: Found `num_iteration` in params. Will use it instead of argument\n",
      "  warnings.warn(\"Found `{}` in params. Will use it instead of argument\".format(alias))\n",
      "/anaconda3/lib/python3.6/site-packages/lightgbm/engine.py:107: UserWarning: Found `early_stopping` in params. Will use it instead of argument\n",
      "  warnings.warn(\"Found `{}` in params. Will use it instead of argument\".format(alias))\n"
     ]
    },
    {
     "name": "stdout",
     "output_type": "stream",
     "text": [
      "[1]\tvalid_0's l2: 4.25516\n",
      "Training until validation scores don't improve for 10 rounds.\n",
      "[2]\tvalid_0's l2: 4.42708\n",
      "[3]\tvalid_0's l2: 4.41066\n",
      "[4]\tvalid_0's l2: 4.5367\n",
      "[5]\tvalid_0's l2: 4.50656\n",
      "[6]\tvalid_0's l2: 4.53707\n",
      "[7]\tvalid_0's l2: 4.29613\n",
      "[8]\tvalid_0's l2: 4.33696\n",
      "[9]\tvalid_0's l2: 4.39258\n",
      "[10]\tvalid_0's l2: 4.36274\n",
      "[11]\tvalid_0's l2: 4.4119\n",
      "Early stopping, best iteration is:\n",
      "[1]\tvalid_0's l2: 4.25516\n"
     ]
    },
    {
     "name": "stderr",
     "output_type": "stream",
     "text": [
      "/anaconda3/lib/python3.6/site-packages/lightgbm/engine.py:102: UserWarning: Found `num_iteration` in params. Will use it instead of argument\n",
      "  warnings.warn(\"Found `{}` in params. Will use it instead of argument\".format(alias))\n",
      "/anaconda3/lib/python3.6/site-packages/lightgbm/engine.py:107: UserWarning: Found `early_stopping` in params. Will use it instead of argument\n",
      "  warnings.warn(\"Found `{}` in params. Will use it instead of argument\".format(alias))\n"
     ]
    },
    {
     "name": "stdout",
     "output_type": "stream",
     "text": [
      "[1]\tvalid_0's l2: 4.38884\n",
      "Training until validation scores don't improve for 10 rounds.\n",
      "[2]\tvalid_0's l2: 4.15163\n",
      "[3]\tvalid_0's l2: 4.03074\n",
      "[4]\tvalid_0's l2: 4.26236\n",
      "[5]\tvalid_0's l2: 4.34826\n",
      "[6]\tvalid_0's l2: 4.3286\n",
      "[7]\tvalid_0's l2: 4.35205\n",
      "[8]\tvalid_0's l2: 4.33928\n",
      "[9]\tvalid_0's l2: 4.27776\n",
      "[10]\tvalid_0's l2: 4.28302\n",
      "[11]\tvalid_0's l2: 4.29064\n",
      "[12]\tvalid_0's l2: 4.27212\n",
      "[13]\tvalid_0's l2: 4.5061\n",
      "Early stopping, best iteration is:\n",
      "[3]\tvalid_0's l2: 4.03074\n"
     ]
    },
    {
     "name": "stderr",
     "output_type": "stream",
     "text": [
      "/anaconda3/lib/python3.6/site-packages/lightgbm/engine.py:102: UserWarning: Found `num_iteration` in params. Will use it instead of argument\n",
      "  warnings.warn(\"Found `{}` in params. Will use it instead of argument\".format(alias))\n",
      "/anaconda3/lib/python3.6/site-packages/lightgbm/engine.py:107: UserWarning: Found `early_stopping` in params. Will use it instead of argument\n",
      "  warnings.warn(\"Found `{}` in params. Will use it instead of argument\".format(alias))\n"
     ]
    },
    {
     "name": "stdout",
     "output_type": "stream",
     "text": [
      "[1]\tvalid_0's l2: 4.497\n",
      "Training until validation scores don't improve for 10 rounds.\n",
      "[2]\tvalid_0's l2: 4.36128\n",
      "[3]\tvalid_0's l2: 4.33933\n",
      "[4]\tvalid_0's l2: 4.2708\n",
      "[5]\tvalid_0's l2: 4.28115\n",
      "[6]\tvalid_0's l2: 4.60627\n",
      "[7]\tvalid_0's l2: 4.60584\n",
      "[8]\tvalid_0's l2: 4.64346\n",
      "[9]\tvalid_0's l2: 4.65061\n",
      "[10]\tvalid_0's l2: 4.85394\n",
      "[11]\tvalid_0's l2: 4.87311\n",
      "[12]\tvalid_0's l2: 4.87789\n",
      "[13]\tvalid_0's l2: 4.90608\n",
      "[14]\tvalid_0's l2: 4.9234\n",
      "Early stopping, best iteration is:\n",
      "[4]\tvalid_0's l2: 4.2708\n"
     ]
    },
    {
     "name": "stderr",
     "output_type": "stream",
     "text": [
      "/anaconda3/lib/python3.6/site-packages/lightgbm/engine.py:102: UserWarning: Found `num_iteration` in params. Will use it instead of argument\n",
      "  warnings.warn(\"Found `{}` in params. Will use it instead of argument\".format(alias))\n",
      "/anaconda3/lib/python3.6/site-packages/lightgbm/engine.py:107: UserWarning: Found `early_stopping` in params. Will use it instead of argument\n",
      "  warnings.warn(\"Found `{}` in params. Will use it instead of argument\".format(alias))\n"
     ]
    },
    {
     "name": "stdout",
     "output_type": "stream",
     "text": [
      "[1]\tvalid_0's l2: 4.48699\n",
      "Training until validation scores don't improve for 10 rounds.\n",
      "[2]\tvalid_0's l2: 4.41091\n",
      "[3]\tvalid_0's l2: 4.13168\n",
      "[4]\tvalid_0's l2: 4.22275\n",
      "[5]\tvalid_0's l2: 4.35849\n",
      "[6]\tvalid_0's l2: 4.33726\n",
      "[7]\tvalid_0's l2: 4.38236\n",
      "[8]\tvalid_0's l2: 4.40202\n",
      "[9]\tvalid_0's l2: 4.35923\n",
      "[10]\tvalid_0's l2: 4.39597\n",
      "[11]\tvalid_0's l2: 4.37706\n",
      "[12]\tvalid_0's l2: 4.46029\n",
      "[13]\tvalid_0's l2: 4.45335\n",
      "Early stopping, best iteration is:\n",
      "[3]\tvalid_0's l2: 4.13168\n"
     ]
    },
    {
     "name": "stderr",
     "output_type": "stream",
     "text": [
      "/anaconda3/lib/python3.6/site-packages/lightgbm/engine.py:102: UserWarning: Found `num_iteration` in params. Will use it instead of argument\n",
      "  warnings.warn(\"Found `{}` in params. Will use it instead of argument\".format(alias))\n",
      "/anaconda3/lib/python3.6/site-packages/lightgbm/engine.py:107: UserWarning: Found `early_stopping` in params. Will use it instead of argument\n",
      "  warnings.warn(\"Found `{}` in params. Will use it instead of argument\".format(alias))\n"
     ]
    },
    {
     "name": "stdout",
     "output_type": "stream",
     "text": [
      "[1]\tvalid_0's l2: 4.50929\n",
      "Training until validation scores don't improve for 10 rounds.\n",
      "[2]\tvalid_0's l2: 4.12885\n",
      "[3]\tvalid_0's l2: 4.43911\n",
      "[4]\tvalid_0's l2: 4.65923\n",
      "[5]\tvalid_0's l2: 4.69725\n",
      "[6]\tvalid_0's l2: 4.71413\n",
      "[7]\tvalid_0's l2: 4.71438\n",
      "[8]\tvalid_0's l2: 4.69166\n",
      "[9]\tvalid_0's l2: 4.715\n",
      "[10]\tvalid_0's l2: 4.70147\n",
      "[11]\tvalid_0's l2: 4.72955\n",
      "[12]\tvalid_0's l2: 4.74359\n",
      "Early stopping, best iteration is:\n",
      "[2]\tvalid_0's l2: 4.12885\n"
     ]
    },
    {
     "name": "stderr",
     "output_type": "stream",
     "text": [
      "/anaconda3/lib/python3.6/site-packages/lightgbm/engine.py:102: UserWarning: Found `num_iteration` in params. Will use it instead of argument\n",
      "  warnings.warn(\"Found `{}` in params. Will use it instead of argument\".format(alias))\n",
      "/anaconda3/lib/python3.6/site-packages/lightgbm/engine.py:107: UserWarning: Found `early_stopping` in params. Will use it instead of argument\n",
      "  warnings.warn(\"Found `{}` in params. Will use it instead of argument\".format(alias))\n"
     ]
    },
    {
     "name": "stdout",
     "output_type": "stream",
     "text": [
      "[1]\tvalid_0's l2: 4.49331\n",
      "Training until validation scores don't improve for 10 rounds.\n",
      "[2]\tvalid_0's l2: 4.11746\n",
      "[3]\tvalid_0's l2: 4.55014\n",
      "[4]\tvalid_0's l2: 4.63859\n",
      "[5]\tvalid_0's l2: 4.72745\n",
      "[6]\tvalid_0's l2: 4.72142\n",
      "[7]\tvalid_0's l2: 4.68291\n",
      "[8]\tvalid_0's l2: 4.73343\n",
      "[9]\tvalid_0's l2: 4.75973\n",
      "[10]\tvalid_0's l2: 4.80954\n",
      "[11]\tvalid_0's l2: 4.86388\n",
      "[12]\tvalid_0's l2: 5.15022\n",
      "Early stopping, best iteration is:\n",
      "[2]\tvalid_0's l2: 4.11746\n"
     ]
    },
    {
     "name": "stderr",
     "output_type": "stream",
     "text": [
      "/anaconda3/lib/python3.6/site-packages/lightgbm/engine.py:102: UserWarning: Found `num_iteration` in params. Will use it instead of argument\n",
      "  warnings.warn(\"Found `{}` in params. Will use it instead of argument\".format(alias))\n",
      "/anaconda3/lib/python3.6/site-packages/lightgbm/engine.py:107: UserWarning: Found `early_stopping` in params. Will use it instead of argument\n",
      "  warnings.warn(\"Found `{}` in params. Will use it instead of argument\".format(alias))\n"
     ]
    },
    {
     "name": "stdout",
     "output_type": "stream",
     "text": [
      "[1]\tvalid_0's l2: 4.5122\n",
      "Training until validation scores don't improve for 10 rounds.\n",
      "[2]\tvalid_0's l2: 4.53571\n",
      "[3]\tvalid_0's l2: 4.70348\n",
      "[4]\tvalid_0's l2: 4.64528\n",
      "[5]\tvalid_0's l2: 4.54648\n",
      "[6]\tvalid_0's l2: 4.5262\n",
      "[7]\tvalid_0's l2: 4.54661\n",
      "[8]\tvalid_0's l2: 4.4738\n",
      "[9]\tvalid_0's l2: 4.55654\n",
      "[10]\tvalid_0's l2: 4.59908\n",
      "[11]\tvalid_0's l2: 4.6027\n",
      "[12]\tvalid_0's l2: 4.61119\n",
      "[13]\tvalid_0's l2: 4.63536\n",
      "[14]\tvalid_0's l2: 4.64149\n",
      "[15]\tvalid_0's l2: 4.68753\n",
      "[16]\tvalid_0's l2: 4.70712\n",
      "[17]\tvalid_0's l2: 4.75343\n",
      "[18]\tvalid_0's l2: 4.76741\n",
      "Early stopping, best iteration is:\n",
      "[8]\tvalid_0's l2: 4.4738\n"
     ]
    },
    {
     "name": "stderr",
     "output_type": "stream",
     "text": [
      "/anaconda3/lib/python3.6/site-packages/lightgbm/engine.py:102: UserWarning: Found `num_iteration` in params. Will use it instead of argument\n",
      "  warnings.warn(\"Found `{}` in params. Will use it instead of argument\".format(alias))\n",
      "/anaconda3/lib/python3.6/site-packages/lightgbm/engine.py:107: UserWarning: Found `early_stopping` in params. Will use it instead of argument\n",
      "  warnings.warn(\"Found `{}` in params. Will use it instead of argument\".format(alias))\n"
     ]
    },
    {
     "name": "stdout",
     "output_type": "stream",
     "text": [
      "[1]\tvalid_0's l2: 4.40121\n",
      "Training until validation scores don't improve for 10 rounds.\n",
      "[2]\tvalid_0's l2: 4.23475\n",
      "[3]\tvalid_0's l2: 4.29759\n",
      "[4]\tvalid_0's l2: 4.21262\n",
      "[5]\tvalid_0's l2: 4.35506\n",
      "[6]\tvalid_0's l2: 4.42287\n",
      "[7]\tvalid_0's l2: 4.44671\n",
      "[8]\tvalid_0's l2: 4.45385\n",
      "[9]\tvalid_0's l2: 4.6045\n",
      "[10]\tvalid_0's l2: 4.61872\n",
      "[11]\tvalid_0's l2: 4.56466\n",
      "[12]\tvalid_0's l2: 4.58456\n",
      "[13]\tvalid_0's l2: 4.62071\n",
      "[14]\tvalid_0's l2: 4.64022\n",
      "Early stopping, best iteration is:\n",
      "[4]\tvalid_0's l2: 4.21262\n"
     ]
    },
    {
     "name": "stderr",
     "output_type": "stream",
     "text": [
      "/anaconda3/lib/python3.6/site-packages/lightgbm/engine.py:102: UserWarning: Found `num_iteration` in params. Will use it instead of argument\n",
      "  warnings.warn(\"Found `{}` in params. Will use it instead of argument\".format(alias))\n",
      "/anaconda3/lib/python3.6/site-packages/lightgbm/engine.py:107: UserWarning: Found `early_stopping` in params. Will use it instead of argument\n",
      "  warnings.warn(\"Found `{}` in params. Will use it instead of argument\".format(alias))\n"
     ]
    },
    {
     "name": "stdout",
     "output_type": "stream",
     "text": [
      "[1]\tvalid_0's l2: 4.51795\n",
      "Training until validation scores don't improve for 10 rounds.\n",
      "[2]\tvalid_0's l2: 4.47703\n",
      "[3]\tvalid_0's l2: 4.41511\n",
      "[4]\tvalid_0's l2: 4.75391\n",
      "[5]\tvalid_0's l2: 4.73674\n",
      "[6]\tvalid_0's l2: 4.44202\n",
      "[7]\tvalid_0's l2: 4.44598\n",
      "[8]\tvalid_0's l2: 4.36377\n",
      "[9]\tvalid_0's l2: 4.3676\n",
      "[10]\tvalid_0's l2: 4.34182\n",
      "[11]\tvalid_0's l2: 4.37555\n",
      "[12]\tvalid_0's l2: 4.39359\n",
      "[13]\tvalid_0's l2: 4.41351\n",
      "[14]\tvalid_0's l2: 4.38478\n",
      "[15]\tvalid_0's l2: 4.39633\n",
      "[16]\tvalid_0's l2: 4.41592\n",
      "[17]\tvalid_0's l2: 4.49529\n",
      "[18]\tvalid_0's l2: 4.50623\n",
      "[19]\tvalid_0's l2: 4.5147\n",
      "[20]\tvalid_0's l2: 4.51313\n",
      "Early stopping, best iteration is:\n",
      "[10]\tvalid_0's l2: 4.34182\n"
     ]
    },
    {
     "name": "stderr",
     "output_type": "stream",
     "text": [
      "/anaconda3/lib/python3.6/site-packages/lightgbm/engine.py:102: UserWarning: Found `num_iteration` in params. Will use it instead of argument\n",
      "  warnings.warn(\"Found `{}` in params. Will use it instead of argument\".format(alias))\n",
      "/anaconda3/lib/python3.6/site-packages/lightgbm/engine.py:107: UserWarning: Found `early_stopping` in params. Will use it instead of argument\n",
      "  warnings.warn(\"Found `{}` in params. Will use it instead of argument\".format(alias))\n"
     ]
    },
    {
     "name": "stdout",
     "output_type": "stream",
     "text": [
      "[1]\tvalid_0's l2: 4.25516\n",
      "Training until validation scores don't improve for 10 rounds.\n",
      "[2]\tvalid_0's l2: 4.42708\n",
      "[3]\tvalid_0's l2: 4.41066\n",
      "[4]\tvalid_0's l2: 4.5367\n",
      "[5]\tvalid_0's l2: 4.50656\n",
      "[6]\tvalid_0's l2: 4.53707\n",
      "[7]\tvalid_0's l2: 4.29613\n",
      "[8]\tvalid_0's l2: 4.33696\n",
      "[9]\tvalid_0's l2: 4.39258\n",
      "[10]\tvalid_0's l2: 4.36274\n",
      "[11]\tvalid_0's l2: 4.4119\n",
      "Early stopping, best iteration is:\n",
      "[1]\tvalid_0's l2: 4.25516\n"
     ]
    },
    {
     "name": "stderr",
     "output_type": "stream",
     "text": [
      "/anaconda3/lib/python3.6/site-packages/lightgbm/engine.py:102: UserWarning: Found `num_iteration` in params. Will use it instead of argument\n",
      "  warnings.warn(\"Found `{}` in params. Will use it instead of argument\".format(alias))\n",
      "/anaconda3/lib/python3.6/site-packages/lightgbm/engine.py:107: UserWarning: Found `early_stopping` in params. Will use it instead of argument\n",
      "  warnings.warn(\"Found `{}` in params. Will use it instead of argument\".format(alias))\n"
     ]
    },
    {
     "name": "stdout",
     "output_type": "stream",
     "text": [
      "[1]\tvalid_0's l2: 4.38884\n",
      "Training until validation scores don't improve for 10 rounds.\n",
      "[2]\tvalid_0's l2: 4.15163\n",
      "[3]\tvalid_0's l2: 4.03074\n",
      "[4]\tvalid_0's l2: 4.26236\n",
      "[5]\tvalid_0's l2: 4.34826\n",
      "[6]\tvalid_0's l2: 4.3286\n",
      "[7]\tvalid_0's l2: 4.35205\n",
      "[8]\tvalid_0's l2: 4.33928\n",
      "[9]\tvalid_0's l2: 4.27776\n",
      "[10]\tvalid_0's l2: 4.28302\n",
      "[11]\tvalid_0's l2: 4.29064\n",
      "[12]\tvalid_0's l2: 4.27212\n",
      "[13]\tvalid_0's l2: 4.5061\n",
      "Early stopping, best iteration is:\n",
      "[3]\tvalid_0's l2: 4.03074\n"
     ]
    },
    {
     "name": "stderr",
     "output_type": "stream",
     "text": [
      "/anaconda3/lib/python3.6/site-packages/lightgbm/engine.py:102: UserWarning: Found `num_iteration` in params. Will use it instead of argument\n",
      "  warnings.warn(\"Found `{}` in params. Will use it instead of argument\".format(alias))\n",
      "/anaconda3/lib/python3.6/site-packages/lightgbm/engine.py:107: UserWarning: Found `early_stopping` in params. Will use it instead of argument\n",
      "  warnings.warn(\"Found `{}` in params. Will use it instead of argument\".format(alias))\n"
     ]
    },
    {
     "name": "stdout",
     "output_type": "stream",
     "text": [
      "[1]\tvalid_0's l2: 4.497\n",
      "Training until validation scores don't improve for 10 rounds.\n",
      "[2]\tvalid_0's l2: 4.36128\n",
      "[3]\tvalid_0's l2: 4.33933\n",
      "[4]\tvalid_0's l2: 4.2708\n",
      "[5]\tvalid_0's l2: 4.28115\n",
      "[6]\tvalid_0's l2: 4.60627\n",
      "[7]\tvalid_0's l2: 4.60584\n",
      "[8]\tvalid_0's l2: 4.64346\n",
      "[9]\tvalid_0's l2: 4.65061\n",
      "[10]\tvalid_0's l2: 4.85394\n",
      "[11]\tvalid_0's l2: 4.87311\n",
      "[12]\tvalid_0's l2: 4.87789\n",
      "[13]\tvalid_0's l2: 4.90608\n",
      "[14]\tvalid_0's l2: 4.9234\n",
      "Early stopping, best iteration is:\n",
      "[4]\tvalid_0's l2: 4.2708\n"
     ]
    },
    {
     "name": "stderr",
     "output_type": "stream",
     "text": [
      "/anaconda3/lib/python3.6/site-packages/lightgbm/engine.py:102: UserWarning: Found `num_iteration` in params. Will use it instead of argument\n",
      "  warnings.warn(\"Found `{}` in params. Will use it instead of argument\".format(alias))\n",
      "/anaconda3/lib/python3.6/site-packages/lightgbm/engine.py:107: UserWarning: Found `early_stopping` in params. Will use it instead of argument\n",
      "  warnings.warn(\"Found `{}` in params. Will use it instead of argument\".format(alias))\n"
     ]
    },
    {
     "name": "stdout",
     "output_type": "stream",
     "text": [
      "[1]\tvalid_0's l2: 4.48699\n",
      "Training until validation scores don't improve for 10 rounds.\n",
      "[2]\tvalid_0's l2: 4.41091\n",
      "[3]\tvalid_0's l2: 4.13168\n",
      "[4]\tvalid_0's l2: 4.22275\n",
      "[5]\tvalid_0's l2: 4.35849\n",
      "[6]\tvalid_0's l2: 4.33726\n",
      "[7]\tvalid_0's l2: 4.38236\n",
      "[8]\tvalid_0's l2: 4.40202\n",
      "[9]\tvalid_0's l2: 4.35923\n",
      "[10]\tvalid_0's l2: 4.39597\n",
      "[11]\tvalid_0's l2: 4.37706\n",
      "[12]\tvalid_0's l2: 4.46029\n",
      "[13]\tvalid_0's l2: 4.45335\n",
      "Early stopping, best iteration is:\n",
      "[3]\tvalid_0's l2: 4.13168\n"
     ]
    },
    {
     "name": "stderr",
     "output_type": "stream",
     "text": [
      "/anaconda3/lib/python3.6/site-packages/lightgbm/engine.py:102: UserWarning: Found `num_iteration` in params. Will use it instead of argument\n",
      "  warnings.warn(\"Found `{}` in params. Will use it instead of argument\".format(alias))\n",
      "/anaconda3/lib/python3.6/site-packages/lightgbm/engine.py:107: UserWarning: Found `early_stopping` in params. Will use it instead of argument\n",
      "  warnings.warn(\"Found `{}` in params. Will use it instead of argument\".format(alias))\n"
     ]
    },
    {
     "name": "stdout",
     "output_type": "stream",
     "text": [
      "[1]\tvalid_0's l2: 4.50929\n",
      "Training until validation scores don't improve for 10 rounds.\n",
      "[2]\tvalid_0's l2: 4.12885\n",
      "[3]\tvalid_0's l2: 4.43911\n",
      "[4]\tvalid_0's l2: 4.65923\n",
      "[5]\tvalid_0's l2: 4.69725\n",
      "[6]\tvalid_0's l2: 4.71413\n",
      "[7]\tvalid_0's l2: 4.71438\n",
      "[8]\tvalid_0's l2: 4.69166\n",
      "[9]\tvalid_0's l2: 4.715\n",
      "[10]\tvalid_0's l2: 4.70147\n",
      "[11]\tvalid_0's l2: 4.72955\n",
      "[12]\tvalid_0's l2: 4.74359\n",
      "Early stopping, best iteration is:\n",
      "[2]\tvalid_0's l2: 4.12885\n"
     ]
    },
    {
     "name": "stderr",
     "output_type": "stream",
     "text": [
      "/anaconda3/lib/python3.6/site-packages/lightgbm/engine.py:102: UserWarning: Found `num_iteration` in params. Will use it instead of argument\n",
      "  warnings.warn(\"Found `{}` in params. Will use it instead of argument\".format(alias))\n",
      "/anaconda3/lib/python3.6/site-packages/lightgbm/engine.py:107: UserWarning: Found `early_stopping` in params. Will use it instead of argument\n",
      "  warnings.warn(\"Found `{}` in params. Will use it instead of argument\".format(alias))\n"
     ]
    },
    {
     "name": "stdout",
     "output_type": "stream",
     "text": [
      "[1]\tvalid_0's l2: 4.49331\n",
      "Training until validation scores don't improve for 10 rounds.\n",
      "[2]\tvalid_0's l2: 4.11746\n",
      "[3]\tvalid_0's l2: 4.55014\n",
      "[4]\tvalid_0's l2: 4.63859\n",
      "[5]\tvalid_0's l2: 4.72745\n",
      "[6]\tvalid_0's l2: 4.72142\n",
      "[7]\tvalid_0's l2: 4.68291\n",
      "[8]\tvalid_0's l2: 4.73343\n",
      "[9]\tvalid_0's l2: 4.75973\n",
      "[10]\tvalid_0's l2: 4.80954\n",
      "[11]\tvalid_0's l2: 4.86388\n",
      "[12]\tvalid_0's l2: 5.15022\n",
      "Early stopping, best iteration is:\n",
      "[2]\tvalid_0's l2: 4.11746\n"
     ]
    },
    {
     "name": "stderr",
     "output_type": "stream",
     "text": [
      "/anaconda3/lib/python3.6/site-packages/lightgbm/engine.py:102: UserWarning: Found `num_iteration` in params. Will use it instead of argument\n",
      "  warnings.warn(\"Found `{}` in params. Will use it instead of argument\".format(alias))\n",
      "/anaconda3/lib/python3.6/site-packages/lightgbm/engine.py:107: UserWarning: Found `early_stopping` in params. Will use it instead of argument\n",
      "  warnings.warn(\"Found `{}` in params. Will use it instead of argument\".format(alias))\n"
     ]
    },
    {
     "name": "stdout",
     "output_type": "stream",
     "text": [
      "[1]\tvalid_0's l2: 4.5122\n",
      "Training until validation scores don't improve for 10 rounds.\n",
      "[2]\tvalid_0's l2: 4.53571\n",
      "[3]\tvalid_0's l2: 4.70348\n",
      "[4]\tvalid_0's l2: 4.64528\n",
      "[5]\tvalid_0's l2: 4.54648\n",
      "[6]\tvalid_0's l2: 4.5262\n",
      "[7]\tvalid_0's l2: 4.54661\n",
      "[8]\tvalid_0's l2: 4.4738\n",
      "[9]\tvalid_0's l2: 4.55654\n",
      "[10]\tvalid_0's l2: 4.59908\n",
      "[11]\tvalid_0's l2: 4.6027\n",
      "[12]\tvalid_0's l2: 4.61119\n",
      "[13]\tvalid_0's l2: 4.63536\n",
      "[14]\tvalid_0's l2: 4.64149\n",
      "[15]\tvalid_0's l2: 4.68753\n",
      "[16]\tvalid_0's l2: 4.70712\n",
      "[17]\tvalid_0's l2: 4.75343\n",
      "[18]\tvalid_0's l2: 4.76741\n",
      "Early stopping, best iteration is:\n",
      "[8]\tvalid_0's l2: 4.4738\n"
     ]
    },
    {
     "name": "stderr",
     "output_type": "stream",
     "text": [
      "/anaconda3/lib/python3.6/site-packages/lightgbm/engine.py:102: UserWarning: Found `num_iteration` in params. Will use it instead of argument\n",
      "  warnings.warn(\"Found `{}` in params. Will use it instead of argument\".format(alias))\n",
      "/anaconda3/lib/python3.6/site-packages/lightgbm/engine.py:107: UserWarning: Found `early_stopping` in params. Will use it instead of argument\n",
      "  warnings.warn(\"Found `{}` in params. Will use it instead of argument\".format(alias))\n"
     ]
    },
    {
     "name": "stdout",
     "output_type": "stream",
     "text": [
      "[1]\tvalid_0's l2: 4.40121\n",
      "Training until validation scores don't improve for 10 rounds.\n",
      "[2]\tvalid_0's l2: 4.23475\n",
      "[3]\tvalid_0's l2: 4.29759\n",
      "[4]\tvalid_0's l2: 4.21262\n",
      "[5]\tvalid_0's l2: 4.35166\n",
      "[6]\tvalid_0's l2: 4.44025\n",
      "[7]\tvalid_0's l2: 4.44747\n",
      "[8]\tvalid_0's l2: 4.45338\n",
      "[9]\tvalid_0's l2: 4.45616\n",
      "[10]\tvalid_0's l2: 4.47167\n",
      "[11]\tvalid_0's l2: 4.49762\n",
      "[12]\tvalid_0's l2: 4.51602\n",
      "[13]\tvalid_0's l2: 4.62787\n",
      "[14]\tvalid_0's l2: 4.63609\n",
      "Early stopping, best iteration is:\n",
      "[4]\tvalid_0's l2: 4.21262\n"
     ]
    },
    {
     "name": "stderr",
     "output_type": "stream",
     "text": [
      "/anaconda3/lib/python3.6/site-packages/lightgbm/engine.py:102: UserWarning: Found `num_iteration` in params. Will use it instead of argument\n",
      "  warnings.warn(\"Found `{}` in params. Will use it instead of argument\".format(alias))\n",
      "/anaconda3/lib/python3.6/site-packages/lightgbm/engine.py:107: UserWarning: Found `early_stopping` in params. Will use it instead of argument\n",
      "  warnings.warn(\"Found `{}` in params. Will use it instead of argument\".format(alias))\n"
     ]
    },
    {
     "name": "stdout",
     "output_type": "stream",
     "text": [
      "[1]\tvalid_0's l2: 4.51795\n",
      "Training until validation scores don't improve for 10 rounds.\n",
      "[2]\tvalid_0's l2: 4.47703\n",
      "[3]\tvalid_0's l2: 4.41225\n",
      "[4]\tvalid_0's l2: 4.75172\n",
      "[5]\tvalid_0's l2: 4.73088\n",
      "[6]\tvalid_0's l2: 4.42491\n",
      "[7]\tvalid_0's l2: 4.53901\n",
      "[8]\tvalid_0's l2: 4.54512\n",
      "[9]\tvalid_0's l2: 4.5619\n",
      "[10]\tvalid_0's l2: 4.60813\n",
      "[11]\tvalid_0's l2: 4.71148\n",
      "[12]\tvalid_0's l2: 4.71709\n",
      "[13]\tvalid_0's l2: 4.66759\n",
      "Early stopping, best iteration is:\n",
      "[3]\tvalid_0's l2: 4.41225\n"
     ]
    },
    {
     "name": "stderr",
     "output_type": "stream",
     "text": [
      "/anaconda3/lib/python3.6/site-packages/lightgbm/engine.py:102: UserWarning: Found `num_iteration` in params. Will use it instead of argument\n",
      "  warnings.warn(\"Found `{}` in params. Will use it instead of argument\".format(alias))\n",
      "/anaconda3/lib/python3.6/site-packages/lightgbm/engine.py:107: UserWarning: Found `early_stopping` in params. Will use it instead of argument\n",
      "  warnings.warn(\"Found `{}` in params. Will use it instead of argument\".format(alias))\n"
     ]
    },
    {
     "name": "stdout",
     "output_type": "stream",
     "text": [
      "[1]\tvalid_0's l2: 4.25516\n",
      "Training until validation scores don't improve for 10 rounds.\n",
      "[2]\tvalid_0's l2: 4.42708\n",
      "[3]\tvalid_0's l2: 4.41066\n",
      "[4]\tvalid_0's l2: 4.5367\n",
      "[5]\tvalid_0's l2: 4.49689\n",
      "[6]\tvalid_0's l2: 4.63434\n",
      "[7]\tvalid_0's l2: 4.64245\n",
      "[8]\tvalid_0's l2: 4.40231\n",
      "[9]\tvalid_0's l2: 4.44833\n",
      "[10]\tvalid_0's l2: 4.47319\n",
      "[11]\tvalid_0's l2: 4.52022\n",
      "Early stopping, best iteration is:\n",
      "[1]\tvalid_0's l2: 4.25516\n"
     ]
    },
    {
     "name": "stderr",
     "output_type": "stream",
     "text": [
      "/anaconda3/lib/python3.6/site-packages/lightgbm/engine.py:102: UserWarning: Found `num_iteration` in params. Will use it instead of argument\n",
      "  warnings.warn(\"Found `{}` in params. Will use it instead of argument\".format(alias))\n",
      "/anaconda3/lib/python3.6/site-packages/lightgbm/engine.py:107: UserWarning: Found `early_stopping` in params. Will use it instead of argument\n",
      "  warnings.warn(\"Found `{}` in params. Will use it instead of argument\".format(alias))\n"
     ]
    },
    {
     "name": "stdout",
     "output_type": "stream",
     "text": [
      "[1]\tvalid_0's l2: 4.38884\n",
      "Training until validation scores don't improve for 10 rounds.\n",
      "[2]\tvalid_0's l2: 4.15163\n",
      "[3]\tvalid_0's l2: 4.03074\n",
      "[4]\tvalid_0's l2: 4.26077\n",
      "[5]\tvalid_0's l2: 4.26835\n",
      "[6]\tvalid_0's l2: 4.29448\n",
      "[7]\tvalid_0's l2: 4.30286\n",
      "[8]\tvalid_0's l2: 4.31299\n",
      "[9]\tvalid_0's l2: 4.30834\n",
      "[10]\tvalid_0's l2: 4.56839\n",
      "[11]\tvalid_0's l2: 4.59084\n",
      "[12]\tvalid_0's l2: 4.58276\n",
      "[13]\tvalid_0's l2: 4.59175\n",
      "Early stopping, best iteration is:\n",
      "[3]\tvalid_0's l2: 4.03074\n"
     ]
    },
    {
     "name": "stderr",
     "output_type": "stream",
     "text": [
      "/anaconda3/lib/python3.6/site-packages/lightgbm/engine.py:102: UserWarning: Found `num_iteration` in params. Will use it instead of argument\n",
      "  warnings.warn(\"Found `{}` in params. Will use it instead of argument\".format(alias))\n",
      "/anaconda3/lib/python3.6/site-packages/lightgbm/engine.py:107: UserWarning: Found `early_stopping` in params. Will use it instead of argument\n",
      "  warnings.warn(\"Found `{}` in params. Will use it instead of argument\".format(alias))\n"
     ]
    },
    {
     "name": "stdout",
     "output_type": "stream",
     "text": [
      "[1]\tvalid_0's l2: 4.497\n",
      "Training until validation scores don't improve for 10 rounds.\n",
      "[2]\tvalid_0's l2: 4.36128\n",
      "[3]\tvalid_0's l2: 4.33933\n",
      "[4]\tvalid_0's l2: 4.26023\n",
      "[5]\tvalid_0's l2: 4.26964\n",
      "[6]\tvalid_0's l2: 4.159\n",
      "[7]\tvalid_0's l2: 4.65736\n",
      "[8]\tvalid_0's l2: 4.69795\n",
      "[9]\tvalid_0's l2: 4.66881\n",
      "[10]\tvalid_0's l2: 4.67462\n",
      "[11]\tvalid_0's l2: 4.69315\n",
      "[12]\tvalid_0's l2: 4.73463\n",
      "[13]\tvalid_0's l2: 4.7424\n",
      "[14]\tvalid_0's l2: 4.75267\n",
      "[15]\tvalid_0's l2: 4.74413\n",
      "[16]\tvalid_0's l2: 4.81781\n",
      "Early stopping, best iteration is:\n",
      "[6]\tvalid_0's l2: 4.159\n"
     ]
    },
    {
     "name": "stderr",
     "output_type": "stream",
     "text": [
      "/anaconda3/lib/python3.6/site-packages/lightgbm/engine.py:102: UserWarning: Found `num_iteration` in params. Will use it instead of argument\n",
      "  warnings.warn(\"Found `{}` in params. Will use it instead of argument\".format(alias))\n",
      "/anaconda3/lib/python3.6/site-packages/lightgbm/engine.py:107: UserWarning: Found `early_stopping` in params. Will use it instead of argument\n",
      "  warnings.warn(\"Found `{}` in params. Will use it instead of argument\".format(alias))\n"
     ]
    },
    {
     "name": "stdout",
     "output_type": "stream",
     "text": [
      "[1]\tvalid_0's l2: 4.48699\n",
      "Training until validation scores don't improve for 10 rounds.\n",
      "[2]\tvalid_0's l2: 4.41091\n",
      "[3]\tvalid_0's l2: 4.126\n",
      "[4]\tvalid_0's l2: 4.22602\n",
      "[5]\tvalid_0's l2: 4.37908\n",
      "[6]\tvalid_0's l2: 4.36739\n",
      "[7]\tvalid_0's l2: 4.79667\n",
      "[8]\tvalid_0's l2: 4.84079\n",
      "[9]\tvalid_0's l2: 4.85318\n",
      "[10]\tvalid_0's l2: 4.87016\n",
      "[11]\tvalid_0's l2: 4.87622\n",
      "[12]\tvalid_0's l2: 4.81118\n",
      "[13]\tvalid_0's l2: 4.82434\n",
      "Early stopping, best iteration is:\n",
      "[3]\tvalid_0's l2: 4.126\n"
     ]
    },
    {
     "name": "stderr",
     "output_type": "stream",
     "text": [
      "/anaconda3/lib/python3.6/site-packages/lightgbm/engine.py:102: UserWarning: Found `num_iteration` in params. Will use it instead of argument\n",
      "  warnings.warn(\"Found `{}` in params. Will use it instead of argument\".format(alias))\n",
      "/anaconda3/lib/python3.6/site-packages/lightgbm/engine.py:107: UserWarning: Found `early_stopping` in params. Will use it instead of argument\n",
      "  warnings.warn(\"Found `{}` in params. Will use it instead of argument\".format(alias))\n"
     ]
    },
    {
     "name": "stdout",
     "output_type": "stream",
     "text": [
      "[1]\tvalid_0's l2: 4.50929\n",
      "Training until validation scores don't improve for 10 rounds.\n",
      "[2]\tvalid_0's l2: 4.12885\n",
      "[3]\tvalid_0's l2: 4.44015\n",
      "[4]\tvalid_0's l2: 4.65704\n",
      "[5]\tvalid_0's l2: 4.69383\n",
      "[6]\tvalid_0's l2: 4.53132\n",
      "[7]\tvalid_0's l2: 4.64857\n",
      "[8]\tvalid_0's l2: 4.66975\n",
      "[9]\tvalid_0's l2: 4.67798\n",
      "[10]\tvalid_0's l2: 4.71143\n",
      "[11]\tvalid_0's l2: 4.71164\n",
      "[12]\tvalid_0's l2: 4.71651\n",
      "Early stopping, best iteration is:\n",
      "[2]\tvalid_0's l2: 4.12885\n"
     ]
    },
    {
     "name": "stderr",
     "output_type": "stream",
     "text": [
      "/anaconda3/lib/python3.6/site-packages/lightgbm/engine.py:102: UserWarning: Found `num_iteration` in params. Will use it instead of argument\n",
      "  warnings.warn(\"Found `{}` in params. Will use it instead of argument\".format(alias))\n",
      "/anaconda3/lib/python3.6/site-packages/lightgbm/engine.py:107: UserWarning: Found `early_stopping` in params. Will use it instead of argument\n",
      "  warnings.warn(\"Found `{}` in params. Will use it instead of argument\".format(alias))\n"
     ]
    },
    {
     "name": "stdout",
     "output_type": "stream",
     "text": [
      "[1]\tvalid_0's l2: 4.49331\n",
      "Training until validation scores don't improve for 10 rounds.\n",
      "[2]\tvalid_0's l2: 4.11746\n",
      "[3]\tvalid_0's l2: 4.55014\n",
      "[4]\tvalid_0's l2: 4.64143\n",
      "[5]\tvalid_0's l2: 4.75072\n",
      "[6]\tvalid_0's l2: 4.76821\n",
      "[7]\tvalid_0's l2: 4.77449\n",
      "[8]\tvalid_0's l2: 4.78915\n",
      "[9]\tvalid_0's l2: 4.78251\n",
      "[10]\tvalid_0's l2: 4.81294\n",
      "[11]\tvalid_0's l2: 4.88152\n",
      "[12]\tvalid_0's l2: 4.79429\n",
      "Early stopping, best iteration is:\n",
      "[2]\tvalid_0's l2: 4.11746\n"
     ]
    },
    {
     "name": "stderr",
     "output_type": "stream",
     "text": [
      "/anaconda3/lib/python3.6/site-packages/lightgbm/engine.py:102: UserWarning: Found `num_iteration` in params. Will use it instead of argument\n",
      "  warnings.warn(\"Found `{}` in params. Will use it instead of argument\".format(alias))\n",
      "/anaconda3/lib/python3.6/site-packages/lightgbm/engine.py:107: UserWarning: Found `early_stopping` in params. Will use it instead of argument\n",
      "  warnings.warn(\"Found `{}` in params. Will use it instead of argument\".format(alias))\n"
     ]
    },
    {
     "name": "stdout",
     "output_type": "stream",
     "text": [
      "[1]\tvalid_0's l2: 4.5122\n",
      "Training until validation scores don't improve for 10 rounds.\n",
      "[2]\tvalid_0's l2: 4.53571\n",
      "[3]\tvalid_0's l2: 4.70347\n",
      "[4]\tvalid_0's l2: 4.64065\n",
      "[5]\tvalid_0's l2: 4.64364\n",
      "[6]\tvalid_0's l2: 4.57977\n",
      "[7]\tvalid_0's l2: 4.68664\n",
      "[8]\tvalid_0's l2: 4.53491\n",
      "[9]\tvalid_0's l2: 4.69124\n",
      "[10]\tvalid_0's l2: 4.61431\n",
      "[11]\tvalid_0's l2: 4.61899\n",
      "Early stopping, best iteration is:\n",
      "[1]\tvalid_0's l2: 4.5122\n"
     ]
    },
    {
     "name": "stderr",
     "output_type": "stream",
     "text": [
      "/anaconda3/lib/python3.6/site-packages/lightgbm/engine.py:102: UserWarning: Found `num_iteration` in params. Will use it instead of argument\n",
      "  warnings.warn(\"Found `{}` in params. Will use it instead of argument\".format(alias))\n",
      "/anaconda3/lib/python3.6/site-packages/lightgbm/engine.py:107: UserWarning: Found `early_stopping` in params. Will use it instead of argument\n",
      "  warnings.warn(\"Found `{}` in params. Will use it instead of argument\".format(alias))\n"
     ]
    }
   ],
   "source": [
    "model_gs.fit(train_data.data, train_data.label, eval_set=[(test_data.data, test_data.label)], early_stopping_rounds=10, eval_metric='mean_squared_error')"
   ]
  },
  {
   "cell_type": "code",
   "execution_count": null,
   "metadata": {},
   "outputs": [],
   "source": [
    "model_gs.best_estimator_\n",
    "model_gs.best_params_"
   ]
  },
  {
   "cell_type": "code",
   "execution_count": null,
   "metadata": {},
   "outputs": [],
   "source": [
    "y_pred = model_gs.predict(train_data.data)\n",
    "rmse = mean_squared_error(train_data.label, y_pred)\n",
    "print(\"Training RMSE:\")\n",
    "print(rmse)\n",
    "\n",
    "y_pred = model_gs.predict(eval_data.data)\n",
    "rmse = mean_squared_error(eval_data.label, y_pred)\n",
    "print(\"Eval RMSE:\")\n",
    "print(rmse)\n",
    "\n",
    "y_pred = model_gs.predict(test_data.data)"
   ]
  },
  {
   "cell_type": "code",
   "execution_count": null,
   "metadata": {},
   "outputs": [],
   "source": [
    "qa_test_df['Upvotes'] = np.exp(y_pred)"
   ]
  },
  {
   "cell_type": "code",
   "execution_count": null,
   "metadata": {},
   "outputs": [],
   "source": [
    "qa_test_df[['ID', 'Upvotes']].to_csv('final_submissions.csv', index=False)"
   ]
  }
 ],
 "metadata": {
  "kernelspec": {
   "display_name": "Python 3",
   "language": "python",
   "name": "python3"
  },
  "language_info": {
   "codemirror_mode": {
    "name": "ipython",
    "version": 3
   },
   "file_extension": ".py",
   "mimetype": "text/x-python",
   "name": "python",
   "nbconvert_exporter": "python",
   "pygments_lexer": "ipython3",
   "version": "3.6.4"
  }
 },
 "nbformat": 4,
 "nbformat_minor": 2
}
